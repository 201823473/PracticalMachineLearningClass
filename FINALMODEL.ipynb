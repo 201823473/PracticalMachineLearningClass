{
 "cells": [
  {
   "cell_type": "markdown",
   "metadata": {},
   "source": [
    "                                      PROYECTO TITANIC"
   ]
  },
  {
   "cell_type": "markdown",
   "metadata": {},
   "source": [
    "El proyecto Titanic busca identificar mediante una plataforma on-line, el mejor modelo predictivo, con respecto a la \n",
    "sobrevivencia, que caracterice de la mejor manera las personas sobrevivientes.  "
   ]
  },
  {
   "cell_type": "code",
   "execution_count": 41,
   "metadata": {
    "collapsed": false
   },
   "outputs": [
    {
     "data": {
      "text/html": [
       "<div>\n",
       "<table border=\"1\" class=\"dataframe\">\n",
       "  <thead>\n",
       "    <tr style=\"text-align: right;\">\n",
       "      <th></th>\n",
       "      <th>PassengerId</th>\n",
       "      <th>Survived</th>\n",
       "      <th>Pclass</th>\n",
       "      <th>Name</th>\n",
       "      <th>Sex</th>\n",
       "      <th>Age</th>\n",
       "      <th>SibSp</th>\n",
       "      <th>Parch</th>\n",
       "      <th>Ticket</th>\n",
       "      <th>Fare</th>\n",
       "      <th>Cabin</th>\n",
       "      <th>Embarked</th>\n",
       "    </tr>\n",
       "  </thead>\n",
       "  <tbody>\n",
       "    <tr>\n",
       "      <th>0</th>\n",
       "      <td>1</td>\n",
       "      <td>0</td>\n",
       "      <td>3</td>\n",
       "      <td>Braund, Mr. Owen Harris</td>\n",
       "      <td>male</td>\n",
       "      <td>22</td>\n",
       "      <td>1</td>\n",
       "      <td>0</td>\n",
       "      <td>A/5 21171</td>\n",
       "      <td>7.2500</td>\n",
       "      <td>NaN</td>\n",
       "      <td>S</td>\n",
       "    </tr>\n",
       "    <tr>\n",
       "      <th>1</th>\n",
       "      <td>2</td>\n",
       "      <td>1</td>\n",
       "      <td>1</td>\n",
       "      <td>Cumings, Mrs. John Bradley (Florence Briggs Th...</td>\n",
       "      <td>female</td>\n",
       "      <td>38</td>\n",
       "      <td>1</td>\n",
       "      <td>0</td>\n",
       "      <td>PC 17599</td>\n",
       "      <td>71.2833</td>\n",
       "      <td>C85</td>\n",
       "      <td>C</td>\n",
       "    </tr>\n",
       "    <tr>\n",
       "      <th>2</th>\n",
       "      <td>3</td>\n",
       "      <td>1</td>\n",
       "      <td>3</td>\n",
       "      <td>Heikkinen, Miss. Laina</td>\n",
       "      <td>female</td>\n",
       "      <td>26</td>\n",
       "      <td>0</td>\n",
       "      <td>0</td>\n",
       "      <td>STON/O2. 3101282</td>\n",
       "      <td>7.9250</td>\n",
       "      <td>NaN</td>\n",
       "      <td>S</td>\n",
       "    </tr>\n",
       "    <tr>\n",
       "      <th>3</th>\n",
       "      <td>4</td>\n",
       "      <td>1</td>\n",
       "      <td>1</td>\n",
       "      <td>Futrelle, Mrs. Jacques Heath (Lily May Peel)</td>\n",
       "      <td>female</td>\n",
       "      <td>35</td>\n",
       "      <td>1</td>\n",
       "      <td>0</td>\n",
       "      <td>113803</td>\n",
       "      <td>53.1000</td>\n",
       "      <td>C123</td>\n",
       "      <td>S</td>\n",
       "    </tr>\n",
       "    <tr>\n",
       "      <th>4</th>\n",
       "      <td>5</td>\n",
       "      <td>0</td>\n",
       "      <td>3</td>\n",
       "      <td>Allen, Mr. William Henry</td>\n",
       "      <td>male</td>\n",
       "      <td>35</td>\n",
       "      <td>0</td>\n",
       "      <td>0</td>\n",
       "      <td>373450</td>\n",
       "      <td>8.0500</td>\n",
       "      <td>NaN</td>\n",
       "      <td>S</td>\n",
       "    </tr>\n",
       "  </tbody>\n",
       "</table>\n",
       "</div>"
      ],
      "text/plain": [
       "   PassengerId  Survived  Pclass  \\\n",
       "0            1         0       3   \n",
       "1            2         1       1   \n",
       "2            3         1       3   \n",
       "3            4         1       1   \n",
       "4            5         0       3   \n",
       "\n",
       "                                                Name     Sex  Age  SibSp  \\\n",
       "0                            Braund, Mr. Owen Harris    male   22      1   \n",
       "1  Cumings, Mrs. John Bradley (Florence Briggs Th...  female   38      1   \n",
       "2                             Heikkinen, Miss. Laina  female   26      0   \n",
       "3       Futrelle, Mrs. Jacques Heath (Lily May Peel)  female   35      1   \n",
       "4                           Allen, Mr. William Henry    male   35      0   \n",
       "\n",
       "   Parch            Ticket     Fare Cabin Embarked  \n",
       "0      0         A/5 21171   7.2500   NaN        S  \n",
       "1      0          PC 17599  71.2833   C85        C  \n",
       "2      0  STON/O2. 3101282   7.9250   NaN        S  \n",
       "3      0            113803  53.1000  C123        S  \n",
       "4      0            373450   8.0500   NaN        S  "
      ]
     },
     "execution_count": 41,
     "metadata": {},
     "output_type": "execute_result"
    }
   ],
   "source": [
    "import pandas as pd\n",
    "import numpy as np\n",
    "\n",
    "train_df = pd.read_csv('titanic_train.csv', header=0)\n",
    "test_df = pd.read_csv('titanic_test.csv', header=0)\n",
    "train_df.head()"
   ]
  },
  {
   "cell_type": "markdown",
   "metadata": {},
   "source": [
    "Se lee la base titanic, la cual se encuentra dividida en dos parte train_df y tes_df, en la ultima no se encuentra la\n",
    "variable \"Survived\" respuesta ya que con esta se compara en la plataforma y se proporciona el accuaracy por parte de\n",
    "la misma."
   ]
  },
  {
   "cell_type": "markdown",
   "metadata": {},
   "source": [
    "La base se compone de las variables:\n",
    "    Passengerld : La cual es un identificador del pasajero.\n",
    "    Survived: Es una variable binario para identificar si la persona sobrevivio o no al accidente.\n",
    "    Pclass: Determina la clase a cual pertenecia el pasajero.\n",
    "    Name: Determina el nombre del pasajero.\n",
    "    Sex: Establece el genero del pasajero.\n",
    "    Age: Establece la edad del pasjero.\n",
    "    SibSp: Es el numero de hermanos y conyuges abordo.\n",
    "    Parch: Número de parientes o hijos abordo.\n",
    "    Fare:Costo del tikete\n",
    "    Cabin: Cabina de pasajeros.\n",
    "    Emb\n",
    "    "
   ]
  },
  {
   "cell_type": "code",
   "execution_count": 42,
   "metadata": {
    "collapsed": false
   },
   "outputs": [],
   "source": [
    "train_df.Age \n",
    "train_df.Age.mean()\n",
    "train_df.Age.fillna(train_df.Age.median(), inplace=True)\n",
    "\n",
    "train_df.Embarked.fillna(\"S\", inplace=True)\n",
    "train_df.Cabin.fillna(\"C\", inplace=True)"
   ]
  },
  {
   "cell_type": "code",
   "execution_count": 43,
   "metadata": {
    "collapsed": false
   },
   "outputs": [],
   "source": [
    "train_df.Age \n",
    "train_df.Age.mean()\n",
    "test_df.Age.fillna(test_df.Age.median(), inplace=True)\n",
    "\n",
    "test_df.Embarked.fillna(\"S\", inplace=True)\n",
    "test_df.Fare.fillna(train_df.Fare.mean(), inplace=True)\n",
    "test_df.Cabin.fillna(\"C\", inplace=True)\n"
   ]
  },
  {
   "cell_type": "markdown",
   "metadata": {},
   "source": [
    "Luego se imputa los datos faltantes en las variables Age, Cabin y Embarked en la base train_df y Fare en la base de test."
   ]
  },
  {
   "cell_type": "code",
   "execution_count": 44,
   "metadata": {
    "collapsed": true
   },
   "outputs": [],
   "source": [
    "train_df[\"mother\"]=0\n",
    "train_df[\"category\"]=0\n",
    "train_df[\"child\"]=0\n",
    "train_df[\"father\"]=0\n"
   ]
  },
  {
   "cell_type": "code",
   "execution_count": 45,
   "metadata": {
    "collapsed": false
   },
   "outputs": [],
   "source": [
    "train_df['Age2'] = train_df['Age'] ** 2\n",
    "train_df.ix[((train_df.Sex==\"female\")&(train_df.Parch>0)),\"mother\"]=1\n",
    "train_df.ix[(train_df.Sex==\"male\")&(train_df.Pclass==2),\"category\"]=1\n",
    "train_df.ix[(train_df.Sex==\"male\")&(train_df.Pclass==3),\"category\"]=2\n",
    "train_df.ix[(train_df.Age<=16),\"child\"]=1\n",
    "train_df.ix[((train_df.Parch>0)&(train_df.Sex==\"male\")),\"father\"]=1\n"
   ]
  },
  {
   "cell_type": "markdown",
   "metadata": {},
   "source": [
    "Se crean las siguientes variables:\n",
    "\n",
    "mother: Esta variable dummy toma el valor de 1 cuando se es mujer y se tiene un número de parientes o hijos mayor a cero\n",
    "es importante ya que la mayoria de mujeres y mas cuando eran madres se salvaron.\n",
    "                \n",
    "category: Esta variable toma el valor de 0 cuando se es hombre y la clase es 1, el valor de 1 cuando se es hombre y la \n",
    "clase es 2 , el valor de 2 cuando se es hombre y la clase es 3. Es importante ya que los hombres de mayor clase \n",
    "tenian prelacion ante los otros.\n",
    "          \n",
    "child: Esta variable toma el valor de 1 si se es menor de 16 años. Es importante porque los primeros en embarcar en los \n",
    "botes eran las mujeres y los niños.\n",
    "             \n",
    "     \n",
    "        "
   ]
  },
  {
   "cell_type": "markdown",
   "metadata": {},
   "source": [
    "father: Esta variable dummy toma el valor de 1 cuando se es hombre y se tiene un número de parientes o hijos mayor a cero\n",
    "           es importante ya que la mayoria de mujeres y mas cuando eran madres se salvaron. Es importante porque los hombres con \n",
    "           hijos podrian tener prelacion a los demas hombres."
   ]
  },
  {
   "cell_type": "code",
   "execution_count": 46,
   "metadata": {
    "collapsed": true
   },
   "outputs": [],
   "source": [
    "train_df[\"man_s\"]=0\n",
    "train_df.ix[((train_df.Pclass==3)&(train_df.father==1)),\"man_s\"]=1"
   ]
  },
  {
   "cell_type": "markdown",
   "metadata": {},
   "source": [
    "man_s: Esta variable toma el valor de 1 si se es padre y se pertenece a la clase 3. Es importante por que los hombres con hijos\n",
    "de la clase 3 tenian alta probabilidad de sobrevivir en los botes"
   ]
  },
  {
   "cell_type": "code",
   "execution_count": 47,
   "metadata": {
    "collapsed": true
   },
   "outputs": [],
   "source": [
    "\n",
    "embarked_dummies = pd.get_dummies(train_df.Embarked, prefix='Embarked')\n",
    "embarked_dummies.drop(embarked_dummies.columns[0], axis=1, inplace=True)\n",
    "train_df = pd.concat([train_df, embarked_dummies], axis=1)\n",
    "\n",
    "embarked_dummies = pd.get_dummies(train_df.Pclass, prefix='Pclass')\n",
    "embarked_dummies.drop(embarked_dummies.columns[0], axis=1, inplace=True)\n",
    "train_df = pd.concat([train_df, embarked_dummies], axis=1)\n",
    "\n",
    "embarked_dummies = pd.get_dummies(train_df.Sex, prefix='Sex')\n",
    "embarked_dummies.drop(embarked_dummies.columns[0], axis=1, inplace=True)\n",
    "train_df = pd.concat([train_df, embarked_dummies], axis=1)\n",
    "\n",
    "embarked_dummies = pd.get_dummies(train_df.category, prefix='category')\n",
    "embarked_dummies.drop(embarked_dummies.columns[0], axis=1, inplace=True)\n",
    "train_df = pd.concat([train_df, embarked_dummies], axis=1)\n"
   ]
  },
  {
   "cell_type": "code",
   "execution_count": 48,
   "metadata": {
    "collapsed": true
   },
   "outputs": [],
   "source": [
    "##### ahoras test"
   ]
  },
  {
   "cell_type": "code",
   "execution_count": 49,
   "metadata": {
    "collapsed": true
   },
   "outputs": [],
   "source": [
    "test_df[\"mother\"]=0\n",
    "test_df[\"category\"]=0\n",
    "test_df[\"child\"]=0\n",
    "test_df[\"father\"]=0"
   ]
  },
  {
   "cell_type": "code",
   "execution_count": 50,
   "metadata": {
    "collapsed": false
   },
   "outputs": [],
   "source": [
    "test_df['Age2'] = test_df['Age'] ** 2\n",
    "test_df.ix[((test_df.Sex==\"female\")&(test_df.Parch>0)),\"mother\"]=1\n",
    "test_df.ix[(test_df.Sex==\"male\")&(test_df.Pclass==2),\"category\"]=1\n",
    "test_df.ix[(test_df.Sex==\"male\")&(test_df.Pclass==3),\"category\"]=2\n",
    "test_df.ix[(test_df.Age<=16),\"child\"]=1  \n",
    "test_df.ix[((test_df.Parch>0)&(test_df.Sex==\"male\")),\"father\"]=1\n"
   ]
  },
  {
   "cell_type": "code",
   "execution_count": 51,
   "metadata": {
    "collapsed": true
   },
   "outputs": [],
   "source": [
    "test_df[\"man_s\"]=0\n",
    "test_df.ix[((test_df.Pclass==3)&(test_df.father==1)),\"man_s\"]=1"
   ]
  },
  {
   "cell_type": "code",
   "execution_count": 52,
   "metadata": {
    "collapsed": true
   },
   "outputs": [],
   "source": [
    "embarked_dummies = pd.get_dummies(test_df.Embarked, prefix='Embarked')\n",
    "embarked_dummies.drop(embarked_dummies.columns[0], axis=1, inplace=True)\n",
    "test_df = pd.concat([test_df, embarked_dummies], axis=1)\n",
    "\n",
    "embarked_dummies = pd.get_dummies(test_df.Pclass, prefix='Pclass')\n",
    "embarked_dummies.drop(embarked_dummies.columns[0], axis=1, inplace=True)\n",
    "test_df = pd.concat([test_df, embarked_dummies], axis=1)\n",
    "\n",
    "embarked_dummies = pd.get_dummies(test_df.Sex, prefix='Sex')\n",
    "embarked_dummies.drop(embarked_dummies.columns[0], axis=1, inplace=True)\n",
    "test_df = pd.concat([test_df, embarked_dummies], axis=1)\n",
    "\n",
    "embarked_dummies = pd.get_dummies(test_df.category, prefix='category')\n",
    "embarked_dummies.drop(embarked_dummies.columns[0], axis=1, inplace=True)\n",
    "test_df = pd.concat([test_df, embarked_dummies], axis=1)\n"
   ]
  },
  {
   "cell_type": "code",
   "execution_count": 53,
   "metadata": {
    "collapsed": true
   },
   "outputs": [],
   "source": [
    "test_df.ix[((test_df.Parch>0)&(test_df.Sex==\"male\")),\"father\"]=1\n"
   ]
  },
  {
   "cell_type": "code",
   "execution_count": 54,
   "metadata": {
    "collapsed": true
   },
   "outputs": [],
   "source": [
    "test_df[\"man_s\"]=0\n",
    "test_df.ix[((test_df.Pclass==3)&(test_df.father==1)),\"man_s\"]=1"
   ]
  },
  {
   "cell_type": "markdown",
   "metadata": {},
   "source": [
    "Se crean la dumys correspondientes a las variables definidas anteriormente, Embarked, Pclass, Sex, category."
   ]
  },
  {
   "cell_type": "code",
   "execution_count": 55,
   "metadata": {
    "collapsed": false
   },
   "outputs": [
    {
     "data": {
      "text/plain": [
       "Index(['PassengerId', 'Survived', 'Pclass', 'Name', 'Sex', 'Age', 'SibSp',\n",
       "       'Parch', 'Ticket', 'Fare', 'Cabin', 'Embarked', 'mother', 'category',\n",
       "       'child', 'father', 'Age2', 'man_s', 'Embarked_Q', 'Embarked_S',\n",
       "       'Pclass_2', 'Pclass_3', 'Sex_male', 'category_1', 'category_2'],\n",
       "      dtype='object')"
      ]
     },
     "execution_count": 55,
     "metadata": {},
     "output_type": "execute_result"
    }
   ],
   "source": [
    "train_df.head(1).columns"
   ]
  },
  {
   "cell_type": "code",
   "execution_count": 56,
   "metadata": {
    "collapsed": false
   },
   "outputs": [
    {
     "data": {
      "text/html": [
       "<div>\n",
       "<table border=\"1\" class=\"dataframe\">\n",
       "  <thead>\n",
       "    <tr style=\"text-align: right;\">\n",
       "      <th></th>\n",
       "      <th>PassengerId</th>\n",
       "      <th>Survived</th>\n",
       "      <th>Pclass</th>\n",
       "      <th>Name</th>\n",
       "      <th>Sex</th>\n",
       "      <th>Age</th>\n",
       "      <th>SibSp</th>\n",
       "      <th>Parch</th>\n",
       "      <th>Ticket</th>\n",
       "      <th>Fare</th>\n",
       "      <th>...</th>\n",
       "      <th>father</th>\n",
       "      <th>Age2</th>\n",
       "      <th>man_s</th>\n",
       "      <th>Embarked_Q</th>\n",
       "      <th>Embarked_S</th>\n",
       "      <th>Pclass_2</th>\n",
       "      <th>Pclass_3</th>\n",
       "      <th>Sex_male</th>\n",
       "      <th>category_1</th>\n",
       "      <th>category_2</th>\n",
       "    </tr>\n",
       "  </thead>\n",
       "  <tbody>\n",
       "    <tr>\n",
       "      <th>0</th>\n",
       "      <td>1</td>\n",
       "      <td>0</td>\n",
       "      <td>3</td>\n",
       "      <td>Braund, Mr. Owen Harris</td>\n",
       "      <td>male</td>\n",
       "      <td>22</td>\n",
       "      <td>1</td>\n",
       "      <td>0</td>\n",
       "      <td>A/5 21171</td>\n",
       "      <td>7.25</td>\n",
       "      <td>...</td>\n",
       "      <td>0</td>\n",
       "      <td>484</td>\n",
       "      <td>0</td>\n",
       "      <td>0</td>\n",
       "      <td>1</td>\n",
       "      <td>0</td>\n",
       "      <td>1</td>\n",
       "      <td>1</td>\n",
       "      <td>0</td>\n",
       "      <td>1</td>\n",
       "    </tr>\n",
       "  </tbody>\n",
       "</table>\n",
       "<p>1 rows × 25 columns</p>\n",
       "</div>"
      ],
      "text/plain": [
       "   PassengerId  Survived  Pclass                     Name   Sex  Age  SibSp  \\\n",
       "0            1         0       3  Braund, Mr. Owen Harris  male   22      1   \n",
       "\n",
       "   Parch     Ticket  Fare     ...     father Age2  man_s  Embarked_Q  \\\n",
       "0      0  A/5 21171  7.25     ...          0  484      0           0   \n",
       "\n",
       "   Embarked_S  Pclass_2  Pclass_3  Sex_male  category_1  category_2  \n",
       "0           1         0         1         1           0           1  \n",
       "\n",
       "[1 rows x 25 columns]"
      ]
     },
     "execution_count": 56,
     "metadata": {},
     "output_type": "execute_result"
    }
   ],
   "source": [
    "train_df.head(1)"
   ]
  },
  {
   "cell_type": "code",
   "execution_count": 57,
   "metadata": {
    "collapsed": false
   },
   "outputs": [
    {
     "name": "stdout",
     "output_type": "stream",
     "text": [
      "0.780269058296\n"
     ]
    }
   ],
   "source": [
    "y = train_df['Survived']\n",
    "features = ['Pclass', 'Age', 'SibSp','Parch','Fare', 'mother', 'category',\n",
    "       'child', 'father', 'Age2', 'man_s', 'Embarked_Q', 'Embarked_S',\n",
    "       'Pclass_2', 'Pclass_3', 'Sex_male', 'category_1', 'category_2']\n",
    "\n",
    "from sklearn.cross_validation import train_test_split\n",
    "X_train, X_test, y_train, y_test = train_test_split(train_df, y, random_state=1)\n",
    "\n",
    "from sklearn.linear_model import LogisticRegression\n",
    "logreg = LogisticRegression(C=1e9)\n",
    "logreg.fit(X_train[features], y_train)\n",
    "\n",
    "# make predictions for testing set\n",
    "y_pred_class = logreg.predict(X_test[features])\n",
    "\n",
    "# calculate testing accuracy\n",
    "from sklearn import metrics\n",
    "print(metrics.accuracy_score(y_test, y_pred_class))\n"
   ]
  },
  {
   "cell_type": "markdown",
   "metadata": {},
   "source": [
    "Se realiza una regresión con las variables correspondientes en la parte de arriba, denominadas features."
   ]
  },
  {
   "cell_type": "code",
   "execution_count": 58,
   "metadata": {
    "collapsed": false
   },
   "outputs": [
    {
     "data": {
      "text/plain": [
       "18"
      ]
     },
     "execution_count": 58,
     "metadata": {},
     "output_type": "execute_result"
    }
   ],
   "source": [
    "len(features)"
   ]
  },
  {
   "cell_type": "code",
   "execution_count": 59,
   "metadata": {
    "collapsed": false
   },
   "outputs": [
    {
     "name": "stdout",
     "output_type": "stream",
     "text": [
      "    accuracy\n",
      "0        NaN\n",
      "1   0.786698\n",
      "2   0.786698\n",
      "3   0.786698\n",
      "4    0.77334\n",
      "5    0.77334\n",
      "6   0.776711\n",
      "7   0.801355\n",
      "8   0.801355\n",
      "9   0.794639\n",
      "10  0.806999\n",
      "11  0.808135\n",
      "12  0.808135\n",
      "13  0.805862\n",
      "14   0.79806\n",
      "15  0.800282\n",
      "16  0.796886\n",
      "17  0.809259\n"
     ]
    }
   ],
   "source": [
    "from sklearn.linear_model import LogisticRegression\n",
    "from sklearn.cross_validation import cross_val_score\n",
    "logreg = LogisticRegression(C=1e9)\n",
    "import pandas as pd\n",
    "\n",
    "import numpy as np\n",
    "\n",
    "from sklearn.feature_selection import SelectKBest\n",
    "\n",
    "t=pd.DataFrame(index=range(18), columns=['accuracy'])\n",
    "\n",
    "for i in range(1,18):\n",
    "    sel = SelectKBest(k=i)\n",
    "    sel.fit(train_df[features], y)\n",
    "    sel.get_support()\n",
    "    X_sel = sel.transform(train_df[features])\n",
    "    t.loc[i]=pd.Series(cross_val_score(logreg, X_sel, y, cv=10, scoring='accuracy')).mean()\n",
    "\n",
    "print(t)"
   ]
  },
  {
   "cell_type": "markdown",
   "metadata": {},
   "source": [
    "Se seleccionan las variables que tiene mejor accuracy en el modelo."
   ]
  },
  {
   "cell_type": "code",
   "execution_count": 60,
   "metadata": {
    "collapsed": false
   },
   "outputs": [],
   "source": [
    "sel = SelectKBest(k=18)\n",
    "sel.fit(train_df[features], y)\n",
    "sel.get_support()\n",
    "X_sel = sel.transform(train_df[features])"
   ]
  },
  {
   "cell_type": "code",
   "execution_count": 61,
   "metadata": {
    "collapsed": false
   },
   "outputs": [],
   "source": [
    "from sklearn.linear_model import LogisticRegression\n",
    "logreg = LogisticRegression(C=1e9)\n",
    "logreg.fit(X_sel, y)\n",
    "\n",
    "X_sel_test= sel.transform(test_df[features])\n",
    "predict=logreg.predict(X_sel_test)\n"
   ]
  },
  {
   "cell_type": "markdown",
   "metadata": {},
   "source": [
    "Se crea la prediccion para la variable Survived y se guarda en un archivo csv."
   ]
  },
  {
   "cell_type": "code",
   "execution_count": 62,
   "metadata": {
    "collapsed": false
   },
   "outputs": [],
   "source": [
    "submission = pd.DataFrame({ 'PassengerId': test_df['PassengerId'],\n",
    "                            'Survived': predict })\n",
    "submission.to_csv(\"titanic5_submission.csv\", index=False)"
   ]
  },
  {
   "cell_type": "markdown",
   "metadata": {
    "collapsed": true
   },
   "source": [
    "Ahora se utiliza un proceso de validación cruzada con las variables anteriormente definida."
   ]
  },
  {
   "cell_type": "code",
   "execution_count": 64,
   "metadata": {
    "collapsed": false
   },
   "outputs": [],
   "source": [
    "\n",
    "from sklearn.cross_validation import KFold\n",
    "kf = KFold(X.shape[0], n_folds=10, random_state=0)\n",
    "\n",
    "results = []\n",
    "models = []\n",
    "for train_index, test_index in kf:\n",
    "    X_train, X_test = X.iloc[train_index], X.iloc[test_index]\n",
    "    y_train, y_test = y.iloc[train_index], y.iloc[test_index]\n",
    "\n",
    "    # train a logistic regression model\n",
    "    models.append(LogisticRegression(C=1e9))\n",
    "    \n",
    "    models[-1].fit(X_train, y_train)\n",
    "\n",
    "    # make predictions for testing set\n",
    "    y_pred_class = models[-1].predict(X_test)\n",
    "\n",
    "    # calculate testing accuracy\n",
    "    results.append(metrics.accuracy_score(y_test, y_pred_class))"
   ]
  },
  {
   "cell_type": "code",
   "execution_count": 65,
   "metadata": {
    "collapsed": false
   },
   "outputs": [
    {
     "data": {
      "text/plain": [
       "[0.80000000000000004,\n",
       " 0.8314606741573034,\n",
       " 0.7752808988764045,\n",
       " 0.797752808988764,\n",
       " 0.7752808988764045,\n",
       " 0.797752808988764,\n",
       " 0.797752808988764,\n",
       " 0.797752808988764,\n",
       " 0.9101123595505618,\n",
       " 0.8089887640449438]"
      ]
     },
     "execution_count": 65,
     "metadata": {},
     "output_type": "execute_result"
    }
   ],
   "source": [
    "results"
   ]
  },
  {
   "cell_type": "markdown",
   "metadata": {},
   "source": [
    "Se realiza el proces de Kfold Crossvalidation y se establece cual es el número que maximiza el accuracy."
   ]
  },
  {
   "cell_type": "code",
   "execution_count": 66,
   "metadata": {
    "collapsed": false
   },
   "outputs": [],
   "source": [
    "probas = pd.DataFrame(index=test_df[features].index, columns=['p'+ str(i) for i in range(10)])"
   ]
  },
  {
   "cell_type": "code",
   "execution_count": 67,
   "metadata": {
    "collapsed": true
   },
   "outputs": [],
   "source": [
    "for i in range(10):\n",
    "    proba = models[i].predict_proba(test_df[features])[:, 1]\n",
    "    probas.iloc[:, i] = proba"
   ]
  },
  {
   "cell_type": "code",
   "execution_count": 68,
   "metadata": {
    "collapsed": false
   },
   "outputs": [
    {
     "data": {
      "text/html": [
       "<div>\n",
       "<table border=\"1\" class=\"dataframe\">\n",
       "  <thead>\n",
       "    <tr style=\"text-align: right;\">\n",
       "      <th></th>\n",
       "      <th>p0</th>\n",
       "      <th>p1</th>\n",
       "      <th>p2</th>\n",
       "      <th>p3</th>\n",
       "      <th>p4</th>\n",
       "      <th>p5</th>\n",
       "      <th>p6</th>\n",
       "      <th>p7</th>\n",
       "      <th>p8</th>\n",
       "      <th>p9</th>\n",
       "    </tr>\n",
       "  </thead>\n",
       "  <tbody>\n",
       "    <tr>\n",
       "      <th>0</th>\n",
       "      <td>0.131205</td>\n",
       "      <td>0.139374</td>\n",
       "      <td>0.141690</td>\n",
       "      <td>0.118044</td>\n",
       "      <td>0.145985</td>\n",
       "      <td>0.149572</td>\n",
       "      <td>0.145261</td>\n",
       "      <td>0.162731</td>\n",
       "      <td>0.168741</td>\n",
       "      <td>0.135189</td>\n",
       "    </tr>\n",
       "    <tr>\n",
       "      <th>1</th>\n",
       "      <td>0.277123</td>\n",
       "      <td>0.330972</td>\n",
       "      <td>0.301862</td>\n",
       "      <td>0.248458</td>\n",
       "      <td>0.338792</td>\n",
       "      <td>0.294738</td>\n",
       "      <td>0.279849</td>\n",
       "      <td>0.268721</td>\n",
       "      <td>0.331785</td>\n",
       "      <td>0.350959</td>\n",
       "    </tr>\n",
       "    <tr>\n",
       "      <th>2</th>\n",
       "      <td>0.089963</td>\n",
       "      <td>0.133830</td>\n",
       "      <td>0.127072</td>\n",
       "      <td>0.081669</td>\n",
       "      <td>0.125007</td>\n",
       "      <td>0.113306</td>\n",
       "      <td>0.086028</td>\n",
       "      <td>0.101246</td>\n",
       "      <td>0.133962</td>\n",
       "      <td>0.106757</td>\n",
       "    </tr>\n",
       "    <tr>\n",
       "      <th>3</th>\n",
       "      <td>0.111879</td>\n",
       "      <td>0.107013</td>\n",
       "      <td>0.110362</td>\n",
       "      <td>0.105324</td>\n",
       "      <td>0.106513</td>\n",
       "      <td>0.117665</td>\n",
       "      <td>0.115567</td>\n",
       "      <td>0.113063</td>\n",
       "      <td>0.120821</td>\n",
       "      <td>0.116683</td>\n",
       "    </tr>\n",
       "    <tr>\n",
       "      <th>4</th>\n",
       "      <td>0.335846</td>\n",
       "      <td>0.367594</td>\n",
       "      <td>0.400369</td>\n",
       "      <td>0.336626</td>\n",
       "      <td>0.409575</td>\n",
       "      <td>0.376937</td>\n",
       "      <td>0.380822</td>\n",
       "      <td>0.400171</td>\n",
       "      <td>0.383149</td>\n",
       "      <td>0.374209</td>\n",
       "    </tr>\n",
       "  </tbody>\n",
       "</table>\n",
       "</div>"
      ],
      "text/plain": [
       "         p0        p1        p2        p3        p4        p5        p6  \\\n",
       "0  0.131205  0.139374  0.141690  0.118044  0.145985  0.149572  0.145261   \n",
       "1  0.277123  0.330972  0.301862  0.248458  0.338792  0.294738  0.279849   \n",
       "2  0.089963  0.133830  0.127072  0.081669  0.125007  0.113306  0.086028   \n",
       "3  0.111879  0.107013  0.110362  0.105324  0.106513  0.117665  0.115567   \n",
       "4  0.335846  0.367594  0.400369  0.336626  0.409575  0.376937  0.380822   \n",
       "\n",
       "         p7        p8        p9  \n",
       "0  0.162731  0.168741  0.135189  \n",
       "1  0.268721  0.331785  0.350959  \n",
       "2  0.101246  0.133962  0.106757  \n",
       "3  0.113063  0.120821  0.116683  \n",
       "4  0.400171  0.383149  0.374209  "
      ]
     },
     "execution_count": 68,
     "metadata": {},
     "output_type": "execute_result"
    }
   ],
   "source": [
    "probas.head()"
   ]
  },
  {
   "cell_type": "code",
   "execution_count": 69,
   "metadata": {
    "collapsed": true
   },
   "outputs": [],
   "source": [
    "predictions = ((probas.mean(axis=1) > 0.5) * 1.0).values"
   ]
  },
  {
   "cell_type": "code",
   "execution_count": 70,
   "metadata": {
    "collapsed": true
   },
   "outputs": [],
   "source": [
    "predictions = predictions.astype(np.int)"
   ]
  },
  {
   "cell_type": "code",
   "execution_count": 71,
   "metadata": {
    "collapsed": false
   },
   "outputs": [
    {
     "data": {
      "text/plain": [
       "8"
      ]
     },
     "execution_count": 71,
     "metadata": {},
     "output_type": "execute_result"
    }
   ],
   "source": [
    "np.argmax(results)"
   ]
  },
  {
   "cell_type": "code",
   "execution_count": 303,
   "metadata": {
    "collapsed": true
   },
   "outputs": [],
   "source": [
    "train_index, test_index = list(kf)[8]\n",
    "X_train, X_test = X.iloc[train_index], X.iloc[test_index]\n",
    "y_train, y_test = y.iloc[train_index], y.iloc[test_index]\n",
    "\n",
    "logres = LogisticRegression(C=1e9)\n",
    "logres.fit(X_train, y_train)\n",
    "predict= logreg.predict(test_df[features])"
   ]
  },
  {
   "cell_type": "code",
   "execution_count": null,
   "metadata": {
    "collapsed": true
   },
   "outputs": [],
   "source": [
    "Se realiza la predicción para la variable survived y se guarda en un archivo csv, al realizar el modelo de esta forma\n",
    "mejora considerablemente el accuaracy a comparaci"
   ]
  },
  {
   "cell_type": "code",
   "execution_count": 304,
   "metadata": {
    "collapsed": true
   },
   "outputs": [],
   "source": [
    "submission = pd.DataFrame({ 'PassengerId': test_df['PassengerId'],\n",
    "                            'Survived': predict })\n",
    "submission.to_csv(\"titanic6_submission.csv\", index=False)"
   ]
  },
  {
   "cell_type": "code",
   "execution_count": null,
   "metadata": {
    "collapsed": true
   },
   "outputs": [],
   "source": []
  },
  {
   "cell_type": "code",
   "execution_count": null,
   "metadata": {
    "collapsed": true
   },
   "outputs": [],
   "source": []
  }
 ],
 "metadata": {
  "kernelspec": {
   "display_name": "Python 3",
   "language": "python",
   "name": "python3"
  },
  "language_info": {
   "codemirror_mode": {
    "name": "ipython",
    "version": 3
   },
   "file_extension": ".py",
   "mimetype": "text/x-python",
   "name": "python",
   "nbconvert_exporter": "python",
   "pygments_lexer": "ipython3",
   "version": "3.5.1"
  }
 },
 "nbformat": 4,
 "nbformat_minor": 0
}
