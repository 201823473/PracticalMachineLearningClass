{
 "cells": [
  {
   "cell_type": "markdown",
   "metadata": {},
   "source": [
    "# 21 -  Introduction to Deep Learning\n",
    "\n",
    "by [Alejandro Correa Bahnsen](albahnsen.com/)\n",
    "\n",
    "version 0.1, May 2016\n",
    "\n",
    "## Part of the class [Practical Machine Learning](https://github.com/albahnsen/PracticalMachineLearningClass)\n",
    "\n",
    "\n",
    "\n",
    "This notebook is licensed under a [Creative Commons Attribution-ShareAlike 3.0 Unported License](http://creativecommons.org/licenses/by-sa/3.0/deed.en_US)\n",
    "\n",
    "Based on the slides and presentation by [Alec Radford](https://www.youtube.com/watch?v=S75EdAcXHKk)"
   ]
  },
  {
   "cell_type": "markdown",
   "metadata": {},
   "source": [
    "For this class you must install theno\n",
    "\n",
    "```pip instal theano```"
   ]
  },
  {
   "cell_type": "markdown",
   "metadata": {},
   "source": [
    "http://www.slideshare.net/indicods/deep-learning-with-python-and-the-theano-library\n",
    "\n",
    "https://www.youtube.com/watch?v=S75EdAcXHKk\n",
    "\n",
    "https://github.com/Newmu/Theano-Tutorials/blob/master/2_logistic_regression.py"
   ]
  },
  {
   "cell_type": "markdown",
   "metadata": {},
   "source": [
    "# Motivation\n",
    "\n",
    "How do we program a computer to recognize a picture of a\n",
    "handwritten digit as a 0-9?\n",
    "\n",
    "![1](d1.png)"
   ]
  },
  {
   "cell_type": "markdown",
   "metadata": {},
   "source": [
    "### What if we have 60,000 of these images and their label?"
   ]
  },
  {
   "cell_type": "code",
   "execution_count": 13,
   "metadata": {
    "collapsed": false
   },
   "outputs": [],
   "source": [
    "from struct import unpack\n",
    "import gzip\n",
    "from numpy import zeros, uint8\n",
    "import numpy as np\n",
    "\n",
    "def get_labeled_data(imagefile, labelfile):\n",
    "    \"\"\"Read input-vector (image) and target class (label, 0-9) and return\n",
    "       it as list of tuples.\n",
    "    \"\"\"\n",
    "    # Open the images with gzip in read binary mode\n",
    "    images = gzip.open(imagefile, 'rb')\n",
    "    labels = gzip.open(labelfile, 'rb')\n",
    "\n",
    "    # Read the binary data\n",
    "\n",
    "    # We have to get big endian unsigned int. So we need '>I'\n",
    "\n",
    "    # Get metadata for images\n",
    "    images.read(4)  # skip the magic_number\n",
    "    number_of_images = images.read(4)\n",
    "    number_of_images = unpack('>I', number_of_images)[0]\n",
    "    rows = images.read(4)\n",
    "    rows = unpack('>I', rows)[0]\n",
    "    cols = images.read(4)\n",
    "    cols = unpack('>I', cols)[0]\n",
    "\n",
    "    # Get metadata for labels\n",
    "    labels.read(4)  # skip the magic_number\n",
    "    N = labels.read(4)\n",
    "    N = unpack('>I', N)[0]\n",
    "\n",
    "    if number_of_images != N:\n",
    "        raise Exception('number of labels did not match the number of images')\n",
    "\n",
    "    # Get the data\n",
    "    x = zeros((N, rows, cols), dtype=uint8)  # Initialize numpy array\n",
    "    y = zeros((N, 1), dtype=uint8)  # Initialize numpy array\n",
    "    for i in range(N):\n",
    "        if i % 10000 == 0:\n",
    "            print(\"i: %i\" % i)\n",
    "        for row in range(rows):\n",
    "            for col in range(cols):\n",
    "                tmp_pixel = images.read(1)  # Just a single byte\n",
    "                tmp_pixel = unpack('>B', tmp_pixel)[0]\n",
    "                x[i][row][col] = tmp_pixel\n",
    "        tmp_label = labels.read(1)\n",
    "        y[i] = unpack('>B', tmp_label)[0]\n",
    "    return (x, y)"
   ]
  },
  {
   "cell_type": "code",
   "execution_count": 14,
   "metadata": {
    "collapsed": false
   },
   "outputs": [
    {
     "name": "stdout",
     "output_type": "stream",
     "text": [
      "i: 0\n",
      "i: 10000\n",
      "i: 20000\n",
      "i: 30000\n",
      "i: 40000\n",
      "i: 50000\n"
     ]
    }
   ],
   "source": [
    "X_train, y_train = get_labeled_data('train-images-idx3-ubyte.gz', \n",
    "                                    'train-labels-idx1-ubyte.gz')"
   ]
  },
  {
   "cell_type": "code",
   "execution_count": 15,
   "metadata": {
    "collapsed": false
   },
   "outputs": [
    {
     "name": "stdout",
     "output_type": "stream",
     "text": [
      "i: 0\n"
     ]
    }
   ],
   "source": [
    "X_test, y_test = get_labeled_data('t10k-images-idx3-ubyte.gz', \n",
    "                                  't10k-labels-idx1-ubyte.gz')"
   ]
  },
  {
   "cell_type": "code",
   "execution_count": 4,
   "metadata": {
    "collapsed": false
   },
   "outputs": [
    {
     "data": {
      "text/plain": [
       "array([[  0,   0,   0,   0,   0,   0,   0,   0,   0,   0],\n",
       "       [  0,   0,   0,   0,   0,   0,   0,   0,   0,   0],\n",
       "       [  0,   0,   0,   0,   0,   0,   0,   0,   0,   0],\n",
       "       [  0,   0,   0,   0,   0,   0,   0,   0,   0,   0],\n",
       "       [  0,   0,   0,   0,   0,   0,   0,   0,   0,   0],\n",
       "       [  0,   0,   0,   0,   0,   0,   0,   0,   0,   0],\n",
       "       [  0,   0,   0,   0,   0,   0,   0,   0,   0,   0],\n",
       "       [  0,   0,   0,   0,   0,   0,   0,   0,   0,   0],\n",
       "       [  0,   0,   0,   0,   0,   0,   0,   0,   0,   0],\n",
       "       [  0,   0,   0,   0,   0,   0,   0,   0,   0,   0],\n",
       "       [  0,   0,   0,   0,   0,   0,   0,   0,   0,  48],\n",
       "       [  0,   0,   0,   0,   0,   0,   0,   0,  38, 165],\n",
       "       [  0,   0,   0,   0,   0,   0,   0,   7, 178, 252],\n",
       "       [  0,   0,   0,   0,   0,   0,   0,  57, 252, 252],\n",
       "       [  0,   0,   0,   0,   0,   0,   0, 198, 253, 190],\n",
       "       [  0,   0,   0,   0,   0,   0,  76, 246, 252, 112],\n",
       "       [  0,   0,   0,   0,   0,   0,  85, 252, 230,  25],\n",
       "       [  0,   0,   0,   0,   0,   0,  85, 252, 223,   0],\n",
       "       [  0,   0,   0,   0,   0,   0,  85, 252, 145,   0],\n",
       "       [  0,   0,   0,   0,   0,   0,  86, 253, 225,   0],\n",
       "       [  0,   0,   0,   0,   0,   0,  85, 252, 249, 146],\n",
       "       [  0,   0,   0,   0,   0,   0,  85, 252, 252, 252],\n",
       "       [  0,   0,   0,   0,   0,   0,  28, 199, 252, 252],\n",
       "       [  0,   0,   0,   0,   0,   0,   0,  25, 128, 252],\n",
       "       [  0,   0,   0,   0,   0,   0,   0,   0,   0,   0],\n",
       "       [  0,   0,   0,   0,   0,   0,   0,   0,   0,   0],\n",
       "       [  0,   0,   0,   0,   0,   0,   0,   0,   0,   0],\n",
       "       [  0,   0,   0,   0,   0,   0,   0,   0,   0,   0]], dtype=uint8)"
      ]
     },
     "execution_count": 4,
     "metadata": {},
     "output_type": "execute_result"
    }
   ],
   "source": [
    "X_train[1][:, :10]"
   ]
  },
  {
   "cell_type": "code",
   "execution_count": 25,
   "metadata": {
    "collapsed": true
   },
   "outputs": [],
   "source": [
    "# To vector\n",
    "X_train2 = X_train.reshape((X_train.shape[0], 784)).astype(float) / 255\n",
    "X_test2 = X_test.reshape((X_test.shape[0], 784)).astype(float) / 255\n",
    "y_train = y_train.flatten()\n",
    "y_test = y_test.flatten()"
   ]
  },
  {
   "cell_type": "code",
   "execution_count": 6,
   "metadata": {
    "collapsed": true
   },
   "outputs": [],
   "source": [
    "from pylab import imshow, show, cm\n",
    "import matplotlib.pylab as plt\n",
    "%matplotlib inline\n",
    "\n",
    "def view_image(image, label=\"\", predicted='', size=4):\n",
    "    \"\"\"View a single image.\"\"\"\n",
    "    plt.figure(figsize = (size, size))\n",
    "    plt.imshow(image, cmap=cm.gray, )\n",
    "    plt.tick_params(axis='x',which='both',  bottom='off',top='off', labelbottom='off')\n",
    "    plt.tick_params(axis='y',which='both',  left='off',top='off', labelleft='off')\n",
    "    show()\n",
    "    if predicted == '':\n",
    "        print(\"Label: %s\" % label)\n",
    "    else:\n",
    "        print('Label: ', str(label), 'Predicted: ', str(predicted))\n",
    "    "
   ]
  },
  {
   "cell_type": "code",
   "execution_count": 7,
   "metadata": {
    "collapsed": false
   },
   "outputs": [
    {
     "data": {
      "image/png": "[encoded data removed]",
      "text/plain": [
       "<matplotlib.figure.Figure at 0x7fa38a1b0f98>"
      ]
     },
     "metadata": {},
     "output_type": "display_data"
    },
    {
     "name": "stdout",
     "output_type": "stream",
     "text": [
      "Label: 0\n"
     ]
    }
   ],
   "source": [
    "view_image(X_train[1], y_train[1])"
   ]
  },
  {
   "cell_type": "code",
   "execution_count": 8,
   "metadata": {
    "collapsed": false
   },
   "outputs": [
    {
     "data": {
      "image/png": "[encoded data removed]",
      "text/plain": [
       "<matplotlib.figure.Figure at 0x7fa380794a58>"
      ]
     },
     "metadata": {},
     "output_type": "display_data"
    },
    {
     "name": "stdout",
     "output_type": "stream",
     "text": [
      "Label: 7\n"
     ]
    }
   ],
   "source": [
    "view_image(X_train[40000], y_train[40000])"
   ]
  },
  {
   "cell_type": "markdown",
   "metadata": {},
   "source": [
    "# Naive model\n",
    "\n",
    "For each image, find the “most similar” image and guess\n",
    "that as the label"
   ]
  },
  {
   "cell_type": "code",
   "execution_count": 9,
   "metadata": {
    "collapsed": true
   },
   "outputs": [],
   "source": [
    "def similarity(image, images):\n",
    "    similarities = []\n",
    "    for img in images:\n",
    "        distance = np.sum(np.sqrt(image - img))\n",
    "        sim = 1 / distance\n",
    "        similarities.append(sim)\n",
    "    return similarities"
   ]
  },
  {
   "cell_type": "code",
   "execution_count": 10,
   "metadata": {
    "collapsed": false
   },
   "outputs": [],
   "source": [
    "np.random.seed(52)\n",
    "small_train = np.random.choice(X_train.shape[0], 100)"
   ]
  },
  {
   "cell_type": "code",
   "execution_count": 11,
   "metadata": {
    "collapsed": false
   },
   "outputs": [
    {
     "data": {
      "image/png": "[encoded data removed]",
      "text/plain": [
       "<matplotlib.figure.Figure at 0x7fa3802c2198>"
      ]
     },
     "metadata": {},
     "output_type": "display_data"
    },
    {
     "name": "stdout",
     "output_type": "stream",
     "text": [
      "Label: \n"
     ]
    }
   ],
   "source": [
    "view_image(X_test[500])"
   ]
  },
  {
   "cell_type": "code",
   "execution_count": 12,
   "metadata": {
    "collapsed": true
   },
   "outputs": [],
   "source": [
    "similarities = similarity(X_test[500], X_train[small_train])"
   ]
  },
  {
   "cell_type": "code",
   "execution_count": 13,
   "metadata": {
    "collapsed": false
   },
   "outputs": [
    {
     "data": {
      "image/png": "[encoded data removed]",
      "text/plain": [
       "<matplotlib.figure.Figure at 0x7fa3802b3d30>"
      ]
     },
     "metadata": {},
     "output_type": "display_data"
    },
    {
     "name": "stdout",
     "output_type": "stream",
     "text": [
      "Label: \n"
     ]
    }
   ],
   "source": [
    "view_image(X_train[small_train[np.argmax(similarities)]])"
   ]
  },
  {
   "cell_type": "markdown",
   "metadata": {},
   "source": [
    "Lets try an other example"
   ]
  },
  {
   "cell_type": "code",
   "execution_count": 14,
   "metadata": {
    "collapsed": false
   },
   "outputs": [
    {
     "data": {
      "image/png": "[encoded data removed]",
      "text/plain": [
       "<matplotlib.figure.Figure at 0x7fa3802c2048>"
      ]
     },
     "metadata": {},
     "output_type": "display_data"
    },
    {
     "name": "stdout",
     "output_type": "stream",
     "text": [
      "Label: \n"
     ]
    }
   ],
   "source": [
    "view_image(X_test[100])"
   ]
  },
  {
   "cell_type": "code",
   "execution_count": 15,
   "metadata": {
    "collapsed": false
   },
   "outputs": [
    {
     "data": {
      "image/png": "[encoded data removed]",
      "text/plain": [
       "<matplotlib.figure.Figure at 0x7fa380269978>"
      ]
     },
     "metadata": {},
     "output_type": "display_data"
    },
    {
     "name": "stdout",
     "output_type": "stream",
     "text": [
      "Label: \n"
     ]
    }
   ],
   "source": [
    "similarities = similarity(X_test[100], X_train[small_train])\n",
    "view_image(X_train[small_train[np.argmax(similarities)]])"
   ]
  },
  {
   "cell_type": "markdown",
   "metadata": {},
   "source": [
    "# Logistic Regression\n",
    "\n",
    "Logistic regression is a probabilistic, linear classifier. It is parametrized\n",
    "by a weight matrix $W$ and a bias vector $b$ Classification is\n",
    "done by projecting data points onto a set of hyperplanes, the distance to\n",
    "which is used to determine a class membership probability.\n",
    "\n",
    "Mathematically, this can be written as:\n",
    "\n",
    "$$\n",
    "  P(Y=i\\vert x, W,b) = softmax_i(W x + b) \n",
    "$$\n",
    "$$\n",
    "   P(Y=i|x, W,b) =  \\frac {e^{W_i x + b_i}} {\\sum_j e^{W_j x + b_j}}\n",
    "$$\n",
    "\n",
    "The output of the model or prediction is then done by taking the argmax of\n",
    "the vector whose i'th element is $P(Y=i|x)$.\n",
    "\n",
    "$$\n",
    "  y_{pred} = argmax_i P(Y=i|x,W,b)\n",
    "$$\n",
    "\n",
    "![a](d2.png)"
   ]
  },
  {
   "cell_type": "code",
   "execution_count": 1,
   "metadata": {
    "collapsed": true
   },
   "outputs": [],
   "source": [
    "import theano\n",
    "from theano import tensor as T\n",
    "import numpy as np"
   ]
  },
  {
   "cell_type": "code",
   "execution_count": 3,
   "metadata": {
    "collapsed": false
   },
   "outputs": [],
   "source": [
    "theano.config.floatX = 'float32'"
   ]
  },
  {
   "cell_type": "markdown",
   "metadata": {},
   "source": [
    "```\n",
    "Theano is a Python library that lets you to define, optimize, and evaluate mathematical expressions, especially ones with multi-dimensional arrays (numpy.ndarray). Using Theano it is possible to attain speeds rivaling hand-crafted C implementations for problems involving large amounts of data. It can also surpass C on a CPU by many orders of magnitude by taking advantage of recent GPUs.\n",
    "\n",
    "Theano combines aspects of a computer algebra system (CAS) with aspects of an optimizing compiler. It can also generate customized C code for many mathematical operations. This combination of CAS with optimizing compilation is particularly useful for tasks in which complicated mathematical expressions are evaluated repeatedly and evaluation speed is critical. For situations where many different expressions are each evaluated once Theano can minimize the amount of compilation/analysis overhead, but still provide symbolic features such as automatic differentiation.\n",
    "```"
   ]
  },
  {
   "cell_type": "code",
   "execution_count": 7,
   "metadata": {
    "collapsed": false
   },
   "outputs": [],
   "source": [
    "def floatX(X):\n",
    "#     return np.asarray(X, dtype='float32')\n",
    "    return np.asarray(X, dtype=theano.config.floatX)\n",
    "\n",
    "def init_weights(shape):\n",
    "    #     return theano.shared(floatX(np.random.randn(*shape) * 0.01))\n",
    "    # NotImplementedError: The image and the kernel must have \n",
    "    # the same type.inputs(float32), kerns(float64)\n",
    "    \n",
    "    temp = np.random.randn(*shape)\n",
    "    temp.dtype = np.float32\n",
    "    return theano.shared(floatX(temp * 0.01))\n",
    "\n",
    "def model(X, w):\n",
    "    return T.nnet.softmax(T.dot(X, w))"
   ]
  },
  {
   "cell_type": "code",
   "execution_count": 8,
   "metadata": {
    "collapsed": true
   },
   "outputs": [],
   "source": [
    "X = T.fmatrix()\n",
    "Y = T.ivector()\n",
    "\n",
    "w = init_weights((28 * 28, 10))"
   ]
  },
  {
   "cell_type": "code",
   "execution_count": 9,
   "metadata": {
    "collapsed": false
   },
   "outputs": [
    {
     "data": {
      "text/plain": [
       "array([[ -8.25928964e-06,   1.75757445e-02,   1.30474604e+23, ...,\n",
       "          1.89763624e-02,   1.66547490e+25,   1.82879735e-02],\n",
       "       [  5.83692705e-10,   1.64962187e-02,   1.10633992e+19, ...,\n",
       "          1.92885380e-02,  -7.14082237e-34,   1.93992350e-02],\n",
       "       [ -2.87076258e-15,  -1.89155266e-02,  -8.32307711e+16, ...,\n",
       "         -1.86530575e-02,  -9.86660143e-06,   1.85317807e-02],\n",
       "       ..., \n",
       "       [  2.49287329e+03,   1.39775164e-02,   8.40234637e-09, ...,\n",
       "          1.61370840e-02,   2.26298982e+10,  -1.89585127e-02],\n",
       "       [  2.68195469e+04,  -1.55193089e-02,   2.63252319e+36, ...,\n",
       "         -1.87879447e-02,  -6.78115960e+29,  -1.76858604e-02],\n",
       "       [ -4.59993857e+31,  -1.79423597e-02,   4.54628222e-29, ...,\n",
       "          1.49159282e-02,  -5.19593659e+20,   1.10727968e-02]], dtype=float32)"
      ]
     },
     "execution_count": 9,
     "metadata": {},
     "output_type": "execute_result"
    }
   ],
   "source": [
    "w.get_value()"
   ]
  },
  {
   "cell_type": "markdown",
   "metadata": {},
   "source": [
    "initialize model"
   ]
  },
  {
   "cell_type": "code",
   "execution_count": 22,
   "metadata": {
    "collapsed": false
   },
   "outputs": [],
   "source": [
    "py_x = model(X, w)\n",
    "y_pred = T.argmax(py_x, axis=1)"
   ]
  },
  {
   "cell_type": "code",
   "execution_count": 23,
   "metadata": {
    "collapsed": true
   },
   "outputs": [],
   "source": [
    "cost = T.mean(T.nnet.categorical_crossentropy(py_x, Y))\n",
    "gradient = T.grad(cost=cost, wrt=w)\n",
    "update = [[w, w - gradient * 0.05]]"
   ]
  },
  {
   "cell_type": "code",
   "execution_count": 24,
   "metadata": {
    "collapsed": false
   },
   "outputs": [],
   "source": [
    "train = theano.function(inputs=[X, Y], outputs=cost, updates=update, allow_input_downcast=True)\n",
    "predict = theano.function(inputs=[X], outputs=y_pred, allow_input_downcast=True)"
   ]
  },
  {
   "cell_type": "markdown",
   "metadata": {},
   "source": [
    "One iteration"
   ]
  },
  {
   "cell_type": "code",
   "execution_count": 25,
   "metadata": {
    "collapsed": true
   },
   "outputs": [],
   "source": [
    "batch_size = 128\n",
    "\n",
    "for batch in range(0, X_test.shape[0], batch_size):\n",
    "    cost = train(X_train2[batch:batch+batch_size], \n",
    "                 y_train[batch:batch+batch_size])  "
   ]
  },
  {
   "cell_type": "code",
   "execution_count": 26,
   "metadata": {
    "collapsed": false
   },
   "outputs": [
    {
     "data": {
      "text/plain": [
       "[(0.17886666666666667, 0.1706)]"
      ]
     },
     "execution_count": 26,
     "metadata": {},
     "output_type": "execute_result"
    }
   ],
   "source": [
    "errors = [(np.mean(y_train != predict(X_train2)), \n",
    "           np.mean(y_test != predict(X_test2)))]\n",
    "errors"
   ]
  },
  {
   "cell_type": "markdown",
   "metadata": {},
   "source": [
    "Now for 100 epochs"
   ]
  },
  {
   "cell_type": "code",
   "execution_count": 27,
   "metadata": {
    "collapsed": false
   },
   "outputs": [
    {
     "name": "stdout",
     "output_type": "stream",
     "text": [
      "1 (0.15245, 0.14449999999999999)\n",
      "2 (0.14044999999999999, 0.1323)\n",
      "3 (0.13366666666666666, 0.1255)\n",
      "4 (0.12846666666666667, 0.1217)\n",
      "5 (0.12488333333333333, 0.1174)\n",
      "6 (0.12191666666666667, 0.1152)\n",
      "7 (0.11963333333333333, 0.11219999999999999)\n",
      "8 (0.11743333333333333, 0.1095)\n",
      "9 (0.11566666666666667, 0.1079)\n",
      "10 (0.11385000000000001, 0.1072)\n",
      "11 (0.11233333333333333, 0.1056)\n",
      "12 (0.11118333333333333, 0.1043)\n",
      "13 (0.11003333333333333, 0.1033)\n",
      "14 (0.1091, 0.1028)\n",
      "15 (0.10821666666666667, 0.10199999999999999)\n",
      "16 (0.10721666666666667, 0.1011)\n",
      "17 (0.10614999999999999, 0.1002)\n",
      "18 (0.1052, 0.0998)\n",
      "19 (0.10451666666666666, 0.099699999999999997)\n",
      "20 (0.10408333333333333, 0.099099999999999994)\n",
      "21 (0.10345, 0.098900000000000002)\n",
      "22 (0.10301666666666667, 0.098100000000000007)\n",
      "23 (0.10241666666666667, 0.097699999999999995)\n",
      "24 (0.10185, 0.097100000000000006)\n",
      "25 (0.10133333333333333, 0.097100000000000006)\n",
      "26 (0.10081666666666667, 0.096600000000000005)\n",
      "27 (0.10026666666666667, 0.096500000000000002)\n",
      "28 (0.10003333333333334, 0.096199999999999994)\n",
      "29 (0.099650000000000002, 0.096000000000000002)\n",
      "30 (0.09923333333333334, 0.095699999999999993)\n",
      "31 (0.099000000000000005, 0.095299999999999996)\n",
      "32 (0.098699999999999996, 0.095000000000000001)\n",
      "33 (0.098266666666666669, 0.094299999999999995)\n",
      "34 (0.097866666666666671, 0.093899999999999997)\n",
      "35 (0.097666666666666666, 0.093899999999999997)\n",
      "36 (0.097483333333333338, 0.093799999999999994)\n",
      "37 (0.09718333333333333, 0.0935)\n",
      "38 (0.097049999999999997, 0.093200000000000005)\n",
      "39 (0.096799999999999997, 0.093600000000000003)\n",
      "40 (0.09661666666666667, 0.0935)\n",
      "41 (0.0964, 0.093399999999999997)\n",
      "42 (0.096266666666666667, 0.093399999999999997)\n",
      "43 (0.096066666666666661, 0.093899999999999997)\n",
      "44 (0.095816666666666661, 0.093700000000000006)\n",
      "45 (0.095649999999999999, 0.093299999999999994)\n",
      "46 (0.095416666666666664, 0.0935)\n",
      "47 (0.095250000000000001, 0.0935)\n",
      "48 (0.095250000000000001, 0.093399999999999997)\n",
      "49 (0.095016666666666666, 0.093200000000000005)\n",
      "50 (0.094883333333333333, 0.093100000000000002)\n",
      "51 (0.094633333333333333, 0.092799999999999994)\n",
      "52 (0.094516666666666665, 0.092399999999999996)\n",
      "53 (0.094516666666666665, 0.092100000000000001)\n",
      "54 (0.094350000000000003, 0.092200000000000004)\n",
      "55 (0.094233333333333336, 0.091800000000000007)\n",
      "56 (0.094100000000000003, 0.091899999999999996)\n",
      "57 (0.09403333333333333, 0.091700000000000004)\n",
      "58 (0.093966666666666671, 0.091700000000000004)\n",
      "59 (0.093933333333333327, 0.091499999999999998)\n",
      "60 (0.09375, 0.091899999999999996)\n",
      "61 (0.093566666666666673, 0.091700000000000004)\n",
      "62 (0.093700000000000006, 0.091700000000000004)\n",
      "63 (0.0935, 0.091600000000000001)\n",
      "64 (0.093350000000000002, 0.091700000000000004)\n",
      "65 (0.093200000000000005, 0.091700000000000004)\n",
      "66 (0.093133333333333332, 0.091499999999999998)\n",
      "67 (0.093049999999999994, 0.091600000000000001)\n",
      "68 (0.09293333333333334, 0.091700000000000004)\n",
      "69 (0.092916666666666661, 0.091600000000000001)\n",
      "70 (0.092749999999999999, 0.091600000000000001)\n",
      "71 (0.092649999999999996, 0.091399999999999995)\n",
      "72 (0.092633333333333331, 0.091200000000000003)\n",
      "73 (0.092483333333333334, 0.090999999999999998)\n",
      "74 (0.092350000000000002, 0.091200000000000003)\n",
      "75 (0.092249999999999999, 0.091200000000000003)\n",
      "76 (0.092233333333333334, 0.090800000000000006)\n",
      "77 (0.092183333333333339, 0.090899999999999995)\n",
      "78 (0.092050000000000007, 0.090899999999999995)\n",
      "79 (0.092033333333333328, 0.090800000000000006)\n",
      "80 (0.09191666666666666, 0.090700000000000003)\n",
      "81 (0.091783333333333328, 0.090700000000000003)\n",
      "82 (0.091766666666666663, 0.090800000000000006)\n",
      "83 (0.091700000000000004, 0.090899999999999995)\n",
      "84 (0.091583333333333336, 0.090800000000000006)\n",
      "85 (0.091583333333333336, 0.0906)\n",
      "86 (0.091466666666666668, 0.090499999999999997)\n",
      "87 (0.091450000000000004, 0.090700000000000003)\n",
      "88 (0.091333333333333336, 0.090700000000000003)\n",
      "89 (0.091233333333333333, 0.090800000000000006)\n",
      "90 (0.09113333333333333, 0.090700000000000003)\n",
      "91 (0.090999999999999998, 0.090700000000000003)\n",
      "92 (0.090933333333333338, 0.090700000000000003)\n",
      "93 (0.09085, 0.090800000000000006)\n",
      "94 (0.090816666666666671, 0.090800000000000006)\n",
      "95 (0.090749999999999997, 0.090999999999999998)\n",
      "96 (0.090683333333333338, 0.0911)\n",
      "97 (0.09063333333333333, 0.0911)\n",
      "98 (0.090483333333333332, 0.0911)\n",
      "99 (0.090450000000000003, 0.090999999999999998)\n"
     ]
    }
   ],
   "source": [
    "for i in range(1, 100):\n",
    "    \n",
    "    for batch in range(0, X_test.shape[0], batch_size):\n",
    "        cost = train(X_train2[batch:batch+batch_size], \n",
    "                     y_train[batch:batch+batch_size])   \n",
    "        \n",
    "    errors.append((np.mean(y_train != predict(X_train2)), \n",
    "                   np.mean(y_test != predict(X_test2))))\n",
    "    print(i, errors[-1])"
   ]
  },
  {
   "cell_type": "code",
   "execution_count": 28,
   "metadata": {
    "collapsed": false
   },
   "outputs": [],
   "source": [
    "res = np.array(errors)"
   ]
  },
  {
   "cell_type": "code",
   "execution_count": 29,
   "metadata": {
    "collapsed": false,
    "scrolled": true
   },
   "outputs": [
    {
     "data": {
      "text/plain": [
       "<matplotlib.legend.Legend at 0x7fa3802daf60>"
      ]
     },
     "execution_count": 29,
     "metadata": {},
     "output_type": "execute_result"
    },
    {
     "data": {
      "image/png": "[encoded data removed]",
      "text/plain": [
       "<matplotlib.figure.Figure at 0x7fa38025de10>"
      ]
     },
     "metadata": {},
     "output_type": "display_data"
    }
   ],
   "source": [
    "plt.plot(np.arange(res.shape[0]), res[:, 0], label='train error')\n",
    "plt.plot(np.arange(res.shape[0]), res[:, 1], label='test  error')\n",
    "plt.legend()"
   ]
  },
  {
   "cell_type": "markdown",
   "metadata": {},
   "source": [
    "### Checking the results"
   ]
  },
  {
   "cell_type": "code",
   "execution_count": 30,
   "metadata": {
    "collapsed": true
   },
   "outputs": [],
   "source": [
    "y_pred = predict(X_test2)"
   ]
  },
  {
   "cell_type": "code",
   "execution_count": 31,
   "metadata": {
    "collapsed": false
   },
   "outputs": [
    {
     "data": {
      "image/png": "[encoded data removed]",
      "text/plain": [
       "<matplotlib.figure.Figure at 0x7fa38025d828>"
      ]
     },
     "metadata": {},
     "output_type": "display_data"
    },
    {
     "name": "stdout",
     "output_type": "stream",
     "text": [
      "Label:  9 Predicted:  9\n"
     ]
    },
    {
     "data": {
      "image/png": "[encoded data removed]",
      "text/plain": [
       "<matplotlib.figure.Figure at 0x7fa34b738ba8>"
      ]
     },
     "metadata": {},
     "output_type": "display_data"
    },
    {
     "name": "stdout",
     "output_type": "stream",
     "text": [
      "Label:  3 Predicted:  3\n"
     ]
    },
    {
     "data": {
      "image/png": "[encoded data removed]",
      "text/plain": [
       "<matplotlib.figure.Figure at 0x7fa34b6c3e48>"
      ]
     },
     "metadata": {},
     "output_type": "display_data"
    },
    {
     "name": "stdout",
     "output_type": "stream",
     "text": [
      "Label:  4 Predicted:  4\n"
     ]
    },
    {
     "data": {
      "image/png": "[encoded data removed]",
      "text/plain": [
       "<matplotlib.figure.Figure at 0x7fa34b693eb8>"
      ]
     },
     "metadata": {},
     "output_type": "display_data"
    },
    {
     "name": "stdout",
     "output_type": "stream",
     "text": [
      "Label:  4 Predicted:  4\n"
     ]
    },
    {
     "data": {
      "image/png": "[encoded data removed]",
      "text/plain": [
       "<matplotlib.figure.Figure at 0x7fa34b5f0c88>"
      ]
     },
     "metadata": {},
     "output_type": "display_data"
    },
    {
     "name": "stdout",
     "output_type": "stream",
     "text": [
      "Label:  6 Predicted:  6\n"
     ]
    },
    {
     "data": {
      "image/png": "[encoded data removed]",
      "text/plain": [
       "<matplotlib.figure.Figure at 0x7fa34b5cfe80>"
      ]
     },
     "metadata": {},
     "output_type": "display_data"
    },
    {
     "name": "stdout",
     "output_type": "stream",
     "text": [
      "Label:  3 Predicted:  3\n"
     ]
    },
    {
     "data": {
      "image/png": "[encoded data removed]",
      "text/plain": [
       "<matplotlib.figure.Figure at 0x7fa34b52bc88>"
      ]
     },
     "metadata": {},
     "output_type": "display_data"
    },
    {
     "name": "stdout",
     "output_type": "stream",
     "text": [
      "Label:  5 Predicted:  5\n"
     ]
    },
    {
     "data": {
      "image/png": "[encoded data removed]",
      "text/plain": [
       "<matplotlib.figure.Figure at 0x7fa34b506a58>"
      ]
     },
     "metadata": {},
     "output_type": "display_data"
    },
    {
     "name": "stdout",
     "output_type": "stream",
     "text": [
      "Label:  1 Predicted:  1\n"
     ]
    },
    {
     "data": {
      "image/png": "[encoded data removed]",
      "text/plain": [
       "<matplotlib.figure.Figure at 0x7fa34b460898>"
      ]
     },
     "metadata": {},
     "output_type": "display_data"
    },
    {
     "name": "stdout",
     "output_type": "stream",
     "text": [
      "Label:  5 Predicted:  5\n"
     ]
    },
    {
     "data": {
      "image/png": "[encoded data removed]",
      "text/plain": [
       "<matplotlib.figure.Figure at 0x7fa34b43afd0>"
      ]
     },
     "metadata": {},
     "output_type": "display_data"
    },
    {
     "name": "stdout",
     "output_type": "stream",
     "text": [
      "Label:  2 Predicted:  2\n"
     ]
    }
   ],
   "source": [
    "np.random.seed(2)\n",
    "small_test = np.random.choice(X_test.shape[0], 10)\n",
    "\n",
    "for i in small_test:\n",
    "    view_image(X_test[i], label=y_test[i], predicted=y_pred[i], size=1)\n"
   ]
  },
  {
   "cell_type": "markdown",
   "metadata": {},
   "source": [
    "# Simple Neural Net\n",
    "\n",
    "Add a hidden layer with a sigmoid activation function\n",
    "\n",
    "![a](d3.png)"
   ]
  },
  {
   "cell_type": "code",
   "execution_count": 10,
   "metadata": {
    "collapsed": true
   },
   "outputs": [],
   "source": [
    "def sgd(cost, params, lr=0.05):\n",
    "    grads = T.grad(cost=cost, wrt=params)\n",
    "    updates = []\n",
    "    for p, g in zip(params, grads):\n",
    "        updates.append([p, p - g * lr])\n",
    "    return updates\n",
    "\n",
    "def model(X, w_h, w_o):\n",
    "    h = T.nnet.sigmoid(T.dot(X, w_h))\n",
    "    pyx = T.nnet.softmax(T.dot(h, w_o))\n",
    "    return pyx\n",
    "\n",
    "w_h = init_weights((784, 625))\n",
    "w_o = init_weights((625, 10))\n",
    "\n",
    "py_x = model(X, w_h, w_o)\n",
    "y_x = T.argmax(py_x, axis=1)\n",
    "\n",
    "cost = T.mean(T.nnet.categorical_crossentropy(py_x, Y))\n",
    "params = [w_h, w_o]\n",
    "updates = sgd(cost, params)\n",
    "\n",
    "train = theano.function(inputs=[X, Y], outputs=cost, updates=updates, allow_input_downcast=True)\n",
    "predict = theano.function(inputs=[X], outputs=y_x, allow_input_downcast=True)"
   ]
  },
  {
   "cell_type": "code",
   "execution_count": 117,
   "metadata": {
    "collapsed": false
   },
   "outputs": [
    {
     "name": "stdout",
     "output_type": "stream",
     "text": [
      "1 (0.77108333333333334, 0.7661)\n",
      "2 (0.59373333333333334, 0.58489999999999998)\n",
      "3 (0.51791666666666669, 0.51060000000000005)\n",
      "4 (0.43590000000000001, 0.42820000000000003)\n",
      "5 (0.38059999999999999, 0.37519999999999998)\n",
      "6 (0.32276666666666665, 0.31690000000000002)\n",
      "7 (0.2651, 0.26300000000000001)\n",
      "8 (0.22598333333333334, 0.22509999999999999)\n",
      "9 (0.20226666666666668, 0.19850000000000001)\n",
      "10 (0.18609999999999999, 0.18329999999999999)\n",
      "11 (0.17485000000000001, 0.1709)\n",
      "12 (0.1673, 0.16270000000000001)\n",
      "13 (0.15975, 0.15340000000000001)\n",
      "14 (0.15333333333333332, 0.14849999999999999)\n",
      "15 (0.14899999999999999, 0.14230000000000001)\n",
      "16 (0.14468333333333333, 0.13930000000000001)\n",
      "17 (0.14069999999999999, 0.13539999999999999)\n",
      "18 (0.13780000000000001, 0.1308)\n",
      "19 (0.13481666666666667, 0.12790000000000001)\n",
      "20 (0.13196666666666668, 0.12540000000000001)\n",
      "21 (0.12953333333333333, 0.1232)\n",
      "22 (0.12768333333333334, 0.12139999999999999)\n",
      "23 (0.12583333333333332, 0.1192)\n",
      "24 (0.12425, 0.1178)\n",
      "25 (0.12265, 0.11700000000000001)\n",
      "26 (0.12114999999999999, 0.1154)\n",
      "27 (0.12001666666666666, 0.1142)\n",
      "28 (0.11865000000000001, 0.1139)\n",
      "29 (0.11765, 0.1132)\n",
      "30 (0.1164, 0.1114)\n",
      "31 (0.11550000000000001, 0.1105)\n",
      "32 (0.11461666666666667, 0.10920000000000001)\n",
      "33 (0.11361666666666667, 0.1081)\n",
      "34 (0.11244999999999999, 0.10730000000000001)\n",
      "35 (0.11161666666666667, 0.1067)\n",
      "36 (0.11056666666666666, 0.1061)\n",
      "37 (0.10970000000000001, 0.1051)\n",
      "38 (0.10918333333333333, 0.1046)\n",
      "39 (0.10851666666666666, 0.10390000000000001)\n",
      "40 (0.10783333333333334, 0.10299999999999999)\n",
      "41 (0.10723333333333333, 0.10249999999999999)\n",
      "42 (0.10681666666666667, 0.1019)\n",
      "43 (0.10628333333333333, 0.10150000000000001)\n",
      "44 (0.10583333333333333, 0.10100000000000001)\n",
      "45 (0.10545, 0.1004)\n",
      "46 (0.10518333333333334, 0.1004)\n",
      "47 (0.10486666666666666, 0.099900000000000003)\n",
      "48 (0.10453333333333334, 0.099599999999999994)\n",
      "49 (0.1041, 0.099199999999999997)\n",
      "50 (0.10368333333333334, 0.098900000000000002)\n",
      "51 (0.10331666666666667, 0.098699999999999996)\n",
      "52 (0.10283333333333333, 0.098000000000000004)\n",
      "53 (0.10236666666666666, 0.097600000000000006)\n",
      "54 (0.10183333333333333, 0.097500000000000003)\n",
      "55 (0.10151666666666667, 0.097299999999999998)\n",
      "56 (0.10128333333333334, 0.096799999999999997)\n",
      "57 (0.10095, 0.096600000000000005)\n",
      "58 (0.10066666666666667, 0.0964)\n",
      "59 (0.10034999999999999, 0.095600000000000004)\n",
      "60 (0.10011666666666667, 0.095299999999999996)\n",
      "61 (0.099966666666666662, 0.095000000000000001)\n",
      "62 (0.099633333333333338, 0.094399999999999998)\n",
      "63 (0.099500000000000005, 0.093899999999999997)\n",
      "64 (0.099083333333333329, 0.093799999999999994)\n",
      "65 (0.098833333333333329, 0.093399999999999997)\n",
      "66 (0.098650000000000002, 0.093299999999999994)\n",
      "67 (0.098483333333333339, 0.092999999999999999)\n",
      "68 (0.098233333333333339, 0.093299999999999994)\n",
      "69 (0.097900000000000001, 0.092899999999999996)\n",
      "70 (0.097616666666666671, 0.092200000000000004)\n",
      "71 (0.097283333333333333, 0.091700000000000004)\n",
      "72 (0.097000000000000003, 0.091300000000000006)\n",
      "73 (0.09661666666666667, 0.090999999999999998)\n",
      "74 (0.09636666666666667, 0.090899999999999995)\n",
      "75 (0.096233333333333337, 0.090700000000000003)\n",
      "76 (0.095966666666666672, 0.0906)\n",
      "77 (0.095783333333333331, 0.090399999999999994)\n",
      "78 (0.095466666666666672, 0.089899999999999994)\n",
      "79 (0.095316666666666661, 0.089399999999999993)\n",
      "80 (0.095133333333333334, 0.089499999999999996)\n",
      "81 (0.094966666666666671, 0.089499999999999996)\n",
      "82 (0.094866666666666669, 0.089599999999999999)\n",
      "83 (0.094700000000000006, 0.089700000000000002)\n",
      "84 (0.094583333333333339, 0.089399999999999993)\n",
      "85 (0.094350000000000003, 0.088999999999999996)\n",
      "86 (0.094299999999999995, 0.088800000000000004)\n",
      "87 (0.094116666666666668, 0.088700000000000001)\n",
      "88 (0.094100000000000003, 0.088700000000000001)\n",
      "89 (0.09403333333333333, 0.088700000000000001)\n",
      "90 (0.094, 0.088700000000000001)\n",
      "91 (0.093799999999999994, 0.088499999999999995)\n",
      "92 (0.093633333333333332, 0.088300000000000003)\n",
      "93 (0.093516666666666665, 0.088400000000000006)\n",
      "94 (0.093333333333333338, 0.088300000000000003)\n",
      "95 (0.09321666666666667, 0.088400000000000006)\n",
      "96 (0.093033333333333329, 0.088400000000000006)\n",
      "97 (0.092983333333333335, 0.088300000000000003)\n",
      "98 (0.092899999999999996, 0.088400000000000006)\n",
      "99 (0.092716666666666669, 0.088400000000000006)\n"
     ]
    }
   ],
   "source": [
    "batch_size = 128\n",
    "errors = []\n",
    "\n",
    "for i in range(1, 100):\n",
    "    \n",
    "    for batch in range(0, X_test.shape[0], batch_size):\n",
    "        cost = train(X_train2[batch:batch+batch_size], \n",
    "                     y_train[batch:batch+batch_size])   \n",
    "        \n",
    "    errors.append((np.mean(y_train != predict(X_train2)), \n",
    "                   np.mean(y_test != predict(X_test2))))\n",
    "    print(i, errors[-1]) "
   ]
  },
  {
   "cell_type": "code",
   "execution_count": 118,
   "metadata": {
    "collapsed": false
   },
   "outputs": [],
   "source": [
    "res = np.array(errors)"
   ]
  },
  {
   "cell_type": "code",
   "execution_count": 119,
   "metadata": {
    "collapsed": false,
    "scrolled": false
   },
   "outputs": [
    {
     "data": {
      "text/plain": [
       "<matplotlib.legend.Legend at 0x7f6eb72d8518>"
      ]
     },
     "execution_count": 119,
     "metadata": {},
     "output_type": "execute_result"
    },
    {
     "data": {
      "image/png": "[encoded data removed]",
      "text/plain": [
       "<matplotlib.figure.Figure at 0x7f6ec0d48320>"
      ]
     },
     "metadata": {},
     "output_type": "display_data"
    }
   ],
   "source": [
    "plt.plot(np.arange(res.shape[0]), res[:, 0], label='train error')\n",
    "plt.plot(np.arange(res.shape[0]), res[:, 1], label='test  error')\n",
    "plt.legend()"
   ]
  },
  {
   "cell_type": "markdown",
   "metadata": {},
   "source": [
    "# Complex Neural Net\n",
    "\n",
    "Two hidden layers with dropout\n",
    "\n",
    "![a](d4.png)"
   ]
  },
  {
   "cell_type": "code",
   "execution_count": 21,
   "metadata": {
    "collapsed": true
   },
   "outputs": [],
   "source": [
    "from theano.sandbox.rng_mrg import MRG_RandomStreams as RandomStreams\n",
    "\n",
    "srng = RandomStreams()\n",
    "\n",
    "def rectify(X):\n",
    "    return T.maximum(X, 0.)"
   ]
  },
  {
   "cell_type": "markdown",
   "metadata": {},
   "source": [
    "### Understanding rectifier units\n",
    "![A](d5.png)"
   ]
  },
  {
   "cell_type": "code",
   "execution_count": 11,
   "metadata": {
    "collapsed": true
   },
   "outputs": [],
   "source": [
    "def RMSprop(cost, params, lr=0.001, rho=0.9, epsilon=1e-6):\n",
    "    grads = T.grad(cost=cost, wrt=params)\n",
    "    updates = []\n",
    "    for p, g in zip(params, grads):\n",
    "        acc = theano.shared(p.get_value() * 0.)\n",
    "        acc_new = rho * acc + (1 - rho) * g ** 2\n",
    "        gradient_scaling = T.sqrt(acc_new + epsilon)\n",
    "        g = g / gradient_scaling\n",
    "        updates.append((acc, acc_new))\n",
    "        updates.append((p, p - lr * g))\n",
    "    return updates"
   ]
  },
  {
   "cell_type": "markdown",
   "metadata": {},
   "source": [
    "![a](d6.png)"
   ]
  },
  {
   "cell_type": "code",
   "execution_count": 12,
   "metadata": {
    "collapsed": true
   },
   "outputs": [],
   "source": [
    "def dropout(X, p=0.):\n",
    "    if p > 0:\n",
    "        retain_prob = 1 - p\n",
    "        X *= srng.binomial(X.shape, p=retain_prob, dtype=theano.config.floatX)\n",
    "        X /= retain_prob\n",
    "    return X\n",
    "\n",
    "def model(X, w_h, w_h2, w_o, p_drop_input, p_drop_hidden):\n",
    "    X = dropout(X, p_drop_input)\n",
    "    h = rectify(T.dot(X, w_h))\n",
    "\n",
    "    h = dropout(h, p_drop_hidden)\n",
    "    h2 = rectify(T.dot(h, w_h2))\n",
    "\n",
    "    h2 = dropout(h2, p_drop_hidden)\n",
    "    py_x = softmax(T.dot(h2, w_o))\n",
    "    return h, h2, py_x\n",
    "\n",
    "def softmax(X):\n",
    "    e_x = T.exp(X - X.max(axis=1).dimshuffle(0, 'x'))\n",
    "    return e_x / e_x.sum(axis=1).dimshuffle(0, 'x')"
   ]
  },
  {
   "cell_type": "code",
   "execution_count": 125,
   "metadata": {
    "collapsed": false
   },
   "outputs": [],
   "source": [
    "w_h = init_weights((784, 625))\n",
    "w_h2 = init_weights((625, 625))\n",
    "w_o = init_weights((625, 10))\n",
    "\n",
    "noise_h, noise_h2, noise_py_x = model(X, w_h, w_h2, w_o, 0.2, 0.5)\n",
    "h, h2, py_x = model(X, w_h, w_h2, w_o, 0., 0.)\n",
    "y_x = T.argmax(py_x, axis=1)\n",
    "\n",
    "cost = T.mean(T.nnet.categorical_crossentropy(noise_py_x, Y))\n",
    "params = [w_h, w_h2, w_o]\n",
    "updates = RMSprop(cost, params, lr=0.001)\n",
    "\n",
    "train = theano.function(inputs=[X, Y], outputs=cost, updates=updates, allow_input_downcast=True)\n",
    "predict = theano.function(inputs=[X], outputs=y_x, allow_input_downcast=True)"
   ]
  },
  {
   "cell_type": "code",
   "execution_count": 126,
   "metadata": {
    "collapsed": false,
    "scrolled": true
   },
   "outputs": [
    {
     "name": "stdout",
     "output_type": "stream",
     "text": [
      "1 (0.15540000000000001, 0.15379999999999999)\n",
      "2 (0.10783333333333334, 0.10680000000000001)\n",
      "3 (0.094049999999999995, 0.092399999999999996)\n",
      "4 (0.076983333333333334, 0.076300000000000007)\n",
      "5 (0.062333333333333331, 0.063)\n",
      "6 (0.054366666666666667, 0.056300000000000003)\n",
      "7 (0.0504, 0.050599999999999999)\n",
      "8 (0.049516666666666667, 0.050900000000000001)\n",
      "9 (0.043933333333333331, 0.044699999999999997)\n",
      "10 (0.045083333333333336, 0.046600000000000003)\n",
      "11 (0.041799999999999997, 0.045999999999999999)\n",
      "12 (0.037716666666666669, 0.039800000000000002)\n",
      "13 (0.037916666666666668, 0.041599999999999998)\n",
      "14 (0.038483333333333335, 0.042200000000000001)\n",
      "15 (0.036333333333333336, 0.040099999999999997)\n",
      "16 (0.035400000000000001, 0.038899999999999997)\n",
      "17 (0.033216666666666665, 0.035299999999999998)\n",
      "18 (0.032883333333333334, 0.0378)\n",
      "19 (0.032899999999999999, 0.036799999999999999)\n",
      "20 (0.031033333333333333, 0.035099999999999999)\n",
      "21 (0.031050000000000001, 0.0344)\n",
      "22 (0.03178333333333333, 0.035799999999999998)\n",
      "23 (0.029233333333333333, 0.033399999999999999)\n",
      "24 (0.030783333333333333, 0.035799999999999998)\n",
      "25 (0.030983333333333335, 0.036299999999999999)\n",
      "26 (0.029649999999999999, 0.033399999999999999)\n",
      "27 (0.029116666666666666, 0.033099999999999997)\n",
      "28 (0.027833333333333335, 0.032899999999999999)\n",
      "29 (0.029749999999999999, 0.033799999999999997)\n",
      "30 (0.030249999999999999, 0.0361)\n",
      "31 (0.027366666666666668, 0.031699999999999999)\n",
      "32 (0.027433333333333334, 0.0304)\n",
      "33 (0.027816666666666667, 0.033300000000000003)\n",
      "34 (0.028850000000000001, 0.032599999999999997)\n",
      "35 (0.026566666666666666, 0.0281)\n",
      "36 (0.026950000000000002, 0.030599999999999999)\n",
      "37 (0.026933333333333333, 0.031)\n",
      "38 (0.027566666666666666, 0.0315)\n",
      "39 (0.025983333333333334, 0.028400000000000002)\n",
      "40 (0.027516666666666665, 0.030099999999999998)\n",
      "41 (0.028533333333333334, 0.031600000000000003)\n",
      "42 (0.025733333333333334, 0.028000000000000001)\n",
      "43 (0.027433333333333334, 0.0286)\n",
      "44 (0.026483333333333334, 0.0286)\n",
      "45 (0.026166666666666668, 0.028899999999999999)\n",
      "46 (0.026233333333333334, 0.0293)\n",
      "47 (0.025366666666666666, 0.028199999999999999)\n",
      "48 (0.02725, 0.031600000000000003)\n",
      "49 (0.026266666666666667, 0.029000000000000001)\n",
      "50 (0.025633333333333334, 0.027400000000000001)\n",
      "51 (0.026033333333333332, 0.031199999999999999)\n",
      "52 (0.026466666666666666, 0.030499999999999999)\n",
      "53 (0.02555, 0.029600000000000001)\n",
      "54 (0.024933333333333332, 0.0275)\n",
      "55 (0.026766666666666668, 0.030300000000000001)\n",
      "56 (0.025600000000000001, 0.028299999999999999)\n",
      "57 (0.025166666666666667, 0.028000000000000001)\n",
      "58 (0.024983333333333333, 0.029399999999999999)\n",
      "59 (0.025783333333333332, 0.029000000000000001)\n",
      "60 (0.02545, 0.029000000000000001)\n",
      "61 (0.026533333333333332, 0.030099999999999998)\n",
      "62 (0.026233333333333334, 0.0293)\n",
      "63 (0.025250000000000002, 0.0298)\n",
      "64 (0.024016666666666665, 0.027400000000000001)\n",
      "65 (0.02385, 0.025499999999999998)\n",
      "66 (0.024733333333333333, 0.027900000000000001)\n",
      "67 (0.025066666666666668, 0.028199999999999999)\n",
      "68 (0.026433333333333333, 0.029499999999999998)\n",
      "69 (0.023833333333333335, 0.027199999999999998)\n",
      "70 (0.026183333333333333, 0.029100000000000001)\n",
      "71 (0.024850000000000001, 0.028199999999999999)\n",
      "72 (0.025666666666666667, 0.0309)\n",
      "73 (0.024283333333333334, 0.027300000000000001)\n",
      "74 (0.023516666666666668, 0.0281)\n",
      "75 (0.024683333333333335, 0.029700000000000001)\n",
      "76 (0.025216666666666665, 0.028899999999999999)\n",
      "77 (0.024033333333333334, 0.029600000000000001)\n",
      "78 (0.024883333333333334, 0.0298)\n",
      "79 (0.024799999999999999, 0.028799999999999999)\n",
      "80 (0.023716666666666667, 0.027699999999999999)\n",
      "81 (0.023699999999999999, 0.027199999999999998)\n",
      "82 (0.023300000000000001, 0.026200000000000001)\n",
      "83 (0.023800000000000002, 0.027199999999999998)\n",
      "84 (0.024466666666666668, 0.029399999999999999)\n",
      "85 (0.024683333333333335, 0.029999999999999999)\n",
      "86 (0.023216666666666667, 0.026800000000000001)\n",
      "87 (0.024299999999999999, 0.0292)\n",
      "88 (0.024533333333333334, 0.029000000000000001)\n",
      "89 (0.023816666666666667, 0.028299999999999999)\n",
      "90 (0.025066666666666668, 0.029100000000000001)\n",
      "91 (0.025266666666666666, 0.029999999999999999)\n",
      "92 (0.023900000000000001, 0.025999999999999999)\n",
      "93 (0.023883333333333333, 0.026700000000000002)\n",
      "94 (0.024033333333333334, 0.029700000000000001)\n",
      "95 (0.023433333333333334, 0.028299999999999999)\n",
      "96 (0.023683333333333334, 0.029000000000000001)\n",
      "97 (0.025049999999999999, 0.029999999999999999)\n",
      "98 (0.02445, 0.028000000000000001)\n",
      "99 (0.0253, 0.029899999999999999)\n"
     ]
    }
   ],
   "source": [
    "batch_size = 128\n",
    "errors = []\n",
    "\n",
    "for i in range(1, 100):\n",
    "    \n",
    "    for batch in range(0, X_test.shape[0], batch_size):\n",
    "        cost = train(X_train2[batch:batch+batch_size], \n",
    "                     y_train[batch:batch+batch_size])   \n",
    "        \n",
    "    errors.append((np.mean(y_train != predict(X_train2)), \n",
    "                   np.mean(y_test != predict(X_test2))))\n",
    "    print(i, errors[-1]) "
   ]
  },
  {
   "cell_type": "code",
   "execution_count": 129,
   "metadata": {
    "collapsed": false
   },
   "outputs": [],
   "source": [
    "res = np.array(errors)"
   ]
  },
  {
   "cell_type": "code",
   "execution_count": 130,
   "metadata": {
    "collapsed": false,
    "scrolled": false
   },
   "outputs": [
    {
     "data": {
      "text/plain": [
       "<matplotlib.legend.Legend at 0x7f6ebe26dc18>"
      ]
     },
     "execution_count": 130,
     "metadata": {},
     "output_type": "execute_result"
    },
    {
     "data": {
      "image/png": "[encoded data removed]",
      "text/plain": [
       "<matplotlib.figure.Figure at 0x7f6ebc71c320>"
      ]
     },
     "metadata": {},
     "output_type": "display_data"
    }
   ],
   "source": [
    "plt.plot(np.arange(res.shape[0]), res[:, 0], label='train error')\n",
    "plt.plot(np.arange(res.shape[0]), res[:, 1], label='test  error')\n",
    "plt.legend()"
   ]
  },
  {
   "cell_type": "markdown",
   "metadata": {},
   "source": [
    "# Convolutional Neural Network\n",
    "\n",
    "\n",
    "In machine learning, a convolutional neural network (CNN, or ConvNet) is a type of feed-forward artificial neural network in which the connectivity pattern between its neurons is inspired by the organization of the animal visual cortex, whose individual neurons are arranged in such a way that they respond to overlapping regions tiling the visual field. Convolutional networks were inspired by biological processes and are variations of multilayer perceptrons designed to use minimal amounts of preprocessing. (Wikipedia)\n",
    "\n",
    "\n",
    "![a](d7.png)"
   ]
  },
  {
   "cell_type": "markdown",
   "metadata": {},
   "source": [
    "### Motivation\n",
    "\n",
    "Convolutional Neural Networks (CNN) are biologically-inspired variants of MLPs.\n",
    "From Hubel and Wiesel's early work on the cat's visual cortex, we\n",
    "know the visual cortex contains a complex arrangement of cells. These cells are\n",
    "sensitive to small sub-regions of the visual field, called a *receptive\n",
    "field*. The sub-regions are tiled to cover the entire visual field. These\n",
    "cells act as local filters over the input space and are well-suited to exploit\n",
    "the strong spatially local correlation present in natural images.\n",
    "\n",
    "Additionally, two basic cell types have been identified: Simple cells respond\n",
    "maximally to specific edge-like patterns within their receptive field. Complex\n",
    "cells have larger receptive fields and are locally invariant to the exact\n",
    "position of the pattern.\n",
    "\n",
    "The animal visual cortex being the most powerful visual processing system in\n",
    "existence, it seems natural to emulate its behavior. Hence, many\n",
    "neurally-inspired models can be found in the literature. \n",
    "\n",
    "### Sparse Connectivity\n",
    "\n",
    "\n",
    "CNNs exploit spatially-local correlation by enforcing a local connectivity\n",
    "pattern between neurons of adjacent layers. In other words, the inputs of\n",
    "hidden units in layer **m** are from a subset of units in layer **m-1**, units\n",
    "that have spatially contiguous receptive fields. We can illustrate this\n",
    "graphically as follows:\n",
    "\n",
    "![A](sparse_1D_nn.png)\n",
    "\n",
    "Imagine that layer **m-1** is the input retina. In the above figure, units in\n",
    "layer **m** have receptive fields of width 3 in the input retina and are thus\n",
    "only connected to 3 adjacent neurons in the retina layer. Units in layer\n",
    "**m+1** have a similar connectivity with the layer below. We say that their\n",
    "receptive field with respect to the layer below is also 3, but their receptive\n",
    "field with respect to the input is larger (5). Each unit is unresponsive to\n",
    "variations outside of its receptive field with respect to the retina. The\n",
    "architecture thus ensures that the learnt \"filters\" produce the strongest\n",
    "response to a spatially local input pattern.\n",
    "\n",
    "However, as shown above, stacking many such layers leads to (non-linear)\n",
    "\"filters\" that become increasingly \"global\" (i.e. responsive to a larger region\n",
    "of pixel space). For example, the unit in hidden layer **m+1** can encode a\n",
    "non-linear feature of width 5 (in terms of pixel space)."
   ]
  },
  {
   "cell_type": "markdown",
   "metadata": {},
   "source": [
    "### Shared Weights\n",
    "\n",
    "\n",
    "In addition, in CNNs, each filter $h_i$ is replicated across the entire\n",
    "visual field. These replicated units share the same parameterization (weight\n",
    "vector and bias) and form a *feature map*.\n",
    "\n",
    "![](conv_1D_nn.png)\n",
    "\n",
    "In the above figure, we show 3 hidden units belonging to the same feature map.\n",
    "Weights of the same color are shared---constrained to be identical. Gradient\n",
    "descent can still be used to learn such shared parameters, with only a small\n",
    "change to the original algorithm. The gradient of a shared weight is simply the\n",
    "sum of the gradients of the parameters being shared.\n",
    "\n",
    "Replicating units in this way allows for features to be detected *regardless\n",
    "of their position in the visual field.* Additionally, weight sharing increases\n",
    "learning efficiency by greatly reducing the number of free parameters being\n",
    "learnt. The constraints on the model enable CNNs to achieve better\n",
    "generalization on vision problems.\n",
    "\n",
    "\n",
    "### Details and Notation\n",
    "\n",
    "\n",
    "A feature map is obtained by repeated application of a function across\n",
    "sub-regions of the entire image, in other words, by *convolution* of the\n",
    "input image with a linear filter, adding a bias term and then applying a\n",
    "non-linear function. If we denote the k-th feature map at a given layer as\n",
    "$h^k$, whose filters are determined by the weights $W^k$ and bias\n",
    "$b_k$, then the feature map $h^k$ is obtained as follows (for\n",
    "$tanh$ non-linearities):"
   ]
  },
  {
   "cell_type": "markdown",
   "metadata": {},
   "source": [
    "$$\n",
    "    h^k_{ij} = \\tanh ( (W^k * x)_{ij} + b_k ).\n",
    "$$\n",
    "\n",
    "Note\n",
    "\n",
    "* Recall the following definition of convolution for a 1D signal.\n",
    "$$  o[n] = f[n]*g[n] = \\sum_{u=-\\infty}^{\\infty} f[u] g[n-u] = \\sum_{u=-\\infty}^{\\infty} f[n-u] g[u]`.\n",
    "$$\n",
    "\n",
    "* This can be extended to 2D as follows:\n",
    "\n",
    "$$o[m,n] = f[m,n]*g[m,n] = \\sum_{u=-\\infty}^{\\infty} \\sum_{v=-\\infty}^{\\infty} f[u,v] g[m-u,n-v]`.\n",
    "$$"
   ]
  },
  {
   "cell_type": "markdown",
   "metadata": {},
   "source": [
    "To form a richer representation of the data, each hidden layer is composed of\n",
    "*multiple* feature maps, $\\{h^{(k)}, k=0..K\\}$. The weights $W$ of\n",
    "a hidden layer can be represented in a 4D tensor containing elements for every\n",
    "combination of destination feature map, source feature map, source vertical\n",
    "position, and source horizontal position. The biases $b$ can be\n",
    "represented as a vector containing one element for every destination feature\n",
    "map. We illustrate this graphically as follows:\n",
    "\n",
    "**Figure 1**: example of a convolutional layer\n",
    "![](cnn_explained.png)\n",
    "\n",
    "\n",
    "The figure shows two layers of a CNN. **Layer m-1** contains four feature maps.\n",
    "**Hidden layer m** contains two feature maps ($h^0$ and $h^1$).\n",
    "Pixels (neuron outputs) in $h^0$ and $h^1$ (outlined as blue and\n",
    "red squares) are computed from pixels of layer (m-1) which fall within their\n",
    "2x2 receptive field in the layer below (shown as colored rectangles). Notice\n",
    "how the receptive field spans all four input feature maps. The weights\n",
    "$W^0$ and $W^1$ of $h^0$ and $h^1$ are thus 3D weight\n",
    "tensors. The leading dimension indexes the input feature maps, while the other\n",
    "two refer to the pixel coordinates.\n",
    "\n",
    "Putting it all together, $W^{kl}_{ij}$ denotes the weight connecting\n",
    "each pixel of the k-th feature map at layer m, with the pixel at coordinates\n",
    "(i,j) of the l-th feature map of layer (m-1)."
   ]
  },
  {
   "cell_type": "markdown",
   "metadata": {},
   "source": [
    "### The Convolution Operator\n",
    "\n",
    "\n",
    "ConvOp is the main workhorse for implementing a convolutional layer in Theano.\n",
    "ConvOp is used by ``theano.tensor.signal.conv2d``, which takes two symbolic inputs:\n",
    "\n",
    "\n",
    "* a 4D tensor corresponding to a mini-batch of input images. The shape of the\n",
    "  tensor is as follows: [mini-batch size, number of input feature maps, image\n",
    "  height, image width].\n",
    "\n",
    "* a 4D tensor corresponding to the weight matrix $W$. The shape of the\n",
    "  tensor is: [number of feature maps at layer m, number of feature maps at\n",
    "  layer m-1, filter height, filter width]"
   ]
  },
  {
   "cell_type": "markdown",
   "metadata": {},
   "source": [
    "### MaxPooling\n",
    "\n",
    "\n",
    "Another important concept of CNNs is *max-pooling,* which is a form of\n",
    "non-linear down-sampling. Max-pooling partitions the input image into\n",
    "a set of non-overlapping rectangles and, for each such sub-region, outputs the\n",
    "maximum value.\n",
    "\n",
    "Max-pooling is useful in vision for two reasons: \n",
    "* By eliminating non-maximal values, it reduces computation for upper layers.\n",
    "\n",
    "* It provides a form of translation invariance. Imagine\n",
    "     cascading a max-pooling layer with a convolutional layer. There are 8\n",
    "     directions in which one can translate the input image by a single pixel.\n",
    "     If max-pooling is done over a 2x2 region, 3 out of these 8 possible\n",
    "     configurations will produce exactly the same output at the convolutional\n",
    "     layer. For max-pooling over a 3x3 window, this jumps to 5/8.\n",
    "\n",
    "     Since it provides additional robustness to position, max-pooling is a\n",
    "     \"smart\" way of reducing the dimensionality of intermediate representations.\n",
    "\n",
    "Max-pooling is done in Theano by way of\n",
    "``theano.tensor.signal.downsample.max_pool_2d``. This function takes as input\n",
    "an N dimensional tensor (where N >= 2) and a downscaling factor and performs\n",
    "max-pooling over the 2 trailing dimensions of the tensor.\n",
    "\n",
    "\n",
    "### The Full Model: CovNet\n",
    "\n",
    "\n",
    "Sparse, convolutional layers and max-pooling are at the heart of the LeNet\n",
    "family of models. While the exact details of the model will vary greatly,\n",
    "the figure below shows a graphical depiction of a LeNet model.\n",
    "\n",
    "![](mylenet.png)\n",
    "\n",
    "\n",
    "The lower-layers are composed to alternating convolution and max-pooling\n",
    "layers. The upper-layers however are fully-connected and correspond to a\n",
    "traditional MLP (hidden layer + logistic regression). The input to the\n",
    "first fully-connected layer is the set of all features maps at the layer\n",
    "below.\n",
    "\n",
    "From an implementation point of view, this means lower-layers operate on 4D\n",
    "tensors. These are then flattened to a 2D matrix of rasterized feature maps,\n",
    "to be compatible with our previous MLP implementation.\n"
   ]
  },
  {
   "cell_type": "code",
   "execution_count": 16,
   "metadata": {
    "collapsed": false
   },
   "outputs": [
    {
     "name": "stderr",
     "output_type": "stream",
     "text": [
      "/home/al/anaconda3/lib/python3.5/site-packages/theano/tensor/signal/downsample.py:6: UserWarning: downsample module has been moved to the theano.tensor.signal.pool module.\n",
      "  \"downsample module has been moved to the theano.tensor.signal.pool module.\")\n"
     ]
    }
   ],
   "source": [
    "from theano.tensor.nnet.conv import conv2d\n",
    "from theano.tensor.signal.downsample import max_pool_2d\n",
    "\n",
    "def model(X, w, w2, w3, w4, p_drop_conv, p_drop_hidden):\n",
    "    l1a = rectify(conv2d(X, w, border_mode='full'))\n",
    "    l1 = max_pool_2d(l1a, (2, 2))\n",
    "    l1 = dropout(l1, p_drop_conv)\n",
    "\n",
    "    l2a = rectify(conv2d(l1, w2))\n",
    "    l2 = max_pool_2d(l2a, (2, 2))\n",
    "    l2 = dropout(l2, p_drop_conv)\n",
    "\n",
    "    l3a = rectify(conv2d(l2, w3))\n",
    "    l3b = max_pool_2d(l3a, (2, 2))\n",
    "    # convert from 4tensor to normal matrix\n",
    "    l3 = T.flatten(l3b, outdim=2)\n",
    "    l3 = dropout(l3, p_drop_conv)\n",
    "\n",
    "    l4 = rectify(T.dot(l3, w4))\n",
    "    l4 = dropout(l4, p_drop_hidden)\n",
    "\n",
    "    pyx = softmax(T.dot(l4, w_o))\n",
    "    return l1, l2, l3, l4, pyx"
   ]
  },
  {
   "cell_type": "markdown",
   "metadata": {},
   "source": [
    "reshape into conv 4tensor (b, c, 0, 1) format"
   ]
  },
  {
   "cell_type": "code",
   "execution_count": 38,
   "metadata": {
    "collapsed": false
   },
   "outputs": [],
   "source": [
    "trX = X_train2.reshape(-1, 1, 28, 28)\n",
    "teX = X_test2.reshape(-1, 1, 28, 28)"
   ]
  },
  {
   "cell_type": "code",
   "execution_count": 39,
   "metadata": {
    "collapsed": false
   },
   "outputs": [],
   "source": [
    "# now 4tensor for conv instead of matrix\n",
    "X = T.ftensor4()\n",
    "Y = T.ivector()"
   ]
  },
  {
   "cell_type": "code",
   "execution_count": 52,
   "metadata": {
    "collapsed": false
   },
   "outputs": [],
   "source": [
    "w = init_weights((32, 1, 3, 3))\n",
    "w2 = init_weights((64, 32, 3, 3))\n",
    "w3 = init_weights((128, 64, 3, 3))\n",
    "w4 = init_weights((128 * 3 * 3, 625))\n",
    "# w4 = init_weights((128 * 3 * 3, 625))\n",
    "w_o = init_weights((625, 10))"
   ]
  },
  {
   "cell_type": "code",
   "execution_count": 53,
   "metadata": {
    "collapsed": false
   },
   "outputs": [
    {
     "name": "stderr",
     "output_type": "stream",
     "text": [
      "/home/al/anaconda3/lib/python3.5/site-packages/ipykernel/__main__.py:6: UserWarning: pool_2d() will have the parameter ignore_border default value changed to True (currently False). To have consistent behavior with all Theano version, explicitly add the parameter ignore_border=True. On the GPU, using ignore_border=True is needed to use cuDNN. When using ignore_border=False and not using cuDNN, the only GPU combination supported is when `ds == st and padding == (0, 0) and mode == 'max'`. Otherwise, the convolution will be executed on CPU.\n",
      "/home/al/anaconda3/lib/python3.5/site-packages/ipykernel/__main__.py:10: UserWarning: pool_2d() will have the parameter ignore_border default value changed to True (currently False). To have consistent behavior with all Theano version, explicitly add the parameter ignore_border=True. On the GPU, using ignore_border=True is needed to use cuDNN. When using ignore_border=False and not using cuDNN, the only GPU combination supported is when `ds == st and padding == (0, 0) and mode == 'max'`. Otherwise, the convolution will be executed on CPU.\n",
      "/home/al/anaconda3/lib/python3.5/site-packages/ipykernel/__main__.py:14: UserWarning: pool_2d() will have the parameter ignore_border default value changed to True (currently False). To have consistent behavior with all Theano version, explicitly add the parameter ignore_border=True. On the GPU, using ignore_border=True is needed to use cuDNN. When using ignore_border=False and not using cuDNN, the only GPU combination supported is when `ds == st and padding == (0, 0) and mode == 'max'`. Otherwise, the convolution will be executed on CPU.\n"
     ]
    }
   ],
   "source": [
    "noise_l1, noise_l2, noise_l3, noise_l4, noise_py_x = model(X, w, w2, w3, w4, 0.2, 0.5)\n",
    "l1, l2, l3, l4, py_x = model(X, w, w2, w3, w4, 0., 0.)\n",
    "y_x = T.argmax(py_x, axis=1)\n",
    "\n",
    "cost = T.mean(T.nnet.categorical_crossentropy(noise_py_x, Y))\n",
    "params = [w, w2, w3, w4, w_o]\n",
    "updates = RMSprop(cost, params, lr=0.001)\n",
    "\n",
    "train = theano.function(inputs=[X, Y], outputs=cost, updates=updates, allow_input_downcast=True)\n",
    "predict = theano.function(inputs=[X], outputs=y_x, allow_input_downcast=True)"
   ]
  },
  {
   "cell_type": "code",
   "execution_count": 54,
   "metadata": {
    "collapsed": false
   },
   "outputs": [
    {
     "data": {
      "text/plain": [
       "((60000, 1, 28, 28), (60000, 784))"
      ]
     },
     "execution_count": 54,
     "metadata": {},
     "output_type": "execute_result"
    }
   ],
   "source": [
    "trX.shape, X_train2.shape"
   ]
  },
  {
   "cell_type": "code",
   "execution_count": 55,
   "metadata": {
    "collapsed": false,
    "scrolled": true
   },
   "outputs": [
    {
     "ename": "ValueError",
     "evalue": "Shape mismatch: x has 384 cols (and 128 rows) but y has 1152 rows (and 1250 cols)\nApply node that caused the error: Dot22(Elemwise{mul,no_inplace}.0, <TensorType(float32, matrix)>)\nToposort index: 68\nInputs types: [TensorType(float32, matrix), TensorType(float32, matrix)]\nInputs shapes: [(128, 384), (1152, 1250)]\nInputs strides: [(1536, 4), (5000, 4)]\nInputs values: ['not shown', 'not shown']\nOutputs clients: [[Elemwise{maximum,no_inplace}(Dot22.0, TensorConstant{(1, 1) of 0.0}), Elemwise{Composite{(i0 * EQ(i1, i2) * i3)}}[(0, 0)](Dot22Scalar.0, Elemwise{maximum,no_inplace}.0, Dot22.0, Elemwise{Composite{Cast{float32}(LT(i0, i1))}}[(0, 0)].0)]]\n\nHINT: Re-running with most Theano optimization disabled could give you a back-trace of when this node was created. This can be done with by setting the Theano flag 'optimizer=fast_compile'. If that does not work, Theano optimizations can be disabled with 'optimizer=None'.\nHINT: Use the Theano flag 'exception_verbosity=high' for a debugprint and storage map footprint of this apply node.",
     "output_type": "error",
     "traceback": [
      "\u001b[1;31m---------------------------------------------------------------------------\u001b[0m",
      "\u001b[1;31mValueError\u001b[0m                                Traceback (most recent call last)",
      "\u001b[1;32m/home/al/anaconda3/lib/python3.5/site-packages/theano/compile/function_module.py\u001b[0m in \u001b[0;36m__call__\u001b[1;34m(self, *args, **kwargs)\u001b[0m\n\u001b[0;32m    858\u001b[0m         \u001b[1;32mtry\u001b[0m\u001b[1;33m:\u001b[0m\u001b[1;33m\u001b[0m\u001b[0m\n\u001b[1;32m--> 859\u001b[1;33m             \u001b[0moutputs\u001b[0m \u001b[1;33m=\u001b[0m \u001b[0mself\u001b[0m\u001b[1;33m.\u001b[0m\u001b[0mfn\u001b[0m\u001b[1;33m(\u001b[0m\u001b[1;33m)\u001b[0m\u001b[1;33m\u001b[0m\u001b[0m\n\u001b[0m\u001b[0;32m    860\u001b[0m         \u001b[1;32mexcept\u001b[0m \u001b[0mException\u001b[0m\u001b[1;33m:\u001b[0m\u001b[1;33m\u001b[0m\u001b[0m\n",
      "\u001b[1;31mValueError\u001b[0m: Shape mismatch: x has 384 cols (and 128 rows) but y has 1152 rows (and 1250 cols)",
      "\nDuring handling of the above exception, another exception occurred:\n",
      "\u001b[1;31mValueError\u001b[0m                                Traceback (most recent call last)",
      "\u001b[1;32m<ipython-input-55-61a4123884cd>\u001b[0m in \u001b[0;36m<module>\u001b[1;34m()\u001b[0m\n\u001b[0;32m      6\u001b[0m     \u001b[1;32mfor\u001b[0m \u001b[0mbatch\u001b[0m \u001b[1;32min\u001b[0m \u001b[0mrange\u001b[0m\u001b[1;33m(\u001b[0m\u001b[1;36m0\u001b[0m\u001b[1;33m,\u001b[0m \u001b[0mX_test\u001b[0m\u001b[1;33m.\u001b[0m\u001b[0mshape\u001b[0m\u001b[1;33m[\u001b[0m\u001b[1;36m0\u001b[0m\u001b[1;33m]\u001b[0m\u001b[1;33m,\u001b[0m \u001b[0mbatch_size\u001b[0m\u001b[1;33m)\u001b[0m\u001b[1;33m:\u001b[0m\u001b[1;33m\u001b[0m\u001b[0m\n\u001b[0;32m      7\u001b[0m         cost = train(trX[batch:batch+batch_size], \n\u001b[1;32m----> 8\u001b[1;33m                      y_train[batch:batch+batch_size])   \n\u001b[0m\u001b[0;32m      9\u001b[0m \u001b[1;33m\u001b[0m\u001b[0m\n\u001b[0;32m     10\u001b[0m     errors.append((np.mean(y_train != predict(trX)), \n",
      "\u001b[1;32m/home/al/anaconda3/lib/python3.5/site-packages/theano/compile/function_module.py\u001b[0m in \u001b[0;36m__call__\u001b[1;34m(self, *args, **kwargs)\u001b[0m\n\u001b[0;32m    869\u001b[0m                     \u001b[0mnode\u001b[0m\u001b[1;33m=\u001b[0m\u001b[0mself\u001b[0m\u001b[1;33m.\u001b[0m\u001b[0mfn\u001b[0m\u001b[1;33m.\u001b[0m\u001b[0mnodes\u001b[0m\u001b[1;33m[\u001b[0m\u001b[0mself\u001b[0m\u001b[1;33m.\u001b[0m\u001b[0mfn\u001b[0m\u001b[1;33m.\u001b[0m\u001b[0mposition_of_error\u001b[0m\u001b[1;33m]\u001b[0m\u001b[1;33m,\u001b[0m\u001b[1;33m\u001b[0m\u001b[0m\n\u001b[0;32m    870\u001b[0m                     \u001b[0mthunk\u001b[0m\u001b[1;33m=\u001b[0m\u001b[0mthunk\u001b[0m\u001b[1;33m,\u001b[0m\u001b[1;33m\u001b[0m\u001b[0m\n\u001b[1;32m--> 871\u001b[1;33m                     storage_map=getattr(self.fn, 'storage_map', None))\n\u001b[0m\u001b[0;32m    872\u001b[0m             \u001b[1;32melse\u001b[0m\u001b[1;33m:\u001b[0m\u001b[1;33m\u001b[0m\u001b[0m\n\u001b[0;32m    873\u001b[0m                 \u001b[1;31m# old-style linkers raise their own exceptions\u001b[0m\u001b[1;33m\u001b[0m\u001b[1;33m\u001b[0m\u001b[0m\n",
      "\u001b[1;32m/home/al/anaconda3/lib/python3.5/site-packages/theano/gof/link.py\u001b[0m in \u001b[0;36mraise_with_op\u001b[1;34m(node, thunk, exc_info, storage_map)\u001b[0m\n\u001b[0;32m    312\u001b[0m         \u001b[1;31m# extra long error message in that case.\u001b[0m\u001b[1;33m\u001b[0m\u001b[1;33m\u001b[0m\u001b[0m\n\u001b[0;32m    313\u001b[0m         \u001b[1;32mpass\u001b[0m\u001b[1;33m\u001b[0m\u001b[0m\n\u001b[1;32m--> 314\u001b[1;33m     \u001b[0mreraise\u001b[0m\u001b[1;33m(\u001b[0m\u001b[0mexc_type\u001b[0m\u001b[1;33m,\u001b[0m \u001b[0mexc_value\u001b[0m\u001b[1;33m,\u001b[0m \u001b[0mexc_trace\u001b[0m\u001b[1;33m)\u001b[0m\u001b[1;33m\u001b[0m\u001b[0m\n\u001b[0m\u001b[0;32m    315\u001b[0m \u001b[1;33m\u001b[0m\u001b[0m\n\u001b[0;32m    316\u001b[0m \u001b[1;33m\u001b[0m\u001b[0m\n",
      "\u001b[1;32m/home/al/anaconda3/lib/python3.5/site-packages/six.py\u001b[0m in \u001b[0;36mreraise\u001b[1;34m(tp, value, tb)\u001b[0m\n\u001b[0;32m    683\u001b[0m             \u001b[0mvalue\u001b[0m \u001b[1;33m=\u001b[0m \u001b[0mtp\u001b[0m\u001b[1;33m(\u001b[0m\u001b[1;33m)\u001b[0m\u001b[1;33m\u001b[0m\u001b[0m\n\u001b[0;32m    684\u001b[0m         \u001b[1;32mif\u001b[0m \u001b[0mvalue\u001b[0m\u001b[1;33m.\u001b[0m\u001b[0m__traceback__\u001b[0m \u001b[1;32mis\u001b[0m \u001b[1;32mnot\u001b[0m \u001b[0mtb\u001b[0m\u001b[1;33m:\u001b[0m\u001b[1;33m\u001b[0m\u001b[0m\n\u001b[1;32m--> 685\u001b[1;33m             \u001b[1;32mraise\u001b[0m \u001b[0mvalue\u001b[0m\u001b[1;33m.\u001b[0m\u001b[0mwith_traceback\u001b[0m\u001b[1;33m(\u001b[0m\u001b[0mtb\u001b[0m\u001b[1;33m)\u001b[0m\u001b[1;33m\u001b[0m\u001b[0m\n\u001b[0m\u001b[0;32m    686\u001b[0m         \u001b[1;32mraise\u001b[0m \u001b[0mvalue\u001b[0m\u001b[1;33m\u001b[0m\u001b[0m\n\u001b[0;32m    687\u001b[0m \u001b[1;33m\u001b[0m\u001b[0m\n",
      "\u001b[1;32m/home/al/anaconda3/lib/python3.5/site-packages/theano/compile/function_module.py\u001b[0m in \u001b[0;36m__call__\u001b[1;34m(self, *args, **kwargs)\u001b[0m\n\u001b[0;32m    857\u001b[0m         \u001b[0mt0_fn\u001b[0m \u001b[1;33m=\u001b[0m \u001b[0mtime\u001b[0m\u001b[1;33m.\u001b[0m\u001b[0mtime\u001b[0m\u001b[1;33m(\u001b[0m\u001b[1;33m)\u001b[0m\u001b[1;33m\u001b[0m\u001b[0m\n\u001b[0;32m    858\u001b[0m         \u001b[1;32mtry\u001b[0m\u001b[1;33m:\u001b[0m\u001b[1;33m\u001b[0m\u001b[0m\n\u001b[1;32m--> 859\u001b[1;33m             \u001b[0moutputs\u001b[0m \u001b[1;33m=\u001b[0m \u001b[0mself\u001b[0m\u001b[1;33m.\u001b[0m\u001b[0mfn\u001b[0m\u001b[1;33m(\u001b[0m\u001b[1;33m)\u001b[0m\u001b[1;33m\u001b[0m\u001b[0m\n\u001b[0m\u001b[0;32m    860\u001b[0m         \u001b[1;32mexcept\u001b[0m \u001b[0mException\u001b[0m\u001b[1;33m:\u001b[0m\u001b[1;33m\u001b[0m\u001b[0m\n\u001b[0;32m    861\u001b[0m             \u001b[1;32mif\u001b[0m \u001b[0mhasattr\u001b[0m\u001b[1;33m(\u001b[0m\u001b[0mself\u001b[0m\u001b[1;33m.\u001b[0m\u001b[0mfn\u001b[0m\u001b[1;33m,\u001b[0m \u001b[1;34m'position_of_error'\u001b[0m\u001b[1;33m)\u001b[0m\u001b[1;33m:\u001b[0m\u001b[1;33m\u001b[0m\u001b[0m\n",
      "\u001b[1;31mValueError\u001b[0m: Shape mismatch: x has 384 cols (and 128 rows) but y has 1152 rows (and 1250 cols)\nApply node that caused the error: Dot22(Elemwise{mul,no_inplace}.0, <TensorType(float32, matrix)>)\nToposort index: 68\nInputs types: [TensorType(float32, matrix), TensorType(float32, matrix)]\nInputs shapes: [(128, 384), (1152, 1250)]\nInputs strides: [(1536, 4), (5000, 4)]\nInputs values: ['not shown', 'not shown']\nOutputs clients: [[Elemwise{maximum,no_inplace}(Dot22.0, TensorConstant{(1, 1) of 0.0}), Elemwise{Composite{(i0 * EQ(i1, i2) * i3)}}[(0, 0)](Dot22Scalar.0, Elemwise{maximum,no_inplace}.0, Dot22.0, Elemwise{Composite{Cast{float32}(LT(i0, i1))}}[(0, 0)].0)]]\n\nHINT: Re-running with most Theano optimization disabled could give you a back-trace of when this node was created. This can be done with by setting the Theano flag 'optimizer=fast_compile'. If that does not work, Theano optimizations can be disabled with 'optimizer=None'.\nHINT: Use the Theano flag 'exception_verbosity=high' for a debugprint and storage map footprint of this apply node."
     ]
    }
   ],
   "source": [
    "batch_size = 128\n",
    "errors = []\n",
    "\n",
    "for i in range(1, 2):\n",
    "    \n",
    "    for batch in range(0, X_test.shape[0], batch_size):\n",
    "        cost = train(trX[batch:batch+batch_size], \n",
    "                     y_train[batch:batch+batch_size])   \n",
    "        \n",
    "    errors.append((np.mean(y_train != predict(trX)), \n",
    "                   np.mean(y_test != predict(teX))))\n",
    "    print(i, errors[-1]) "
   ]
  },
  {
   "cell_type": "code",
   "execution_count": 129,
   "metadata": {
    "collapsed": false
   },
   "outputs": [],
   "source": [
    "res = np.array(errors)"
   ]
  },
  {
   "cell_type": "code",
   "execution_count": 130,
   "metadata": {
    "collapsed": false,
    "scrolled": false
   },
   "outputs": [
    {
     "data": {
      "text/plain": [
       "<matplotlib.legend.Legend at 0x7f6ebe26dc18>"
      ]
     },
     "execution_count": 130,
     "metadata": {},
     "output_type": "execute_result"
    },
    {
     "data": {
      "image/png": "[encoded data removed]",
      "text/plain": [
       "<matplotlib.figure.Figure at 0x7f6ebc71c320>"
      ]
     },
     "metadata": {},
     "output_type": "display_data"
    }
   ],
   "source": [
    "plt.plot(np.arange(res.shape[0]), res[:, 0], label='train error')\n",
    "plt.plot(np.arange(res.shape[0]), res[:, 1], label='test  error')\n",
    "plt.legend()"
   ]
  }
 ],
 "metadata": {
  "kernelspec": {
   "display_name": "Python 3",
   "language": "python",
   "name": "python3"
  },
  "language_info": {
   "codemirror_mode": {
    "name": "ipython",
    "version": 3
   },
   "file_extension": ".py",
   "mimetype": "text/x-python",
   "name": "python",
   "nbconvert_exporter": "python",
   "pygments_lexer": "ipython3",
   "version": "3.5.1"
  }
 },
 "nbformat": 4,
 "nbformat_minor": 0
}
