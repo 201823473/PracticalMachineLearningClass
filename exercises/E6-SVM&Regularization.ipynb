{
 "cells": [
  {
   "cell_type": "markdown",
   "metadata": {},
   "source": [
    "# Exercise 6\n",
    "\n",
    "## SVM & Regularization\n",
    "\n",
    "\n",
    "For this homework we consider a set of observations on a number of red and white wine varieties involving their chemical properties and ranking by tasters. Wine industry shows a recent growth spurt as social drinking is on the rise. The price of wine depends on a rather abstract concept of wine appreciation by wine tasters, opinion among whom may have a high degree of variability. Pricing of wine depends on such a volatile factor to some extent. Another key factor in wine certification and quality assessment is physicochemical tests which are laboratory-based and takes into account factors like acidity, pH level, presence of sugar and other chemical properties. For the wine market, it would be of interest if human quality of tasting can be related to the chemical properties of wine so that certification and quality assessment and assurance process is more controlled.\n",
    "\n",
    "Two datasets are available of which one dataset is on red wine and have 1599 different varieties and the other is on white wine and have 4898 varieties. All wines are produced in a particular area of Portugal. Data are collected on 12 different properties of the wines one of which is Quality, based on sensory data, and the rest are on chemical properties of the wines including density, acidity, alcohol content etc. All chemical properties of wines are continuous variables. Quality is an ordinal variable with possible ranking from 1 (worst) to 10 (best). Each variety of wine is tasted by three independent tasters and the final rank assigned is the median rank given by the tasters.\n",
    "\n",
    "A predictive model developed on this data is expected to provide guidance to vineyards regarding quality and price expected on their produce without heavy reliance on volatility of wine tasters."
   ]
  },
  {
   "cell_type": "code",
   "execution_count": 1,
   "metadata": {},
   "outputs": [],
   "source": [
    "import pandas as pd\n",
    "import numpy as np"
   ]
  },
  {
   "cell_type": "code",
   "execution_count": 2,
   "metadata": {},
   "outputs": [],
   "source": [
    "data_r = pd.read_csv('https://github.com/albahnsen/PracticalMachineLearningClass/raw/master/datasets/Wine_data_red.csv')\n",
    "data_w = pd.read_csv('https://github.com/albahnsen/PracticalMachineLearningClass/raw/master/datasets/Wine_data_white.csv')"
   ]
  },
  {
   "cell_type": "code",
   "execution_count": 3,
   "metadata": {},
   "outputs": [
    {
     "data": {
      "text/html": [
       "<div>\n",
       "<style scoped>\n",
       "    .dataframe tbody tr th:only-of-type {\n",
       "        vertical-align: middle;\n",
       "    }\n",
       "\n",
       "    .dataframe tbody tr th {\n",
       "        vertical-align: top;\n",
       "    }\n",
       "\n",
       "    .dataframe thead th {\n",
       "        text-align: right;\n",
       "    }\n",
       "</style>\n",
       "<table border=\"1\" class=\"dataframe\">\n",
       "  <thead>\n",
       "    <tr style=\"text-align: right;\">\n",
       "      <th></th>\n",
       "      <th>fixed acidity</th>\n",
       "      <th>volatile acidity</th>\n",
       "      <th>citric acid</th>\n",
       "      <th>residual sugar</th>\n",
       "      <th>chlorides</th>\n",
       "      <th>free sulfur dioxide</th>\n",
       "      <th>total sulfur dioxide</th>\n",
       "      <th>density</th>\n",
       "      <th>pH</th>\n",
       "      <th>sulphates</th>\n",
       "      <th>alcohol</th>\n",
       "      <th>quality</th>\n",
       "      <th>type</th>\n",
       "    </tr>\n",
       "  </thead>\n",
       "  <tbody>\n",
       "    <tr>\n",
       "      <th>4226</th>\n",
       "      <td>5.6</td>\n",
       "      <td>0.255</td>\n",
       "      <td>0.57</td>\n",
       "      <td>10.7</td>\n",
       "      <td>0.056</td>\n",
       "      <td>66.0</td>\n",
       "      <td>171.0</td>\n",
       "      <td>0.99464</td>\n",
       "      <td>3.25</td>\n",
       "      <td>0.61</td>\n",
       "      <td>10.4</td>\n",
       "      <td>7</td>\n",
       "      <td>white</td>\n",
       "    </tr>\n",
       "    <tr>\n",
       "      <th>757</th>\n",
       "      <td>6.8</td>\n",
       "      <td>0.220</td>\n",
       "      <td>0.37</td>\n",
       "      <td>15.2</td>\n",
       "      <td>0.051</td>\n",
       "      <td>68.0</td>\n",
       "      <td>178.0</td>\n",
       "      <td>0.99935</td>\n",
       "      <td>3.40</td>\n",
       "      <td>0.85</td>\n",
       "      <td>9.3</td>\n",
       "      <td>6</td>\n",
       "      <td>white</td>\n",
       "    </tr>\n",
       "    <tr>\n",
       "      <th>3393</th>\n",
       "      <td>8.0</td>\n",
       "      <td>0.280</td>\n",
       "      <td>0.30</td>\n",
       "      <td>8.4</td>\n",
       "      <td>0.030</td>\n",
       "      <td>35.0</td>\n",
       "      <td>115.0</td>\n",
       "      <td>0.99192</td>\n",
       "      <td>2.93</td>\n",
       "      <td>0.42</td>\n",
       "      <td>12.3</td>\n",
       "      <td>6</td>\n",
       "      <td>white</td>\n",
       "    </tr>\n",
       "    <tr>\n",
       "      <th>4917</th>\n",
       "      <td>7.9</td>\n",
       "      <td>0.320</td>\n",
       "      <td>0.51</td>\n",
       "      <td>1.8</td>\n",
       "      <td>0.341</td>\n",
       "      <td>17.0</td>\n",
       "      <td>56.0</td>\n",
       "      <td>0.99690</td>\n",
       "      <td>3.04</td>\n",
       "      <td>1.08</td>\n",
       "      <td>9.2</td>\n",
       "      <td>6</td>\n",
       "      <td>red</td>\n",
       "    </tr>\n",
       "    <tr>\n",
       "      <th>1119</th>\n",
       "      <td>6.4</td>\n",
       "      <td>0.500</td>\n",
       "      <td>0.16</td>\n",
       "      <td>12.9</td>\n",
       "      <td>0.042</td>\n",
       "      <td>26.0</td>\n",
       "      <td>138.0</td>\n",
       "      <td>0.99740</td>\n",
       "      <td>3.28</td>\n",
       "      <td>0.33</td>\n",
       "      <td>9.0</td>\n",
       "      <td>5</td>\n",
       "      <td>white</td>\n",
       "    </tr>\n",
       "  </tbody>\n",
       "</table>\n",
       "</div>"
      ],
      "text/plain": [
       "      fixed acidity  volatile acidity  citric acid  residual sugar  chlorides  \\\n",
       "4226            5.6             0.255         0.57            10.7      0.056   \n",
       "757             6.8             0.220         0.37            15.2      0.051   \n",
       "3393            8.0             0.280         0.30             8.4      0.030   \n",
       "4917            7.9             0.320         0.51             1.8      0.341   \n",
       "1119            6.4             0.500         0.16            12.9      0.042   \n",
       "\n",
       "      free sulfur dioxide  total sulfur dioxide  density    pH  sulphates  \\\n",
       "4226                 66.0                 171.0  0.99464  3.25       0.61   \n",
       "757                  68.0                 178.0  0.99935  3.40       0.85   \n",
       "3393                 35.0                 115.0  0.99192  2.93       0.42   \n",
       "4917                 17.0                  56.0  0.99690  3.04       1.08   \n",
       "1119                 26.0                 138.0  0.99740  3.28       0.33   \n",
       "\n",
       "      alcohol  quality   type  \n",
       "4226     10.4        7  white  \n",
       "757       9.3        6  white  \n",
       "3393     12.3        6  white  \n",
       "4917      9.2        6    red  \n",
       "1119      9.0        5  white  "
      ]
     },
     "execution_count": 3,
     "metadata": {},
     "output_type": "execute_result"
    }
   ],
   "source": [
    "data = data_w.assign(type = 'white')\n",
    "\n",
    "data = data.append(data_r.assign(type = 'red'), ignore_index=True)\n",
    "data.sample(5)"
   ]
  },
  {
   "cell_type": "markdown",
   "metadata": {},
   "source": [
    "# Exercise 6.1\n",
    "\n",
    "Show the frecuency table of the quality by type of wine"
   ]
  },
  {
   "cell_type": "code",
   "execution_count": 4,
   "metadata": {},
   "outputs": [
    {
     "data": {
      "text/html": [
       "<div>\n",
       "<style scoped>\n",
       "    .dataframe tbody tr th:only-of-type {\n",
       "        vertical-align: middle;\n",
       "    }\n",
       "\n",
       "    .dataframe tbody tr th {\n",
       "        vertical-align: top;\n",
       "    }\n",
       "\n",
       "    .dataframe thead th {\n",
       "        text-align: right;\n",
       "    }\n",
       "</style>\n",
       "<table border=\"1\" class=\"dataframe\">\n",
       "  <thead>\n",
       "    <tr style=\"text-align: right;\">\n",
       "      <th>quality</th>\n",
       "      <th>3</th>\n",
       "      <th>4</th>\n",
       "      <th>5</th>\n",
       "      <th>6</th>\n",
       "      <th>7</th>\n",
       "      <th>8</th>\n",
       "      <th>9</th>\n",
       "      <th>All</th>\n",
       "    </tr>\n",
       "    <tr>\n",
       "      <th>type</th>\n",
       "      <th></th>\n",
       "      <th></th>\n",
       "      <th></th>\n",
       "      <th></th>\n",
       "      <th></th>\n",
       "      <th></th>\n",
       "      <th></th>\n",
       "      <th></th>\n",
       "    </tr>\n",
       "  </thead>\n",
       "  <tbody>\n",
       "    <tr>\n",
       "      <th>red</th>\n",
       "      <td>10</td>\n",
       "      <td>53</td>\n",
       "      <td>681</td>\n",
       "      <td>638</td>\n",
       "      <td>199</td>\n",
       "      <td>18</td>\n",
       "      <td>0</td>\n",
       "      <td>1599</td>\n",
       "    </tr>\n",
       "    <tr>\n",
       "      <th>white</th>\n",
       "      <td>20</td>\n",
       "      <td>163</td>\n",
       "      <td>1457</td>\n",
       "      <td>2198</td>\n",
       "      <td>880</td>\n",
       "      <td>175</td>\n",
       "      <td>5</td>\n",
       "      <td>4898</td>\n",
       "    </tr>\n",
       "    <tr>\n",
       "      <th>All</th>\n",
       "      <td>30</td>\n",
       "      <td>216</td>\n",
       "      <td>2138</td>\n",
       "      <td>2836</td>\n",
       "      <td>1079</td>\n",
       "      <td>193</td>\n",
       "      <td>5</td>\n",
       "      <td>6497</td>\n",
       "    </tr>\n",
       "  </tbody>\n",
       "</table>\n",
       "</div>"
      ],
      "text/plain": [
       "quality   3    4     5     6     7    8  9   All\n",
       "type                                            \n",
       "red      10   53   681   638   199   18  0  1599\n",
       "white    20  163  1457  2198   880  175  5  4898\n",
       "All      30  216  2138  2836  1079  193  5  6497"
      ]
     },
     "execution_count": 4,
     "metadata": {},
     "output_type": "execute_result"
    }
   ],
   "source": [
    "pd.crosstab(data.type, data.quality, margins=True )"
   ]
  },
  {
   "cell_type": "code",
   "execution_count": 5,
   "metadata": {},
   "outputs": [
    {
     "data": {
      "text/html": [
       "<div>\n",
       "<style scoped>\n",
       "    .dataframe tbody tr th:only-of-type {\n",
       "        vertical-align: middle;\n",
       "    }\n",
       "\n",
       "    .dataframe tbody tr th {\n",
       "        vertical-align: top;\n",
       "    }\n",
       "\n",
       "    .dataframe thead th {\n",
       "        text-align: right;\n",
       "    }\n",
       "</style>\n",
       "<table border=\"1\" class=\"dataframe\">\n",
       "  <thead>\n",
       "    <tr style=\"text-align: right;\">\n",
       "      <th>quality</th>\n",
       "      <th>3</th>\n",
       "      <th>4</th>\n",
       "      <th>5</th>\n",
       "      <th>6</th>\n",
       "      <th>7</th>\n",
       "      <th>8</th>\n",
       "      <th>9</th>\n",
       "      <th>All</th>\n",
       "    </tr>\n",
       "    <tr>\n",
       "      <th>type</th>\n",
       "      <th></th>\n",
       "      <th></th>\n",
       "      <th></th>\n",
       "      <th></th>\n",
       "      <th></th>\n",
       "      <th></th>\n",
       "      <th></th>\n",
       "      <th></th>\n",
       "    </tr>\n",
       "  </thead>\n",
       "  <tbody>\n",
       "    <tr>\n",
       "      <th>red</th>\n",
       "      <td>0.15</td>\n",
       "      <td>0.82</td>\n",
       "      <td>10.48</td>\n",
       "      <td>9.82</td>\n",
       "      <td>3.06</td>\n",
       "      <td>0.28</td>\n",
       "      <td>0.00</td>\n",
       "      <td>24.61</td>\n",
       "    </tr>\n",
       "    <tr>\n",
       "      <th>white</th>\n",
       "      <td>0.31</td>\n",
       "      <td>2.51</td>\n",
       "      <td>22.43</td>\n",
       "      <td>33.83</td>\n",
       "      <td>13.54</td>\n",
       "      <td>2.69</td>\n",
       "      <td>0.08</td>\n",
       "      <td>75.39</td>\n",
       "    </tr>\n",
       "    <tr>\n",
       "      <th>All</th>\n",
       "      <td>0.46</td>\n",
       "      <td>3.32</td>\n",
       "      <td>32.91</td>\n",
       "      <td>43.65</td>\n",
       "      <td>16.61</td>\n",
       "      <td>2.97</td>\n",
       "      <td>0.08</td>\n",
       "      <td>100.00</td>\n",
       "    </tr>\n",
       "  </tbody>\n",
       "</table>\n",
       "</div>"
      ],
      "text/plain": [
       "quality     3     4      5      6      7     8     9     All\n",
       "type                                                        \n",
       "red      0.15  0.82  10.48   9.82   3.06  0.28  0.00   24.61\n",
       "white    0.31  2.51  22.43  33.83  13.54  2.69  0.08   75.39\n",
       "All      0.46  3.32  32.91  43.65  16.61  2.97  0.08  100.00"
      ]
     },
     "execution_count": 5,
     "metadata": {},
     "output_type": "execute_result"
    }
   ],
   "source": [
    "round(pd.crosstab(data.type, data.quality, normalize='all', margins=True)*100,2)"
   ]
  },
  {
   "cell_type": "markdown",
   "metadata": {},
   "source": [
    "# SVM"
   ]
  },
  {
   "cell_type": "markdown",
   "metadata": {},
   "source": [
    "# Exercise 6.2\n",
    "\n",
    "* Standarized the features (not the quality)\n",
    "* Create a binary target for each type of wine\n",
    "* Create two Linear SVM's for the white and red wines, repectively.\n"
   ]
  },
  {
   "cell_type": "code",
   "execution_count": 6,
   "metadata": {},
   "outputs": [
    {
     "data": {
      "text/plain": [
       "Index(['fixed acidity', 'volatile acidity', 'citric acid', 'residual sugar',\n",
       "       'chlorides', 'free sulfur dioxide', 'total sulfur dioxide', 'density',\n",
       "       'pH', 'sulphates', 'alcohol', 'quality', 'type'],\n",
       "      dtype='object')"
      ]
     },
     "execution_count": 6,
     "metadata": {},
     "output_type": "execute_result"
    }
   ],
   "source": [
    "# Standarized the features\n",
    "data.columns"
   ]
  },
  {
   "cell_type": "code",
   "execution_count": 7,
   "metadata": {},
   "outputs": [
    {
     "name": "stdout",
     "output_type": "stream",
     "text": [
      "['fixed acidity', 'volatile acidity', 'citric acid', 'residual sugar', 'chlorides', 'free sulfur dioxide', 'total sulfur dioxide', 'density', 'pH', 'sulphates', 'alcohol', 'quality', 'type']\n"
     ]
    }
   ],
   "source": [
    "lista=list(data.columns)\n",
    "print(lista)"
   ]
  },
  {
   "cell_type": "code",
   "execution_count": 8,
   "metadata": {},
   "outputs": [
    {
     "name": "stdout",
     "output_type": "stream",
     "text": [
      "['fixed acidity', 'volatile acidity', 'citric acid', 'residual sugar', 'chlorides', 'free sulfur dioxide', 'total sulfur dioxide', 'density', 'pH', 'sulphates', 'alcohol']\n"
     ]
    }
   ],
   "source": [
    "type(lista)\n",
    "lista.remove(\"quality\")\n",
    "lista.remove(\"type\")\n",
    "print(lista)"
   ]
  },
  {
   "cell_type": "code",
   "execution_count": 9,
   "metadata": {},
   "outputs": [
    {
     "data": {
      "text/html": [
       "<div>\n",
       "<style scoped>\n",
       "    .dataframe tbody tr th:only-of-type {\n",
       "        vertical-align: middle;\n",
       "    }\n",
       "\n",
       "    .dataframe tbody tr th {\n",
       "        vertical-align: top;\n",
       "    }\n",
       "\n",
       "    .dataframe thead th {\n",
       "        text-align: right;\n",
       "    }\n",
       "</style>\n",
       "<table border=\"1\" class=\"dataframe\">\n",
       "  <thead>\n",
       "    <tr style=\"text-align: right;\">\n",
       "      <th></th>\n",
       "      <th>fixed acidity</th>\n",
       "      <th>volatile acidity</th>\n",
       "      <th>citric acid</th>\n",
       "      <th>residual sugar</th>\n",
       "      <th>chlorides</th>\n",
       "      <th>free sulfur dioxide</th>\n",
       "      <th>total sulfur dioxide</th>\n",
       "      <th>density</th>\n",
       "      <th>pH</th>\n",
       "      <th>sulphates</th>\n",
       "      <th>alcohol</th>\n",
       "      <th>quality</th>\n",
       "      <th>type</th>\n",
       "    </tr>\n",
       "  </thead>\n",
       "  <tbody>\n",
       "    <tr>\n",
       "      <th>0</th>\n",
       "      <td>-0.166076</td>\n",
       "      <td>-0.423150</td>\n",
       "      <td>0.284664</td>\n",
       "      <td>3.206682</td>\n",
       "      <td>-0.314951</td>\n",
       "      <td>0.815503</td>\n",
       "      <td>0.959902</td>\n",
       "      <td>2.102052</td>\n",
       "      <td>-1.358944</td>\n",
       "      <td>-0.546136</td>\n",
       "      <td>-1.418449</td>\n",
       "      <td>6</td>\n",
       "      <td>white</td>\n",
       "    </tr>\n",
       "    <tr>\n",
       "      <th>1</th>\n",
       "      <td>-0.706019</td>\n",
       "      <td>-0.240931</td>\n",
       "      <td>0.147035</td>\n",
       "      <td>-0.807775</td>\n",
       "      <td>-0.200775</td>\n",
       "      <td>-0.931035</td>\n",
       "      <td>0.287595</td>\n",
       "      <td>-0.232314</td>\n",
       "      <td>0.506876</td>\n",
       "      <td>-0.277330</td>\n",
       "      <td>-0.831551</td>\n",
       "      <td>6</td>\n",
       "      <td>white</td>\n",
       "    </tr>\n",
       "    <tr>\n",
       "      <th>2</th>\n",
       "      <td>0.682405</td>\n",
       "      <td>-0.362411</td>\n",
       "      <td>0.559923</td>\n",
       "      <td>0.306184</td>\n",
       "      <td>-0.172231</td>\n",
       "      <td>-0.029596</td>\n",
       "      <td>-0.331634</td>\n",
       "      <td>0.134515</td>\n",
       "      <td>0.258100</td>\n",
       "      <td>-0.613338</td>\n",
       "      <td>-0.328496</td>\n",
       "      <td>6</td>\n",
       "      <td>white</td>\n",
       "    </tr>\n",
       "    <tr>\n",
       "      <th>3</th>\n",
       "      <td>-0.011807</td>\n",
       "      <td>-0.666110</td>\n",
       "      <td>0.009405</td>\n",
       "      <td>0.642474</td>\n",
       "      <td>0.056121</td>\n",
       "      <td>0.928182</td>\n",
       "      <td>1.242978</td>\n",
       "      <td>0.301255</td>\n",
       "      <td>-0.177258</td>\n",
       "      <td>-0.882144</td>\n",
       "      <td>-0.496181</td>\n",
       "      <td>6</td>\n",
       "      <td>white</td>\n",
       "    </tr>\n",
       "    <tr>\n",
       "      <th>4</th>\n",
       "      <td>-0.011807</td>\n",
       "      <td>-0.666110</td>\n",
       "      <td>0.009405</td>\n",
       "      <td>0.642474</td>\n",
       "      <td>0.056121</td>\n",
       "      <td>0.928182</td>\n",
       "      <td>1.242978</td>\n",
       "      <td>0.301255</td>\n",
       "      <td>-0.177258</td>\n",
       "      <td>-0.882144</td>\n",
       "      <td>-0.496181</td>\n",
       "      <td>6</td>\n",
       "      <td>white</td>\n",
       "    </tr>\n",
       "  </tbody>\n",
       "</table>\n",
       "</div>"
      ],
      "text/plain": [
       "   fixed acidity  volatile acidity  citric acid  residual sugar  chlorides  \\\n",
       "0      -0.166076         -0.423150     0.284664        3.206682  -0.314951   \n",
       "1      -0.706019         -0.240931     0.147035       -0.807775  -0.200775   \n",
       "2       0.682405         -0.362411     0.559923        0.306184  -0.172231   \n",
       "3      -0.011807         -0.666110     0.009405        0.642474   0.056121   \n",
       "4      -0.011807         -0.666110     0.009405        0.642474   0.056121   \n",
       "\n",
       "   free sulfur dioxide  total sulfur dioxide   density        pH  sulphates  \\\n",
       "0             0.815503              0.959902  2.102052 -1.358944  -0.546136   \n",
       "1            -0.931035              0.287595 -0.232314  0.506876  -0.277330   \n",
       "2            -0.029596             -0.331634  0.134515  0.258100  -0.613338   \n",
       "3             0.928182              1.242978  0.301255 -0.177258  -0.882144   \n",
       "4             0.928182              1.242978  0.301255 -0.177258  -0.882144   \n",
       "\n",
       "    alcohol  quality   type  \n",
       "0 -1.418449        6  white  \n",
       "1 -0.831551        6  white  \n",
       "2 -0.328496        6  white  \n",
       "3 -0.496181        6  white  \n",
       "4 -0.496181        6  white  "
      ]
     },
     "execution_count": 9,
     "metadata": {},
     "output_type": "execute_result"
    }
   ],
   "source": [
    "data_e=data\n",
    "for j in lista:\n",
    "    data_e[j]=(data[j]-data[j].mean())/data[j].std()\n",
    "data_e.head()\n",
    "    \n",
    "#x=(data['fixed acidity']-data['fixed acidity'].mean())/data['fixed acidity'].std()"
   ]
  },
  {
   "cell_type": "code",
   "execution_count": 10,
   "metadata": {},
   "outputs": [
    {
     "data": {
      "text/plain": [
       "white    4898\n",
       "red      1599\n",
       "Name: type, dtype: int64"
      ]
     },
     "execution_count": 10,
     "metadata": {},
     "output_type": "execute_result"
    }
   ],
   "source": [
    "pd.value_counts(data_e['type'])"
   ]
  },
  {
   "cell_type": "code",
   "execution_count": 11,
   "metadata": {},
   "outputs": [
    {
     "data": {
      "text/html": [
       "<div>\n",
       "<style scoped>\n",
       "    .dataframe tbody tr th:only-of-type {\n",
       "        vertical-align: middle;\n",
       "    }\n",
       "\n",
       "    .dataframe tbody tr th {\n",
       "        vertical-align: top;\n",
       "    }\n",
       "\n",
       "    .dataframe thead th {\n",
       "        text-align: right;\n",
       "    }\n",
       "</style>\n",
       "<table border=\"1\" class=\"dataframe\">\n",
       "  <thead>\n",
       "    <tr style=\"text-align: right;\">\n",
       "      <th></th>\n",
       "      <th>fixed acidity</th>\n",
       "      <th>volatile acidity</th>\n",
       "      <th>citric acid</th>\n",
       "      <th>residual sugar</th>\n",
       "      <th>chlorides</th>\n",
       "      <th>free sulfur dioxide</th>\n",
       "      <th>total sulfur dioxide</th>\n",
       "      <th>density</th>\n",
       "      <th>pH</th>\n",
       "      <th>sulphates</th>\n",
       "      <th>alcohol</th>\n",
       "      <th>quality</th>\n",
       "      <th>type</th>\n",
       "      <th>Calificacion</th>\n",
       "      <th>Vino</th>\n",
       "    </tr>\n",
       "  </thead>\n",
       "  <tbody>\n",
       "    <tr>\n",
       "      <th>4898</th>\n",
       "      <td>0.142462</td>\n",
       "      <td>2.188664</td>\n",
       "      <td>-2.192664</td>\n",
       "      <td>-0.744721</td>\n",
       "      <td>0.569914</td>\n",
       "      <td>-1.100055</td>\n",
       "      <td>-1.446247</td>\n",
       "      <td>1.034913</td>\n",
       "      <td>1.812950</td>\n",
       "      <td>0.193082</td>\n",
       "      <td>-0.915394</td>\n",
       "      <td>5</td>\n",
       "      <td>red</td>\n",
       "      <td>1</td>\n",
       "      <td>1</td>\n",
       "    </tr>\n",
       "    <tr>\n",
       "      <th>4899</th>\n",
       "      <td>0.451001</td>\n",
       "      <td>3.281982</td>\n",
       "      <td>-2.192664</td>\n",
       "      <td>-0.597594</td>\n",
       "      <td>1.197883</td>\n",
       "      <td>-0.311296</td>\n",
       "      <td>-0.862402</td>\n",
       "      <td>0.701432</td>\n",
       "      <td>-0.115064</td>\n",
       "      <td>0.999502</td>\n",
       "      <td>-0.580023</td>\n",
       "      <td>5</td>\n",
       "      <td>red</td>\n",
       "      <td>1</td>\n",
       "      <td>1</td>\n",
       "    </tr>\n",
       "    <tr>\n",
       "      <th>4900</th>\n",
       "      <td>0.451001</td>\n",
       "      <td>2.553104</td>\n",
       "      <td>-1.917405</td>\n",
       "      <td>-0.660648</td>\n",
       "      <td>1.026618</td>\n",
       "      <td>-0.874695</td>\n",
       "      <td>-1.092402</td>\n",
       "      <td>0.768128</td>\n",
       "      <td>0.258100</td>\n",
       "      <td>0.797897</td>\n",
       "      <td>-0.580023</td>\n",
       "      <td>5</td>\n",
       "      <td>red</td>\n",
       "      <td>1</td>\n",
       "      <td>1</td>\n",
       "    </tr>\n",
       "    <tr>\n",
       "      <th>4901</th>\n",
       "      <td>3.073580</td>\n",
       "      <td>-0.362411</td>\n",
       "      <td>1.660957</td>\n",
       "      <td>-0.744721</td>\n",
       "      <td>0.541370</td>\n",
       "      <td>-0.762016</td>\n",
       "      <td>-0.986248</td>\n",
       "      <td>1.101609</td>\n",
       "      <td>-0.363840</td>\n",
       "      <td>0.327485</td>\n",
       "      <td>-0.580023</td>\n",
       "      <td>6</td>\n",
       "      <td>red</td>\n",
       "      <td>1</td>\n",
       "      <td>1</td>\n",
       "    </tr>\n",
       "    <tr>\n",
       "      <th>4902</th>\n",
       "      <td>0.142462</td>\n",
       "      <td>2.188664</td>\n",
       "      <td>-2.192664</td>\n",
       "      <td>-0.744721</td>\n",
       "      <td>0.569914</td>\n",
       "      <td>-1.100055</td>\n",
       "      <td>-1.446247</td>\n",
       "      <td>1.034913</td>\n",
       "      <td>1.812950</td>\n",
       "      <td>0.193082</td>\n",
       "      <td>-0.915394</td>\n",
       "      <td>5</td>\n",
       "      <td>red</td>\n",
       "      <td>1</td>\n",
       "      <td>1</td>\n",
       "    </tr>\n",
       "  </tbody>\n",
       "</table>\n",
       "</div>"
      ],
      "text/plain": [
       "      fixed acidity  volatile acidity  citric acid  residual sugar  chlorides  \\\n",
       "4898       0.142462          2.188664    -2.192664       -0.744721   0.569914   \n",
       "4899       0.451001          3.281982    -2.192664       -0.597594   1.197883   \n",
       "4900       0.451001          2.553104    -1.917405       -0.660648   1.026618   \n",
       "4901       3.073580         -0.362411     1.660957       -0.744721   0.541370   \n",
       "4902       0.142462          2.188664    -2.192664       -0.744721   0.569914   \n",
       "\n",
       "      free sulfur dioxide  total sulfur dioxide   density        pH  \\\n",
       "4898            -1.100055             -1.446247  1.034913  1.812950   \n",
       "4899            -0.311296             -0.862402  0.701432 -0.115064   \n",
       "4900            -0.874695             -1.092402  0.768128  0.258100   \n",
       "4901            -0.762016             -0.986248  1.101609 -0.363840   \n",
       "4902            -1.100055             -1.446247  1.034913  1.812950   \n",
       "\n",
       "      sulphates   alcohol  quality type  Calificacion  Vino  \n",
       "4898   0.193082 -0.915394        5  red             1     1  \n",
       "4899   0.999502 -0.580023        5  red             1     1  \n",
       "4900   0.797897 -0.580023        5  red             1     1  \n",
       "4901   0.327485 -0.580023        6  red             1     1  \n",
       "4902   0.193082 -0.915394        5  red             1     1  "
      ]
     },
     "execution_count": 11,
     "metadata": {},
     "output_type": "execute_result"
    }
   ],
   "source": [
    "# Create a binary target for each type of wine\n",
    "data_e['Calificacion']=[1 if x<=6 else 0 for x in data_e['quality']]\n",
    "data_e['Vino']=[1 if x=='red' else 0 for x in data_e['type']]\n",
    "\n",
    "data_ew = data_e[data_e.type=='white']\n",
    "data_er = data_e[data_e.type=='red']\n",
    "data_er.head()"
   ]
  },
  {
   "cell_type": "code",
   "execution_count": 12,
   "metadata": {},
   "outputs": [],
   "source": [
    "%matplotlib inline\n",
    "import numpy as np\n",
    "import matplotlib.pyplot as plt\n",
    "from scipy import stats\n",
    "from sklearn.metrics import accuracy_score\n",
    "plt.style.use('bmh')"
   ]
  },
  {
   "cell_type": "code",
   "execution_count": 13,
   "metadata": {},
   "outputs": [
    {
     "data": {
      "image/png": "[encoded data removed]",
      "text/plain": [
       "<Figure size 576x576 with 1 Axes>"
      ]
     },
     "metadata": {},
     "output_type": "display_data"
    }
   ],
   "source": [
    "# analisis de variables considerando el tipo de vino\n",
    "X1=data_er[\"fixed acidity\"]\n",
    "X2=data_er[\"volatile acidity\"]\n",
    "y=data_er[\"Calificacion\"]\n",
    "plt.figure(figsize=(8,8))\n",
    "plt.scatter(X1, X2, c=y, s=50);"
   ]
  },
  {
   "cell_type": "markdown",
   "metadata": {},
   "source": [
    "##### Estas graficas se crean con el objetivo de poder apreciar la relación de dos de las variables consideradas dentro del ejericicio de SVM y como se puede apreciar la separación lineal no se ve con claridad"
   ]
  },
  {
   "cell_type": "code",
   "execution_count": 14,
   "metadata": {},
   "outputs": [
    {
     "data": {
      "image/png": "[encoded data removed]",
      "text/plain": [
       "<Figure size 576x576 with 1 Axes>"
      ]
     },
     "metadata": {},
     "output_type": "display_data"
    }
   ],
   "source": [
    "# analisis de variables considerando el tipo de vino\n",
    "X1=data_er[\"fixed acidity\"]\n",
    "X2=data_er['citric acid']\n",
    "y=data_er[\"Calificacion\"]\n",
    "plt.figure(figsize=(8,8))\n",
    "plt.scatter(X1, X2, c=y, s=50);"
   ]
  },
  {
   "cell_type": "markdown",
   "metadata": {},
   "source": [
    "##### combinando otro par de variables tampoco podemos apreciar grupos separables, sin embargo es claro que la intreacción de todas las variables y las transformaciones de los datos a través de los kernel podran encontrar una separación"
   ]
  },
  {
   "cell_type": "code",
   "execution_count": 15,
   "metadata": {},
   "outputs": [
    {
     "data": {
      "text/html": [
       "<div>\n",
       "<style scoped>\n",
       "    .dataframe tbody tr th:only-of-type {\n",
       "        vertical-align: middle;\n",
       "    }\n",
       "\n",
       "    .dataframe tbody tr th {\n",
       "        vertical-align: top;\n",
       "    }\n",
       "\n",
       "    .dataframe thead th {\n",
       "        text-align: right;\n",
       "    }\n",
       "</style>\n",
       "<table border=\"1\" class=\"dataframe\">\n",
       "  <thead>\n",
       "    <tr style=\"text-align: right;\">\n",
       "      <th></th>\n",
       "      <th>fixed acidity</th>\n",
       "      <th>volatile acidity</th>\n",
       "      <th>citric acid</th>\n",
       "      <th>residual sugar</th>\n",
       "      <th>chlorides</th>\n",
       "      <th>free sulfur dioxide</th>\n",
       "      <th>total sulfur dioxide</th>\n",
       "      <th>density</th>\n",
       "      <th>pH</th>\n",
       "      <th>sulphates</th>\n",
       "      <th>alcohol</th>\n",
       "      <th>quality</th>\n",
       "      <th>type</th>\n",
       "      <th>Calificacion</th>\n",
       "      <th>Vino</th>\n",
       "    </tr>\n",
       "  </thead>\n",
       "  <tbody>\n",
       "    <tr>\n",
       "      <th>4898</th>\n",
       "      <td>0.142462</td>\n",
       "      <td>2.188664</td>\n",
       "      <td>-2.192664</td>\n",
       "      <td>-0.744721</td>\n",
       "      <td>0.569914</td>\n",
       "      <td>-1.100055</td>\n",
       "      <td>-1.446247</td>\n",
       "      <td>1.034913</td>\n",
       "      <td>1.812950</td>\n",
       "      <td>0.193082</td>\n",
       "      <td>-0.915394</td>\n",
       "      <td>5</td>\n",
       "      <td>red</td>\n",
       "      <td>1</td>\n",
       "      <td>1</td>\n",
       "    </tr>\n",
       "    <tr>\n",
       "      <th>4899</th>\n",
       "      <td>0.451001</td>\n",
       "      <td>3.281982</td>\n",
       "      <td>-2.192664</td>\n",
       "      <td>-0.597594</td>\n",
       "      <td>1.197883</td>\n",
       "      <td>-0.311296</td>\n",
       "      <td>-0.862402</td>\n",
       "      <td>0.701432</td>\n",
       "      <td>-0.115064</td>\n",
       "      <td>0.999502</td>\n",
       "      <td>-0.580023</td>\n",
       "      <td>5</td>\n",
       "      <td>red</td>\n",
       "      <td>1</td>\n",
       "      <td>1</td>\n",
       "    </tr>\n",
       "    <tr>\n",
       "      <th>4900</th>\n",
       "      <td>0.451001</td>\n",
       "      <td>2.553104</td>\n",
       "      <td>-1.917405</td>\n",
       "      <td>-0.660648</td>\n",
       "      <td>1.026618</td>\n",
       "      <td>-0.874695</td>\n",
       "      <td>-1.092402</td>\n",
       "      <td>0.768128</td>\n",
       "      <td>0.258100</td>\n",
       "      <td>0.797897</td>\n",
       "      <td>-0.580023</td>\n",
       "      <td>5</td>\n",
       "      <td>red</td>\n",
       "      <td>1</td>\n",
       "      <td>1</td>\n",
       "    </tr>\n",
       "    <tr>\n",
       "      <th>4901</th>\n",
       "      <td>3.073580</td>\n",
       "      <td>-0.362411</td>\n",
       "      <td>1.660957</td>\n",
       "      <td>-0.744721</td>\n",
       "      <td>0.541370</td>\n",
       "      <td>-0.762016</td>\n",
       "      <td>-0.986248</td>\n",
       "      <td>1.101609</td>\n",
       "      <td>-0.363840</td>\n",
       "      <td>0.327485</td>\n",
       "      <td>-0.580023</td>\n",
       "      <td>6</td>\n",
       "      <td>red</td>\n",
       "      <td>1</td>\n",
       "      <td>1</td>\n",
       "    </tr>\n",
       "    <tr>\n",
       "      <th>4902</th>\n",
       "      <td>0.142462</td>\n",
       "      <td>2.188664</td>\n",
       "      <td>-2.192664</td>\n",
       "      <td>-0.744721</td>\n",
       "      <td>0.569914</td>\n",
       "      <td>-1.100055</td>\n",
       "      <td>-1.446247</td>\n",
       "      <td>1.034913</td>\n",
       "      <td>1.812950</td>\n",
       "      <td>0.193082</td>\n",
       "      <td>-0.915394</td>\n",
       "      <td>5</td>\n",
       "      <td>red</td>\n",
       "      <td>1</td>\n",
       "      <td>1</td>\n",
       "    </tr>\n",
       "  </tbody>\n",
       "</table>\n",
       "</div>"
      ],
      "text/plain": [
       "      fixed acidity  volatile acidity  citric acid  residual sugar  chlorides  \\\n",
       "4898       0.142462          2.188664    -2.192664       -0.744721   0.569914   \n",
       "4899       0.451001          3.281982    -2.192664       -0.597594   1.197883   \n",
       "4900       0.451001          2.553104    -1.917405       -0.660648   1.026618   \n",
       "4901       3.073580         -0.362411     1.660957       -0.744721   0.541370   \n",
       "4902       0.142462          2.188664    -2.192664       -0.744721   0.569914   \n",
       "\n",
       "      free sulfur dioxide  total sulfur dioxide   density        pH  \\\n",
       "4898            -1.100055             -1.446247  1.034913  1.812950   \n",
       "4899            -0.311296             -0.862402  0.701432 -0.115064   \n",
       "4900            -0.874695             -1.092402  0.768128  0.258100   \n",
       "4901            -0.762016             -0.986248  1.101609 -0.363840   \n",
       "4902            -1.100055             -1.446247  1.034913  1.812950   \n",
       "\n",
       "      sulphates   alcohol  quality type  Calificacion  Vino  \n",
       "4898   0.193082 -0.915394        5  red             1     1  \n",
       "4899   0.999502 -0.580023        5  red             1     1  \n",
       "4900   0.797897 -0.580023        5  red             1     1  \n",
       "4901   0.327485 -0.580023        6  red             1     1  \n",
       "4902   0.193082 -0.915394        5  red             1     1  "
      ]
     },
     "execution_count": 15,
     "metadata": {},
     "output_type": "execute_result"
    }
   ],
   "source": [
    "data_er.head()"
   ]
  },
  {
   "cell_type": "markdown",
   "metadata": {},
   "source": [
    "### Caso de Vinos Rojos"
   ]
  },
  {
   "cell_type": "code",
   "execution_count": 16,
   "metadata": {},
   "outputs": [
    {
     "data": {
      "text/plain": [
       "4898    1\n",
       "4899    1\n",
       "4900    1\n",
       "4901    1\n",
       "4902    1\n",
       "Name: Calificacion, dtype: int64"
      ]
     },
     "execution_count": 16,
     "metadata": {},
     "output_type": "execute_result"
    }
   ],
   "source": [
    "# Conformacion de la matriz X y la variables de clasificacion y\n",
    "eliminar=['quality','type','Calificacion','Vino']\n",
    "X=data_er.drop(columns=eliminar)\n",
    "X.head()\n",
    "y=data_er[\"Calificacion\"]\n",
    "y.head()"
   ]
  },
  {
   "cell_type": "code",
   "execution_count": 17,
   "metadata": {},
   "outputs": [],
   "source": [
    "# Creacion de datos de entrenamiento y validacion\n",
    "from sklearn.model_selection import train_test_split\n",
    "X_train, X_test, y_train, y_test = train_test_split(X, y, test_size=0.33, random_state=42)"
   ]
  },
  {
   "cell_type": "code",
   "execution_count": 18,
   "metadata": {},
   "outputs": [
    {
     "name": "stdout",
     "output_type": "stream",
     "text": [
      "[(1071, 11), (528, 11)]\n"
     ]
    }
   ],
   "source": [
    "Train=X_train.shape\n",
    "Test=X_test.shape\n",
    "frame=[Train, Test]\n",
    "print(frame)"
   ]
  },
  {
   "cell_type": "markdown",
   "metadata": {},
   "source": [
    "##### el conjunto se separa en un grupo de entrenamiento y un grupo de validación, el primero con 1071 observaciones y el segundo con 528 observaciones"
   ]
  },
  {
   "cell_type": "code",
   "execution_count": 19,
   "metadata": {},
   "outputs": [
    {
     "data": {
      "text/plain": [
       "0.8541666666666666"
      ]
     },
     "execution_count": 19,
     "metadata": {},
     "output_type": "execute_result"
    }
   ],
   "source": [
    "from sklearn.svm import SVC # \"Support Vector Classifier\"\n",
    "clf = SVC(kernel='linear')\n",
    "clf.fit(X_train, y_train)\n",
    "clf.score(X_test, y_test)"
   ]
  },
  {
   "cell_type": "markdown",
   "metadata": {},
   "source": [
    "##### Al ejecutar el modelo de SVM encontramos una separación que nos logra clasificar bien los datos de validaciòn en un 85.4% lo cual es un excelente resultado"
   ]
  },
  {
   "cell_type": "code",
   "execution_count": 20,
   "metadata": {},
   "outputs": [
    {
     "name": "stdout",
     "output_type": "stream",
     "text": [
      "Casos clasificados con precision: 451\n"
     ]
    }
   ],
   "source": [
    "y_pred = clf.predict(X_test)\n",
    "accuracy = accuracy_score(y_test, y_pred, normalize=False)\n",
    "print('Casos clasificados con precision: ' + str(accuracy))"
   ]
  },
  {
   "cell_type": "markdown",
   "metadata": {},
   "source": [
    "##### El 85.4% de precision en la calsificación, representa que del total de observaciones de validación  (528) puede clasificar correctamente 451 casos \n",
    "\n",
    "##### Con este resultado podemos afirmar que a partir de las variables cuantitativas medidas en los vinos rojos, podemos en un 85% de los casos lograr una calificación igual al de los sommeliers, lo cual es muy bueno en la medida que una maquina puede replicar la calificación de un experto"
   ]
  },
  {
   "cell_type": "markdown",
   "metadata": {},
   "source": [
    "# Exercise 6.3\n",
    "\n",
    "Test the two SVM's using the different kernels (‘poly’, ‘rbf’, ‘sigmoid’)\n"
   ]
  },
  {
   "cell_type": "code",
   "execution_count": 21,
   "metadata": {},
   "outputs": [
    {
     "data": {
      "text/plain": [
       "0.8768939393939394"
      ]
     },
     "execution_count": 21,
     "metadata": {},
     "output_type": "execute_result"
    }
   ],
   "source": [
    "clf = SVC(kernel='poly')\n",
    "clf.fit(X_train, y_train)\n",
    "clf.score(X_test, y_test)"
   ]
  },
  {
   "cell_type": "code",
   "execution_count": 22,
   "metadata": {},
   "outputs": [
    {
     "name": "stdout",
     "output_type": "stream",
     "text": [
      "Casos clasificados con precision: 463\n"
     ]
    }
   ],
   "source": [
    "y_pred = clf.predict(X_test)\n",
    "accuracy = accuracy_score(y_test, y_pred, normalize=False)\n",
    "print('Casos clasificados con precision: ' + str(accuracy))"
   ]
  },
  {
   "cell_type": "code",
   "execution_count": 23,
   "metadata": {},
   "outputs": [
    {
     "data": {
      "text/plain": [
       "0.8787878787878788"
      ]
     },
     "execution_count": 23,
     "metadata": {},
     "output_type": "execute_result"
    }
   ],
   "source": [
    "clf = SVC(kernel='rbf')\n",
    "clf.fit(X_train, y_train)\n",
    "clf.score(X_test, y_test)"
   ]
  },
  {
   "cell_type": "code",
   "execution_count": 24,
   "metadata": {},
   "outputs": [
    {
     "name": "stdout",
     "output_type": "stream",
     "text": [
      "Casos clasificados con precision: 464\n"
     ]
    }
   ],
   "source": [
    "y_pred = clf.predict(X_test)\n",
    "accuracy = accuracy_score(y_test, y_pred, normalize=False)\n",
    "print('Casos clasificados con precision: ' + str(accuracy))"
   ]
  },
  {
   "cell_type": "code",
   "execution_count": 25,
   "metadata": {},
   "outputs": [
    {
     "data": {
      "text/plain": [
       "0.7746212121212122"
      ]
     },
     "execution_count": 25,
     "metadata": {},
     "output_type": "execute_result"
    }
   ],
   "source": [
    "clf = SVC(kernel='sigmoid')\n",
    "clf.fit(X_train, y_train)\n",
    "clf.score(X_test, y_test)"
   ]
  },
  {
   "cell_type": "code",
   "execution_count": 26,
   "metadata": {},
   "outputs": [
    {
     "name": "stdout",
     "output_type": "stream",
     "text": [
      "Casos clasificados con precision: 409\n"
     ]
    }
   ],
   "source": [
    "y_pred = clf.predict(X_test)\n",
    "accuracy = accuracy_score(y_test, y_pred, normalize=False)\n",
    "print('Casos clasificados con precision: ' + str(accuracy))"
   ]
  },
  {
   "cell_type": "markdown",
   "metadata": {},
   "source": [
    "##### Al utilizar otros kernel, diferentes al lineal, encontramos que el resultado mejora, es decir que con una transformaciòn RBF el % de coincidencias en las calificaciones sube de 85.4% a 87.9%"
   ]
  },
  {
   "cell_type": "markdown",
   "metadata": {},
   "source": [
    "### Caso de Vinos Blancos"
   ]
  },
  {
   "cell_type": "code",
   "execution_count": 27,
   "metadata": {},
   "outputs": [
    {
     "data": {
      "text/plain": [
       "0    1\n",
       "1    1\n",
       "2    1\n",
       "3    1\n",
       "4    1\n",
       "Name: Calificacion, dtype: int64"
      ]
     },
     "execution_count": 27,
     "metadata": {},
     "output_type": "execute_result"
    }
   ],
   "source": [
    "# Conformacion de la matriz X y la variables de clasificacion y\n",
    "eliminar=['quality','type','Calificacion','Vino']\n",
    "X=data_ew.drop(columns=eliminar)\n",
    "X.head()\n",
    "y=data_ew[\"Calificacion\"]\n",
    "y.head()"
   ]
  },
  {
   "cell_type": "code",
   "execution_count": 28,
   "metadata": {},
   "outputs": [],
   "source": [
    "# Creacion de datos de entrenamiento y validacion\n",
    "from sklearn.model_selection import train_test_split\n",
    "X_train, X_test, y_train, y_test = train_test_split(X, y, test_size=0.33, random_state=42)"
   ]
  },
  {
   "cell_type": "code",
   "execution_count": 29,
   "metadata": {},
   "outputs": [
    {
     "name": "stdout",
     "output_type": "stream",
     "text": [
      "[(3281, 11), (1617, 11)]\n"
     ]
    }
   ],
   "source": [
    "Train=X_train.shape\n",
    "Test=X_test.shape\n",
    "frame=[Train, Test]\n",
    "print(frame)"
   ]
  },
  {
   "cell_type": "code",
   "execution_count": 30,
   "metadata": {},
   "outputs": [
    {
     "data": {
      "text/plain": [
       "0.7767470624613482"
      ]
     },
     "execution_count": 30,
     "metadata": {},
     "output_type": "execute_result"
    }
   ],
   "source": [
    "from sklearn.svm import SVC # \"Support Vector Classifier\"\n",
    "clf = SVC(kernel='linear')\n",
    "clf.fit(X_train, y_train)\n",
    "clf.score(X_test, y_test)"
   ]
  },
  {
   "cell_type": "markdown",
   "metadata": {},
   "source": [
    "##### En el caso de los vinos blancos los resultados tambien son buenos (77%), aunque ligeramente inferiores a los de los vinos tintos, esto nos puede indicar que las variables consideradas no logran tan buena precisión en la calificación cuando se analizan en vinos blancos."
   ]
  },
  {
   "cell_type": "code",
   "execution_count": 31,
   "metadata": {},
   "outputs": [
    {
     "name": "stdout",
     "output_type": "stream",
     "text": [
      "Casos clasificados con precision: 1256\n"
     ]
    }
   ],
   "source": [
    "y_pred = clf.predict(X_test)\n",
    "accuracy = accuracy_score(y_test, y_pred, normalize=False)\n",
    "print('Casos clasificados con precision: ' + str(accuracy))"
   ]
  },
  {
   "cell_type": "code",
   "execution_count": 32,
   "metadata": {},
   "outputs": [
    {
     "data": {
      "text/plain": [
       "0.8045763760049475"
      ]
     },
     "execution_count": 32,
     "metadata": {},
     "output_type": "execute_result"
    }
   ],
   "source": [
    "clf = SVC(kernel='poly')\n",
    "clf.fit(X_train, y_train)\n",
    "clf.score(X_test, y_test)"
   ]
  },
  {
   "cell_type": "code",
   "execution_count": 33,
   "metadata": {},
   "outputs": [
    {
     "name": "stdout",
     "output_type": "stream",
     "text": [
      "Casos clasificados con precision: 1301\n"
     ]
    }
   ],
   "source": [
    "y_pred = clf.predict(X_test)\n",
    "accuracy = accuracy_score(y_test, y_pred, normalize=False)\n",
    "print('Casos clasificados con precision: ' + str(accuracy))"
   ]
  },
  {
   "cell_type": "code",
   "execution_count": 34,
   "metadata": {},
   "outputs": [
    {
     "data": {
      "text/plain": [
       "0.8163265306122449"
      ]
     },
     "execution_count": 34,
     "metadata": {},
     "output_type": "execute_result"
    }
   ],
   "source": [
    "clf = SVC(kernel='rbf')\n",
    "clf.fit(X_train, y_train)\n",
    "clf.score(X_test, y_test)"
   ]
  },
  {
   "cell_type": "code",
   "execution_count": 35,
   "metadata": {},
   "outputs": [
    {
     "name": "stdout",
     "output_type": "stream",
     "text": [
      "Casos clasificados con precision: 1320\n"
     ]
    }
   ],
   "source": [
    "y_pred = clf.predict(X_test)\n",
    "accuracy = accuracy_score(y_test, y_pred, normalize=False)\n",
    "print('Casos clasificados con precision: ' + str(accuracy))"
   ]
  },
  {
   "cell_type": "code",
   "execution_count": 36,
   "metadata": {},
   "outputs": [
    {
     "data": {
      "text/plain": [
       "0.7149041434755721"
      ]
     },
     "execution_count": 36,
     "metadata": {},
     "output_type": "execute_result"
    }
   ],
   "source": [
    "clf = SVC(kernel='sigmoid')\n",
    "clf.fit(X_train, y_train)\n",
    "clf.score(X_test, y_test)"
   ]
  },
  {
   "cell_type": "code",
   "execution_count": 37,
   "metadata": {},
   "outputs": [
    {
     "name": "stdout",
     "output_type": "stream",
     "text": [
      "Casos clasificados con precision: 1156\n"
     ]
    }
   ],
   "source": [
    "y_pred = clf.predict(X_test)\n",
    "accuracy = accuracy_score(y_test, y_pred, normalize=False)\n",
    "print('Casos clasificados con precision: ' + str(accuracy))\n"
   ]
  },
  {
   "cell_type": "markdown",
   "metadata": {},
   "source": [
    "##### Al utilizar otras transformaciones la clasificación mejora, pasando de 77% a 81%, tambien con el kernel RBF, por lo tanto tambien podemos concluir que en el caso de los vinos blancos podemos encontrar por medio de unas variables observadas y medidas una calificación bastante precisa de la calidad del vino, considerando la coincidencia entre el modelo y el criterio de los sommeliers"
   ]
  },
  {
   "cell_type": "markdown",
   "metadata": {},
   "source": [
    "# Exercise 6.4\n",
    "Using the best SVM find the parameters that gives the best performance\n",
    "\n",
    "'C': [0.1, 1, 10, 100, 1000], 'gamma': [0.01, 0.001, 0.0001]"
   ]
  },
  {
   "cell_type": "code",
   "execution_count": 38,
   "metadata": {},
   "outputs": [],
   "source": [
    "List_C=[0.1,1,10,100,1000]\n",
    "List_G=[0.01,0.001,0.0001]\n",
    "\n",
    "m=0\n",
    "for i in List_C:\n",
    "    #print(i)\n",
    "    for j in List_G:\n",
    "        #print(j)\n",
    "        # Supongamos que Sigmoid es el mejor kernel\n",
    "        clf = SVC(kernel='rbf', C=i, gamma=j)\n",
    "        clf.fit(X, y)\n",
    "        score=clf.score(X_test, y_test)  \n",
    "        Lista=np.reshape([i,j,score],(3,1)).T\n",
    "        #Lista=format(Lista,\"c\")\n",
    "        df = pd.DataFrame(Lista)\n",
    "      \n",
    "        if m==0:\n",
    "            Tabla_res=df\n",
    "        if m==1:\n",
    "            frame=[Tabla_res,df]\n",
    "            Tabla_res=pd.concat(frame)\n",
    "        m=1    \n"
   ]
  },
  {
   "cell_type": "code",
   "execution_count": 39,
   "metadata": {},
   "outputs": [
    {
     "name": "stdout",
     "output_type": "stream",
     "text": [
      "        0       1         2\n",
      "0     0.1  0.0100  0.776747\n",
      "0     0.1  0.0010  0.776747\n",
      "0     0.1  0.0001  0.776747\n",
      "0     1.0  0.0100  0.787260\n",
      "0     1.0  0.0010  0.776747\n",
      "0     1.0  0.0001  0.776747\n",
      "0    10.0  0.0100  0.814471\n",
      "0    10.0  0.0010  0.776747\n",
      "0    10.0  0.0001  0.776747\n",
      "0   100.0  0.0100  0.821274\n",
      "0   100.0  0.0010  0.795918\n",
      "0   100.0  0.0001  0.776747\n",
      "0  1000.0  0.0100  0.833643\n",
      "0  1000.0  0.0010  0.812616\n",
      "0  1000.0  0.0001  0.776747\n"
     ]
    }
   ],
   "source": [
    "print(Tabla_res)"
   ]
  },
  {
   "cell_type": "markdown",
   "metadata": {},
   "source": [
    "##### Usando entoncesl el modelo RBF podemos revisar como se logra el precisión del modelo de clasificación ajustando los parametros que considera este kernel. podemos apreciar en la tabla anterior que moviendonos n los parametros C y Gamma, logramos la mejor clasificación con los parametros:\n",
    "\n",
    "##### C = 1000 y Gamma = 0.01\n",
    "\n",
    "##### Con estos parámetros la clasificación en este caso de los vinos Blancos, mejora hasta un 83.3% "
   ]
  },
  {
   "cell_type": "markdown",
   "metadata": {},
   "source": [
    "# Exercise 6.5\n",
    "\n",
    "Compare the results with other methods"
   ]
  },
  {
   "cell_type": "markdown",
   "metadata": {
    "collapsed": true
   },
   "source": [
    "### Parameter estimation using grid search with cross-validation"
   ]
  },
  {
   "cell_type": "code",
   "execution_count": 40,
   "metadata": {},
   "outputs": [],
   "source": [
    "%matplotlib inline"
   ]
  },
  {
   "cell_type": "code",
   "execution_count": 41,
   "metadata": {},
   "outputs": [
    {
     "name": "stdout",
     "output_type": "stream",
     "text": [
      "[[-1.2459619  -0.36241058  0.55992279 ... -0.05287017 -0.68053952\n",
      "   1.34835527]\n",
      " [ 0.8366744   0.42720789  1.31688409 ... -1.23455626  0.12588026\n",
      "   0.76145738]\n",
      " [-1.47736593 -0.18019093  0.42229346 ...  0.75565189 -0.47893457\n",
      "   1.01298505]\n",
      " ...\n",
      " [ 0.29673166 -0.42315046  1.38569876 ... -1.23455626 -0.00852303\n",
      "   0.76145738]\n",
      " [-0.70601915 -0.60537011 -0.19703851 ... -0.30164619 -1.01654776\n",
      "   0.09071695]\n",
      " [ 0.68240504 -0.42315046  0.21584947 ...  0.00932384  0.66349345\n",
      "  -0.07696816]]\n"
     ]
    }
   ],
   "source": [
    "Xa_train = X_train.values\n",
    "print(Xa_train)"
   ]
  },
  {
   "cell_type": "code",
   "execution_count": 42,
   "metadata": {},
   "outputs": [
    {
     "name": "stdout",
     "output_type": "stream",
     "text": [
      "[[-1.2459619  -0.36241058  0.55992279 ... -0.05287017 -0.68053952\n",
      "   1.34835527]\n",
      " [ 0.8366744   0.42720789  1.31688409 ... -1.23455626  0.12588026\n",
      "   0.76145738]\n",
      " [-1.47736593 -0.18019093  0.42229346 ...  0.75565189 -0.47893457\n",
      "   1.01298505]\n",
      " ...\n",
      " [ 0.29673166 -0.42315046  1.38569876 ... -1.23455626 -0.00852303\n",
      "   0.76145738]\n",
      " [-0.70601915 -0.60537011 -0.19703851 ... -0.30164619 -1.01654776\n",
      "   0.09071695]\n",
      " [ 0.68240504 -0.42315046  0.21584947 ...  0.00932384  0.66349345\n",
      "  -0.07696816]]\n"
     ]
    }
   ],
   "source": [
    "print(Xa_train)"
   ]
  },
  {
   "cell_type": "code",
   "execution_count": 43,
   "metadata": {},
   "outputs": [
    {
     "data": {
      "text/plain": [
       "numpy.ndarray"
      ]
     },
     "execution_count": 43,
     "metadata": {},
     "output_type": "execute_result"
    }
   ],
   "source": [
    "type(Xa_train)"
   ]
  },
  {
   "cell_type": "code",
   "execution_count": 44,
   "metadata": {},
   "outputs": [
    {
     "ename": "NameError",
     "evalue": "name 'ya_test' is not defined",
     "output_type": "error",
     "traceback": [
      "\u001b[1;31m---------------------------------------------------------------------------\u001b[0m",
      "\u001b[1;31mNameError\u001b[0m                                 Traceback (most recent call last)",
      "\u001b[1;32m<ipython-input-44-10204d9b1ad2>\u001b[0m in \u001b[0;36m<module>\u001b[1;34m()\u001b[0m\n\u001b[1;32m----> 1\u001b[1;33m \u001b[0mya_test\u001b[0m\u001b[1;33m.\u001b[0m\u001b[0mshape\u001b[0m\u001b[1;33m\u001b[0m\u001b[0m\n\u001b[0m",
      "\u001b[1;31mNameError\u001b[0m: name 'ya_test' is not defined"
     ]
    }
   ],
   "source": [
    "ya_test.shape"
   ]
  },
  {
   "cell_type": "code",
   "execution_count": null,
   "metadata": {},
   "outputs": [],
   "source": [
    "ya_train = y_train.values\n",
    "print(ya_train)"
   ]
  },
  {
   "cell_type": "code",
   "execution_count": null,
   "metadata": {},
   "outputs": [],
   "source": [
    "ya_test = y_test.values\n",
    "print(ya_test)\n",
    "type(ya_test)"
   ]
  },
  {
   "cell_type": "code",
   "execution_count": null,
   "metadata": {},
   "outputs": [],
   "source": [
    "Xa_test = X_test.values\n",
    "print(Xa_test)\n",
    "type(Xa_test)"
   ]
  },
  {
   "cell_type": "code",
   "execution_count": null,
   "metadata": {},
   "outputs": [],
   "source": [
    "from __future__ import print_function\n",
    "\n",
    "from sklearn import datasets\n",
    "from sklearn.model_selection import train_test_split\n",
    "from sklearn.model_selection import GridSearchCV\n",
    "from sklearn.metrics import classification_report\n",
    "from sklearn.svm import SVC\n",
    "\n",
    "print(__doc__)\n",
    "\n",
    "# Set the parameters by cross-validation\n",
    "tuned_parameters = [{'kernel': ['rbf'], 'gamma': [1e-3, 1e-4],\n",
    "                     'C': [1, 10, 100, 1000]},\n",
    "                    {'kernel': ['linear'], 'C': [1, 10, 100, 1000]}]\n",
    "\n",
    "scores = ['precision', 'recall']"
   ]
  },
  {
   "cell_type": "code",
   "execution_count": null,
   "metadata": {},
   "outputs": [],
   "source": [
    "set(ya_test) - set(ya_pred)"
   ]
  },
  {
   "cell_type": "code",
   "execution_count": null,
   "metadata": {},
   "outputs": [],
   "source": [
    "    clf = GridSearchCV(SVC(), tuned_parameters, cv=5,\n",
    "                       scoring='%s_macro' % score)"
   ]
  },
  {
   "cell_type": "code",
   "execution_count": null,
   "metadata": {},
   "outputs": [],
   "source": [
    "    clf.fit(Xa_train, ya_train)"
   ]
  },
  {
   "cell_type": "code",
   "execution_count": null,
   "metadata": {},
   "outputs": [],
   "source": [
    "for score in scores:\n",
    "    print(\"# Tuning hyper-parameters for %s\" % score)\n",
    "    print()\n",
    "\n",
    "    clf = GridSearchCV(SVC(), tuned_parameters, cv=5,\n",
    "                       scoring='%s_macro' % score)\n",
    "    clf.fit(Xa_train, ya_train)\n",
    "\n",
    "    print(\"Best parameters set found on development set:\")\n",
    "    print()\n",
    "    print(clf.best_params_)\n",
    "    print()\n",
    "    print(\"Grid scores on development set:\")\n",
    "    print()\n",
    "    means = clf.cv_results_['mean_test_score']\n",
    "    stds = clf.cv_results_['std_test_score']\n",
    "    for mean, std, params in zip(means, stds, clf.cv_results_['params']):\n",
    "        print(\"%0.3f (+/-%0.03f) for %r\"\n",
    "              % (mean, std * 2, params))\n",
    "    print()\n",
    "\n",
    "    print(\"Detailed classification report:\")\n",
    "    print()\n",
    "    print(\"The model is trained on the full development set.\")\n",
    "    print(\"The scores are computed on the full evaluation set.\")\n",
    "    print()\n",
    "    ya_true, ya_pred = ya_test, clf.predict(Xa_test)\n",
    "    print(classification_report(ya_true, ya_pred))\n",
    "    print()\n",
    "\n",
    "# Note the problem is too easy: the hyperparameter plateau is too flat and the\n",
    "# output model is the same for precision and recall with ties in quality."
   ]
  },
  {
   "cell_type": "markdown",
   "metadata": {},
   "source": [
    "# Regularization"
   ]
  },
  {
   "cell_type": "markdown",
   "metadata": {},
   "source": [
    "# Exercise 6.6\n",
    "\n",
    "\n",
    "* Train a linear regression to predict wine quality (Continous)\n",
    "\n",
    "* Analyze the coefficients\n",
    "\n",
    "* Evaluate the RMSE"
   ]
  },
  {
   "cell_type": "markdown",
   "metadata": {},
   "source": [
    "### Modelo de regresion con la información completa de vinos"
   ]
  },
  {
   "cell_type": "code",
   "execution_count": 45,
   "metadata": {},
   "outputs": [],
   "source": [
    "# Conformacion de la matriz X y la variables de clasificacion y\n",
    "eliminar=['quality','type','Calificacion','Vino']\n",
    "X=data_e.drop(columns=eliminar)\n",
    "y=data_e[\"quality\"]\n",
    "# Creacion de datos de entrenamiento y validacion\n",
    "from sklearn.model_selection import train_test_split\n",
    "X_train, X_test, y_train, y_test = train_test_split(X, y, test_size=0.30, random_state=42)"
   ]
  },
  {
   "cell_type": "code",
   "execution_count": 46,
   "metadata": {},
   "outputs": [
    {
     "data": {
      "text/plain": [
       "LinearRegression(copy_X=True, fit_intercept=True, n_jobs=1, normalize=False)"
      ]
     },
     "execution_count": 46,
     "metadata": {},
     "output_type": "execute_result"
    }
   ],
   "source": [
    "from sklearn.metrics import mean_squared_error, r2_score\n",
    "from sklearn.linear_model import LinearRegression\n",
    "linreg = LinearRegression(fit_intercept=True)\n",
    "linreg.fit(X_train, y_train)\n"
   ]
  },
  {
   "cell_type": "code",
   "execution_count": 47,
   "metadata": {},
   "outputs": [
    {
     "name": "stdout",
     "output_type": "stream",
     "text": [
      "Coefficients: \n",
      " [ 0.09033406 -0.21493006 -0.02163379  0.2060452  -0.01250238  0.1311296\n",
      " -0.15905885 -0.16272485  0.06494459  0.11616343  0.31692833]\n"
     ]
    }
   ],
   "source": [
    "# The coefficients\n",
    "print('Coefficients: \\n', linreg.coef_)"
   ]
  },
  {
   "cell_type": "code",
   "execution_count": 48,
   "metadata": {},
   "outputs": [
    {
     "name": "stdout",
     "output_type": "stream",
     "text": [
      "                            OLS Regression Results                            \n",
      "==============================================================================\n",
      "Dep. Variable:                quality   R-squared:                       0.286\n",
      "Model:                            OLS   Adj. R-squared:                  0.285\n",
      "Method:                 Least Squares   F-statistic:                     165.4\n",
      "Date:                Mon, 18 Feb 2019   Prob (F-statistic):          6.52e-322\n",
      "Time:                        12:06:17   Log-Likelihood:                -5109.5\n",
      "No. Observations:                4547   AIC:                         1.024e+04\n",
      "Df Residuals:                    4535   BIC:                         1.032e+04\n",
      "Df Model:                          11                                         \n",
      "Covariance Type:            nonrobust                                         \n",
      "========================================================================================\n",
      "                           coef    std err          t      P>|t|      [0.025      0.975]\n",
      "----------------------------------------------------------------------------------------\n",
      "const                    5.8138      0.011    525.784      0.000       5.792       5.835\n",
      "fixed acidity            0.0903      0.025      3.577      0.000       0.041       0.140\n",
      "volatile acidity        -0.2149      0.015    -14.043      0.000      -0.245      -0.185\n",
      "citric acid             -0.0216      0.014     -1.565      0.118      -0.049       0.005\n",
      "residual sugar           0.2060      0.030      6.779      0.000       0.146       0.266\n",
      "chlorides               -0.0125      0.014     -0.880      0.379      -0.040       0.015\n",
      "free sulfur dioxide      0.1311      0.016      7.973      0.000       0.099       0.163\n",
      "total sulfur dioxide    -0.1591      0.019     -8.273      0.000      -0.197      -0.121\n",
      "density                 -0.1627      0.046     -3.511      0.000      -0.254      -0.072\n",
      "pH                       0.0649      0.018      3.646      0.000       0.030       0.100\n",
      "sulphates                0.1162      0.013      8.643      0.000       0.090       0.143\n",
      "alcohol                  0.3169      0.025     12.538      0.000       0.267       0.366\n",
      "==============================================================================\n",
      "Omnibus:                      110.328   Durbin-Watson:                   2.020\n",
      "Prob(Omnibus):                  0.000   Jarque-Bera (JB):              257.743\n",
      "Skew:                          -0.004   Prob(JB):                     1.08e-56\n",
      "Kurtosis:                       4.166   Cond. No.                         10.1\n",
      "==============================================================================\n",
      "\n",
      "Warnings:\n",
      "[1] Standard Errors assume that the covariance matrix of the errors is correctly specified.\n"
     ]
    }
   ],
   "source": [
    "import statsmodels.api as sm\n",
    "from scipy import stats\n",
    "\n",
    "X2 = sm.add_constant(X_train)\n",
    "est = sm.OLS(y_train, X2)\n",
    "est2 = est.fit()\n",
    "print(est2.summary())"
   ]
  },
  {
   "cell_type": "markdown",
   "metadata": {},
   "source": [
    "##### El ajuste del modelo no es bueno, si bien la hipotesis nula de significancia del modelo se rechaza y el modelo es significativamente diferente de cero con una confianza del 95%, en terminos de coeficientes la mayoria de las variables son significativamente diferentes de cero, a excepción de Citric_acid y chlorides"
   ]
  },
  {
   "cell_type": "code",
   "execution_count": 49,
   "metadata": {},
   "outputs": [],
   "source": [
    "# Make predictions using the testing set\n",
    "y_pred = linreg.predict(X_test)                  "
   ]
  },
  {
   "cell_type": "code",
   "execution_count": 50,
   "metadata": {},
   "outputs": [
    {
     "name": "stdout",
     "output_type": "stream",
     "text": [
      "Coefficients: \n",
      " [ 0.09033406 -0.21493006 -0.02163379  0.2060452  -0.01250238  0.1311296\n",
      " -0.15905885 -0.16272485  0.06494459  0.11616343  0.31692833]\n",
      "Mean squared error: 0.51\n"
     ]
    }
   ],
   "source": [
    "from sklearn.metrics import mean_squared_error, r2_score\n",
    "# The coefficients\n",
    "print('Coefficients: \\n', linreg.coef_)\n",
    "# The mean squared error\n",
    "print(\"Mean squared error: %.2f\"\n",
    "      % mean_squared_error(y_test, y_pred))"
   ]
  },
  {
   "cell_type": "markdown",
   "metadata": {},
   "source": [
    "#### El error cuadratido medio del modelo de regresion es de 0.51"
   ]
  },
  {
   "cell_type": "markdown",
   "metadata": {},
   "source": [
    "# Exercise 6.7\n",
    "\n",
    "* Estimate a ridge regression with alpha equals 0.1 and 1.\n",
    "* Compare the coefficients with the linear regression\n",
    "* Evaluate the RMSE"
   ]
  },
  {
   "cell_type": "code",
   "execution_count": 51,
   "metadata": {},
   "outputs": [
    {
     "name": "stdout",
     "output_type": "stream",
     "text": [
      "   Parametro     Score\n",
      "0       0.99  0.304566\n"
     ]
    }
   ],
   "source": [
    "from sklearn.linear_model import Ridge\n",
    "import numpy as np\n",
    "import statsmodels.api as sm\n",
    "from scipy import stats\n",
    "from sklearn.metrics import mean_squared_error, r2_score\n",
    "from sklearn.linear_model import LinearRegression\n",
    "\n",
    "m=0\n",
    "for i in list(range(10,100,1)):\n",
    "    j=i/100\n",
    "    clf = Ridge(alpha=j, fit_intercept=True)\n",
    "    clf.fit(X_train, y_train) \n",
    "    #Ridge(alpha=1.0, copy_X=True, fit_intercept=True, max_iter=None,\n",
    "    #      normalize=False, random_state=None, solver='auto', tol=0.001)\n",
    "    score=clf.score(X_test, y_test)  \n",
    "    Lista=np.reshape([j,score],(2,1)).T\n",
    "    df = pd.DataFrame(Lista)\n",
    "    if m==0:\n",
    "        Tabla_res=df\n",
    "    if m==1:\n",
    "        frame=[Tabla_res,df]\n",
    "        Tabla_res=pd.concat(frame)\n",
    "    m=1\n",
    "Tabla_res=Tabla_res.rename({0:'Parametro', 1:'Score'}, axis='columns')\n",
    "Selec_final=Tabla_res[Tabla_res['Score']==Tabla_res['Score'].max()]\n",
    "print(Selec_final)"
   ]
  },
  {
   "cell_type": "code",
   "execution_count": 52,
   "metadata": {},
   "outputs": [
    {
     "name": "stdout",
     "output_type": "stream",
     "text": [
      "0.30456590087579316\n"
     ]
    }
   ],
   "source": [
    "clf = Ridge(alpha=0.99, fit_intercept=True)\n",
    "clf.fit(X_train, y_train)\n",
    "score=clf.score(X_test, y_test) \n",
    "print(score)"
   ]
  },
  {
   "cell_type": "code",
   "execution_count": 55,
   "metadata": {},
   "outputs": [
    {
     "name": "stdout",
     "output_type": "stream",
     "text": [
      "Coefficients: \n",
      " [ 0.08994834 -0.21492008 -0.02158062  0.2055006  -0.01258275  0.13103639\n",
      " -0.15888149 -0.16199728  0.06471802  0.11606811  0.31716459]\n",
      "Mean squared error: 0.51\n"
     ]
    }
   ],
   "source": [
    "# Make predictions using the testing set\n",
    "y_pred = clf.predict(X_test)  \n",
    "from sklearn.metrics import mean_squared_error, r2_score\n",
    "# The coefficients\n",
    "print('Coefficients: \\n', clf.coef_)\n",
    "# The mean squared error\n",
    "print(\"Mean squared error: %.2f\"\n",
    "      % mean_squared_error(y_test, y_pred))"
   ]
  },
  {
   "cell_type": "markdown",
   "metadata": {},
   "source": [
    "##### Analisis de los codigos de la regresion (Lineal vs Ridge):\n",
    "##### Coeficientes regresion lineal: \n",
    " [ 0.09033406 -0.21493006 -0.02163379  0.2060452  -0.01250238  0.1311296\n",
    " -0.15905885 -0.16272485  0.06494459  0.11616343  0.31692833]\n",
    " \n",
    "##### Coeficientes regresión Ridge\n",
    "\n",
    " [ 0.08994834 -0.21492008 -0.02158062  0.2055006  -0.01258275  0.13103639\n",
    " -0.15888149 -0.16199728  0.06471802  0.11606811  0.31716459]\n",
    " \n",
    "##### en general son muy similares, en algunos casos las diferencias son en el segundo o tercer decimal, La similaridad de los coeficientes nos indica que en este caso la regresion linea no esta realizando un over fitting al modelo, ya que la regresion Ridge justamente busca minimizar el tamaño de los coeficientes\n"
   ]
  },
  {
   "cell_type": "markdown",
   "metadata": {},
   "source": [
    "# Exercise 6.8\n",
    "\n",
    "* Estimate a lasso regression with alpha equals 0.01, 0.1 and 1.\n",
    "* Compare the coefficients with the linear regression\n",
    "* Evaluate the RMSE"
   ]
  },
  {
   "cell_type": "code",
   "execution_count": 56,
   "metadata": {},
   "outputs": [
    {
     "name": "stdout",
     "output_type": "stream",
     "text": [
      "   Parametro     Score\n",
      "0        0.1  0.248324\n"
     ]
    }
   ],
   "source": [
    "from sklearn import linear_model\n",
    "import numpy as np\n",
    "import statsmodels.api as sm\n",
    "from scipy import stats\n",
    "from sklearn.metrics import mean_squared_error, r2_score\n",
    "from sklearn.linear_model import LinearRegression\n",
    "\n",
    "m=0\n",
    "for i in list(range(10,100,1)):\n",
    "    j=i/100\n",
    "    clf = linear_model.Lasso(alpha=j,fit_intercept=True)\n",
    "    clf.fit(X_train, y_train) \n",
    "    #Ridge(alpha=1.0, copy_X=True, fit_intercept=True, max_iter=None,\n",
    "    #      normalize=False, random_state=None, solver='auto', tol=0.001)\n",
    "    score=clf.score(X_test, y_test)  \n",
    "    Lista=np.reshape([j,score],(2,1)).T\n",
    "    df = pd.DataFrame(Lista)\n",
    "    if m==0:\n",
    "        Tabla_res=df\n",
    "    if m==1:\n",
    "        frame=[Tabla_res,df]\n",
    "        Tabla_res=pd.concat(frame)\n",
    "    m=1\n",
    "Tabla_res=Tabla_res.rename({0:'Parametro', 1:'Score'}, axis='columns')\n",
    "Selec_final=Tabla_res[Tabla_res['Score']==Tabla_res['Score'].max()]\n",
    "print(Selec_final)"
   ]
  },
  {
   "cell_type": "code",
   "execution_count": 57,
   "metadata": {},
   "outputs": [
    {
     "name": "stdout",
     "output_type": "stream",
     "text": [
      "0.24832449312782504\n"
     ]
    }
   ],
   "source": [
    "clf = linear_model.Lasso(alpha=0.1,fit_intercept=True)\n",
    "clf.fit(X_train, y_train)\n",
    "score=clf.score(X_test, y_test) \n",
    "print(score)"
   ]
  },
  {
   "cell_type": "code",
   "execution_count": 58,
   "metadata": {},
   "outputs": [
    {
     "name": "stdout",
     "output_type": "stream",
     "text": [
      "Coefficients: \n",
      " [-0.         -0.11651172  0.          0.         -0.          0.\n",
      " -0.         -0.          0.          0.          0.2801013 ]\n",
      "Mean squared error: 0.55\n"
     ]
    }
   ],
   "source": [
    "# Make predictions using the testing set\n",
    "y_pred = clf.predict(X_test)  \n",
    "from sklearn.metrics import mean_squared_error, r2_score\n",
    "# The coefficients\n",
    "print('Coefficients: \\n', clf.coef_)\n",
    "# The mean squared error\n",
    "print(\"Mean squared error: %.2f\"\n",
    "      % mean_squared_error(y_test, y_pred))"
   ]
  },
  {
   "cell_type": "markdown",
   "metadata": {},
   "source": [
    "##### Analisis de los codigos de la regresion (Lineal vs Lasso):\n",
    "##### Coeficientes regresion lineal: \n",
    " [ 0.09033406 -0.21493006 -0.02163379  0.2060452  -0.01250238  0.1311296\n",
    " -0.15905885 -0.16272485  0.06494459  0.11616343  0.31692833]\n",
    " \n",
    "##### Coeficientes regresión Lasso\n",
    "\n",
    " [-0.         -0.11651172  0.          0.         -0.          0.\n",
    " -0.         -0.          0.          0.          0.2801013 ]\n",
    " \n",
    "#####  En este caso los coeficientes diferentes de cero, son los mas importantes para explicar la variable dependiente e interpretar sus resultados, estos coeficientes corresponde obviamente a variables cuyos coeficientes de regresión lineal son estadisticamente diferentes con un 95% de confianza.\n"
   ]
  },
  {
   "cell_type": "markdown",
   "metadata": {},
   "source": [
    "# Exercise 6.9\n",
    "\n",
    "* Create a binary target\n",
    "\n",
    "* Train a logistic regression to predict wine quality (binary)\n",
    "\n",
    "* Analyze the coefficients\n",
    "\n",
    "* Evaluate the f1score"
   ]
  },
  {
   "cell_type": "code",
   "execution_count": 59,
   "metadata": {},
   "outputs": [
    {
     "data": {
      "text/plain": [
       "0    1\n",
       "1    1\n",
       "2    1\n",
       "3    1\n",
       "4    1\n",
       "Name: Calificacion, dtype: int64"
      ]
     },
     "execution_count": 59,
     "metadata": {},
     "output_type": "execute_result"
    }
   ],
   "source": [
    "# Create a binary target for each type of wine\n",
    "data_e['Calificacion']=[1 if x<=6 else 0 for x in data_e['quality']]\n",
    "# Conformacion de la matriz X y la variables de clasificacion y\n",
    "eliminar=['quality','type','Calificacion','Vino']\n",
    "X=data_e.drop(columns=eliminar)\n",
    "X.head()\n",
    "y=data_e[\"Calificacion\"]\n",
    "y.head() "
   ]
  },
  {
   "cell_type": "code",
   "execution_count": 88,
   "metadata": {},
   "outputs": [
    {
     "name": "stdout",
     "output_type": "stream",
     "text": [
      "Score: \n",
      " 0.8197629675234723\n",
      "Coefficients: \n",
      " [[-0.2797975   0.27692402  0.02292764 -0.41309472  0.10814829 -0.11265519\n",
      "   0.16482444  0.44675179 -0.18940485 -0.18383008 -0.34847837]]\n",
      "f1 score(macro): \n",
      " 0.6321340098249592\n",
      "f1 score(micro): \n",
      " 0.8197629675234723\n",
      "f1 score(weighted): \n",
      " 0.7915781865933292\n",
      "f1 score(None): \n",
      " [0.36941303 0.89485499]\n"
     ]
    }
   ],
   "source": [
    "from sklearn.linear_model import LogisticRegression\n",
    "from sklearn.metrics import f1_score\n",
    "clf = LogisticRegression(random_state=0, solver='lbfgs', multi_class='multinomial').fit(X, y)\n",
    "score=clf.score(X, y)\n",
    "print('Score: \\n',score)\n",
    "# The coefficients\n",
    "print('Coefficients: \\n', clf.coef_)\n",
    "y_pred = clf.predict(X) \n",
    "\n",
    "print('f1 score(macro): \\n', f1_score(y, y_pred, average='macro')  )\n",
    "print('f1 score(micro): \\n', f1_score(y, y_pred, average='micro')  )\n",
    "print('f1 score(weighted): \\n', f1_score(y, y_pred, average='weighted'))  \n",
    "print('f1 score(None): \\n', f1_score(y, y_pred, average=None))"
   ]
  },
  {
   "cell_type": "markdown",
   "metadata": {},
   "source": [
    "#### El f1 score lo interpretamos como el promedio ponderado de la precisión de clasificación que se logra con el modelo logistico"
   ]
  },
  {
   "cell_type": "markdown",
   "metadata": {},
   "source": [
    "# Exercise 6.10\n",
    "\n",
    "* Estimate a regularized logistic regression using:\n",
    "* C = 0.01, 0.1 & 1.0\n",
    "* penalty = ['l1, 'l2']\n",
    "* Compare the coefficients and the f1score"
   ]
  },
  {
   "cell_type": "code",
   "execution_count": 89,
   "metadata": {},
   "outputs": [
    {
     "name": "stdout",
     "output_type": "stream",
     "text": [
      "Score: \n",
      " 0.8197629675234723\n",
      "Coefficients: \n",
      " [[-0.2797975   0.27692402  0.02292764 -0.41309472  0.10814829 -0.11265519\n",
      "   0.16482444  0.44675179 -0.18940485 -0.18383008 -0.34847837]]\n",
      "f1 score(macro): \n",
      " 0.6321340098249592\n",
      "f1 score(micro): \n",
      " 0.8197629675234723\n",
      "f1 score(weighted): \n",
      " 0.7915781865933292\n",
      "f1 score(None): \n",
      " [0.36941303 0.89485499]\n"
     ]
    }
   ],
   "source": [
    "from sklearn.linear_model import LogisticRegression\n",
    "from sklearn.metrics import f1_score\n",
    "clf = LogisticRegression(random_state=0, solver='lbfgs', multi_class='multinomial').fit(X, y)\n",
    "print('Score: \\n',score)\n",
    "# The coefficients\n",
    "print('Coefficients: \\n', clf.coef_)\n",
    "y_pred = clf.predict(X) \n",
    "\n",
    "print('f1 score(macro): \\n', f1_score(y, y_pred, average='macro')  )\n",
    "print('f1 score(micro): \\n', f1_score(y, y_pred, average='micro')  )\n",
    "print('f1 score(weighted): \\n', f1_score(y, y_pred, average='weighted'))  \n",
    "print('f1 score(None): \\n', f1_score(y, y_pred, average=None))"
   ]
  },
  {
   "cell_type": "markdown",
   "metadata": {},
   "source": [
    "#### El f1 score lo interpretamos como el promedio ponderado de la precisión de clasificación que se logra con el modelo logistico"
   ]
  },
  {
   "cell_type": "markdown",
   "metadata": {},
   "source": [
    "### FIN"
   ]
  }
 ],
 "metadata": {
  "kernelspec": {
   "display_name": "Python 3",
   "language": "python",
   "name": "python3"
  },
  "language_info": {
   "codemirror_mode": {
    "name": "ipython",
    "version": 3
   },
   "file_extension": ".py",
   "mimetype": "text/x-python",
   "name": "python",
   "nbconvert_exporter": "python",
   "pygments_lexer": "ipython3",
   "version": "3.6.5"
  }
 },
 "nbformat": 4,
 "nbformat_minor": 1
}
