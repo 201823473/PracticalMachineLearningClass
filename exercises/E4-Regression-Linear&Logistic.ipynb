{
 "cells": [
  {
   "cell_type": "markdown",
   "metadata": {},
   "source": [
    "# Exercise 04\n",
    "\n",
    "\n",
    "# Part 1 - Linear Regression\n",
    "\n",
    "Estimate a regression using the Income data\n",
    "\n",
    "\n",
    "## Forecast of income\n",
    "\n",
    "We'll be working with a dataset from US Census indome ([data dictionary](https://archive.ics.uci.edu/ml/datasets/Adult)).\n",
    "\n",
    "Many businesses would like to personalize their offer based on customer’s income. High-income customers could be, for instance, exposed to premium products. As a customer’s income is not always explicitly known, predictive model could estimate income of a person based on other information.\n",
    "\n",
    "Our goal is to create a predictive model that will be able to output an estimation of a person income."
   ]
  },
  {
   "cell_type": "code",
   "execution_count": 368,
   "metadata": {},
   "outputs": [
    {
     "data": {
      "text/html": [
       "<div>\n",
       "<style scoped>\n",
       "    .dataframe tbody tr th:only-of-type {\n",
       "        vertical-align: middle;\n",
       "    }\n",
       "\n",
       "    .dataframe tbody tr th {\n",
       "        vertical-align: top;\n",
       "    }\n",
       "\n",
       "    .dataframe thead th {\n",
       "        text-align: right;\n",
       "    }\n",
       "</style>\n",
       "<table border=\"1\" class=\"dataframe\">\n",
       "  <thead>\n",
       "    <tr style=\"text-align: right;\">\n",
       "      <th></th>\n",
       "      <th>Age</th>\n",
       "      <th>Workclass</th>\n",
       "      <th>fnlwgt</th>\n",
       "      <th>Education</th>\n",
       "      <th>Education-Num</th>\n",
       "      <th>Martial Status</th>\n",
       "      <th>Occupation</th>\n",
       "      <th>Relationship</th>\n",
       "      <th>Race</th>\n",
       "      <th>Sex</th>\n",
       "      <th>Capital Gain</th>\n",
       "      <th>Capital Loss</th>\n",
       "      <th>Hours per week</th>\n",
       "      <th>Country</th>\n",
       "      <th>Income</th>\n",
       "    </tr>\n",
       "  </thead>\n",
       "  <tbody>\n",
       "    <tr>\n",
       "      <th>0</th>\n",
       "      <td>39</td>\n",
       "      <td>State-gov</td>\n",
       "      <td>77516</td>\n",
       "      <td>Bachelors</td>\n",
       "      <td>13</td>\n",
       "      <td>Never-married</td>\n",
       "      <td>Adm-clerical</td>\n",
       "      <td>Not-in-family</td>\n",
       "      <td>White</td>\n",
       "      <td>Male</td>\n",
       "      <td>2174</td>\n",
       "      <td>0</td>\n",
       "      <td>40</td>\n",
       "      <td>United-States</td>\n",
       "      <td>51806.0</td>\n",
       "    </tr>\n",
       "    <tr>\n",
       "      <th>1</th>\n",
       "      <td>50</td>\n",
       "      <td>Self-emp-not-inc</td>\n",
       "      <td>83311</td>\n",
       "      <td>Bachelors</td>\n",
       "      <td>13</td>\n",
       "      <td>Married-civ-spouse</td>\n",
       "      <td>Exec-managerial</td>\n",
       "      <td>Husband</td>\n",
       "      <td>White</td>\n",
       "      <td>Male</td>\n",
       "      <td>0</td>\n",
       "      <td>0</td>\n",
       "      <td>13</td>\n",
       "      <td>United-States</td>\n",
       "      <td>68719.0</td>\n",
       "    </tr>\n",
       "    <tr>\n",
       "      <th>2</th>\n",
       "      <td>38</td>\n",
       "      <td>Private</td>\n",
       "      <td>215646</td>\n",
       "      <td>HS-grad</td>\n",
       "      <td>9</td>\n",
       "      <td>Divorced</td>\n",
       "      <td>Handlers-cleaners</td>\n",
       "      <td>Not-in-family</td>\n",
       "      <td>White</td>\n",
       "      <td>Male</td>\n",
       "      <td>0</td>\n",
       "      <td>0</td>\n",
       "      <td>40</td>\n",
       "      <td>United-States</td>\n",
       "      <td>51255.0</td>\n",
       "    </tr>\n",
       "    <tr>\n",
       "      <th>3</th>\n",
       "      <td>53</td>\n",
       "      <td>Private</td>\n",
       "      <td>234721</td>\n",
       "      <td>11th</td>\n",
       "      <td>7</td>\n",
       "      <td>Married-civ-spouse</td>\n",
       "      <td>Handlers-cleaners</td>\n",
       "      <td>Husband</td>\n",
       "      <td>Black</td>\n",
       "      <td>Male</td>\n",
       "      <td>0</td>\n",
       "      <td>0</td>\n",
       "      <td>40</td>\n",
       "      <td>United-States</td>\n",
       "      <td>47398.0</td>\n",
       "    </tr>\n",
       "    <tr>\n",
       "      <th>4</th>\n",
       "      <td>28</td>\n",
       "      <td>Private</td>\n",
       "      <td>338409</td>\n",
       "      <td>Bachelors</td>\n",
       "      <td>13</td>\n",
       "      <td>Married-civ-spouse</td>\n",
       "      <td>Prof-specialty</td>\n",
       "      <td>Wife</td>\n",
       "      <td>Black</td>\n",
       "      <td>Female</td>\n",
       "      <td>0</td>\n",
       "      <td>0</td>\n",
       "      <td>40</td>\n",
       "      <td>Cuba</td>\n",
       "      <td>30493.0</td>\n",
       "    </tr>\n",
       "  </tbody>\n",
       "</table>\n",
       "</div>"
      ],
      "text/plain": [
       "   Age         Workclass  fnlwgt  Education  Education-Num  \\\n",
       "0   39         State-gov   77516  Bachelors             13   \n",
       "1   50  Self-emp-not-inc   83311  Bachelors             13   \n",
       "2   38           Private  215646    HS-grad              9   \n",
       "3   53           Private  234721       11th              7   \n",
       "4   28           Private  338409  Bachelors             13   \n",
       "\n",
       "       Martial Status         Occupation   Relationship   Race     Sex  \\\n",
       "0       Never-married       Adm-clerical  Not-in-family  White    Male   \n",
       "1  Married-civ-spouse    Exec-managerial        Husband  White    Male   \n",
       "2            Divorced  Handlers-cleaners  Not-in-family  White    Male   \n",
       "3  Married-civ-spouse  Handlers-cleaners        Husband  Black    Male   \n",
       "4  Married-civ-spouse     Prof-specialty           Wife  Black  Female   \n",
       "\n",
       "   Capital Gain  Capital Loss  Hours per week        Country   Income  \n",
       "0          2174             0              40  United-States  51806.0  \n",
       "1             0             0              13  United-States  68719.0  \n",
       "2             0             0              40  United-States  51255.0  \n",
       "3             0             0              40  United-States  47398.0  \n",
       "4             0             0              40           Cuba  30493.0  "
      ]
     },
     "execution_count": 368,
     "metadata": {},
     "output_type": "execute_result"
    }
   ],
   "source": [
    "import pandas as pd\n",
    "import numpy as np\n",
    "\n",
    "%matplotlib inline\n",
    "import matplotlib.pyplot as plt\n",
    "\n",
    "# read the data and set the datetime as the index\n",
    "income = pd.read_csv('https://github.com/albahnsen/PracticalMachineLearningClass/raw/master/datasets/income.csv.zip', index_col=0)\n",
    "\n",
    "income.head()"
   ]
  },
  {
   "cell_type": "code",
   "execution_count": 369,
   "metadata": {},
   "outputs": [
    {
     "data": {
      "text/plain": [
       "(32561, 15)"
      ]
     },
     "execution_count": 369,
     "metadata": {},
     "output_type": "execute_result"
    }
   ],
   "source": [
    "income.shape"
   ]
  },
  {
   "cell_type": "markdown",
   "metadata": {},
   "source": [
    "# Exercise 4.1 \n",
    "\n",
    "What is the relation between the age and Income?\n",
    "\n",
    "For a one percent increase in the Age how much the income increases?\n",
    "\n",
    "Using sklearn estimate a linear regression and predict the income when the Age is 30 and 40 years"
   ]
  },
  {
   "cell_type": "code",
   "execution_count": 370,
   "metadata": {},
   "outputs": [
    {
     "data": {
      "text/plain": [
       "<matplotlib.axes._subplots.AxesSubplot at 0x2ba7301860>"
      ]
     },
     "execution_count": 370,
     "metadata": {},
     "output_type": "execute_result"
    },
    {
     "data": {
      "image/png": "[encoded data removed]",
      "text/plain": [
       "<Figure size 432x288 with 1 Axes>"
      ]
     },
     "metadata": {},
     "output_type": "display_data"
    }
   ],
   "source": [
    "income.plot(x='Age', y='Income', kind='scatter')"
   ]
  },
  {
   "cell_type": "code",
   "execution_count": 371,
   "metadata": {},
   "outputs": [
    {
     "data": {
      "text/plain": [
       "LinearRegression(copy_X=True, fit_intercept=True, n_jobs=1, normalize=False)"
      ]
     },
     "execution_count": 371,
     "metadata": {},
     "output_type": "execute_result"
    }
   ],
   "source": [
    "# import\n",
    "from sklearn.linear_model import LinearRegression\n",
    "# fit a linear regression model\n",
    "linreg = LinearRegression(fit_intercept=True)\n",
    "Age = ['Age']\n",
    "Income = ['Income']\n",
    "X = income[Age]\n",
    "y = income[Income]\n",
    "# Fit\n",
    "linreg.fit(X, y)\n"
   ]
  },
  {
   "cell_type": "code",
   "execution_count": 372,
   "metadata": {},
   "outputs": [],
   "source": [
    "# make predictions for all values of X\n",
    "income['Inc_pred']= linreg.predict(X)\n",
    "y_pred=income['Inc_pred']\n",
    "#print(y_pre)"
   ]
  },
  {
   "cell_type": "code",
   "execution_count": 373,
   "metadata": {},
   "outputs": [
    {
     "data": {
      "text/plain": [
       "Text(0,0.5,'Income')"
      ]
     },
     "execution_count": 373,
     "metadata": {},
     "output_type": "execute_result"
    },
    {
     "data": {
      "image/png": "[encoded data removed]",
      "text/plain": [
       "<Figure size 432x288 with 1 Axes>"
      ]
     },
     "metadata": {},
     "output_type": "display_data"
    }
   ],
   "source": [
    "# put the plots together\n",
    "plt.scatter(X, y)\n",
    "plt.plot(X, income.Inc_pred, color='red')\n",
    "plt.xlabel('X')\n",
    "plt.ylabel('Income')"
   ]
  },
  {
   "cell_type": "code",
   "execution_count": 374,
   "metadata": {},
   "outputs": [
    {
     "name": "stdout",
     "output_type": "stream",
     "text": [
      "                            OLS Regression Results                            \n",
      "==============================================================================\n",
      "Dep. Variable:                 Income   R-squared:                       0.084\n",
      "Model:                            OLS   Adj. R-squared:                  0.084\n",
      "Method:                 Least Squares   F-statistic:                     2999.\n",
      "Date:                Mon, 04 Feb 2019   Prob (F-statistic):               0.00\n",
      "Time:                        14:13:43   Log-Likelihood:            -3.7510e+05\n",
      "No. Observations:               32561   AIC:                         7.502e+05\n",
      "Df Residuals:                   32559   BIC:                         7.502e+05\n",
      "Df Model:                           1                                         \n",
      "Covariance Type:            nonrobust                                         \n",
      "==============================================================================\n",
      "                 coef    std err          t      P>|t|      [0.025      0.975]\n",
      "------------------------------------------------------------------------------\n",
      "const       3.254e+04    405.147     80.312      0.000    3.17e+04    3.33e+04\n",
      "Age          542.1677      9.900     54.762      0.000     522.762     561.573\n",
      "==============================================================================\n",
      "Omnibus:                     3910.102   Durbin-Watson:                   1.999\n",
      "Prob(Omnibus):                  0.000   Jarque-Bera (JB):             5482.446\n",
      "Skew:                           0.995   Prob(JB):                         0.00\n",
      "Kurtosis:                       3.289   Cond. No.                         123.\n",
      "==============================================================================\n",
      "\n",
      "Warnings:\n",
      "[1] Standard Errors assume that the covariance matrix of the errors is correctly specified.\n"
     ]
    }
   ],
   "source": [
    "import statsmodels.api as sm\n",
    "from scipy import stats\n",
    "\n",
    "X2 = sm.add_constant(X)\n",
    "est = sm.OLS(y, X2)\n",
    "est2 = est.fit()\n",
    "print(est2.summary())"
   ]
  },
  {
   "cell_type": "markdown",
   "metadata": {},
   "source": [
    "#### Conclusión por cada punto porcentual que se incrementa la edad se incrementa en 542.16 los ingresos,  sin embargo debemos resaltar que el ajuste del modelo es muy pobre, ya que su $$R^{2}$$ es igual a 8.4%"
   ]
  },
  {
   "cell_type": "code",
   "execution_count": 375,
   "metadata": {},
   "outputs": [
    {
     "name": "stdout",
     "output_type": "stream",
     "text": [
      "[[48803.11784304]]\n"
     ]
    }
   ],
   "source": [
    "# compute prediction for Age=30 using the predict method\n",
    "test = np.array(30)\n",
    "test = test.reshape(-1,1)\n",
    "#print(test)\n",
    "Pronostic_30=linreg.predict(test)\n",
    "print(Pronostic_30)"
   ]
  },
  {
   "cell_type": "markdown",
   "metadata": {},
   "source": [
    "#### Con una edad de 30 años se pronostica unos ingresos de 48803 dolares"
   ]
  },
  {
   "cell_type": "code",
   "execution_count": 376,
   "metadata": {},
   "outputs": [
    {
     "name": "stdout",
     "output_type": "stream",
     "text": [
      "[[54224.79441376]]\n"
     ]
    }
   ],
   "source": [
    "# compute prediction for Age=40 using the predict method\n",
    "test = np.array(40)\n",
    "test = test.reshape(-1,1)\n",
    "#print(test)\n",
    "Pronostic_30=linreg.predict(test)\n",
    "print(Pronostic_30)"
   ]
  },
  {
   "cell_type": "markdown",
   "metadata": {},
   "source": [
    "#### Con una edad de 40 años se pronostica unos ingresos de 54224 dolares"
   ]
  },
  {
   "cell_type": "markdown",
   "metadata": {},
   "source": [
    "# Exercise 4.2\n",
    "Evaluate the model using the MSE"
   ]
  },
  {
   "cell_type": "code",
   "execution_count": 9,
   "metadata": {},
   "outputs": [
    {
     "name": "stdout",
     "output_type": "stream",
     "text": [
      "593783043.8402297\n",
      "8.43\n"
     ]
    }
   ],
   "source": [
    "from sklearn.metrics import mean_squared_error\n",
    "MSE=mean_squared_error(y, y_pred)\n",
    "print(MSE)\n",
    "from sklearn.metrics import r2_score\n",
    "R2=round(r2_score(y, y_pred)*100,2)\n",
    "print(R2)"
   ]
  },
  {
   "cell_type": "markdown",
   "metadata": {},
   "source": [
    "#### El ajuste del modelo es muy bajo, la suma de cuadrados de error promedio es de 593783043 lo que tiene asociado un $$R^{2}$$ de 8.43%"
   ]
  },
  {
   "cell_type": "markdown",
   "metadata": {},
   "source": [
    "\n",
    "# Exercise 4.3\n",
    "\n",
    "Run a regression model using as features the Age and Age$^2$ using the OLS equations"
   ]
  },
  {
   "cell_type": "code",
   "execution_count": 27,
   "metadata": {},
   "outputs": [
    {
     "name": "stdout",
     "output_type": "stream",
     "text": [
      "[[  39 1521]\n",
      " [  50 2500]\n",
      " [  38 1444]\n",
      " ...\n",
      " [  58 3364]\n",
      " [  22  484]\n",
      " [  52 2704]]\n"
     ]
    }
   ],
   "source": [
    "# import\n",
    "from sklearn.linear_model import LinearRegression\n",
    "# fit a linear regression model\n",
    "linreg = LinearRegression(fit_intercept=True)\n",
    "income['Age2']=income['Age']**2\n",
    "XM=income[['Age','Age2']].values\n",
    "print(XM)"
   ]
  },
  {
   "cell_type": "code",
   "execution_count": 28,
   "metadata": {},
   "outputs": [
    {
     "data": {
      "text/plain": [
       "LinearRegression(copy_X=True, fit_intercept=True, n_jobs=1, normalize=False)"
      ]
     },
     "execution_count": 28,
     "metadata": {},
     "output_type": "execute_result"
    }
   ],
   "source": [
    "# Fit\n",
    "linreg.fit(XM, y)"
   ]
  },
  {
   "cell_type": "code",
   "execution_count": 29,
   "metadata": {},
   "outputs": [],
   "source": [
    "# make predictions for all values of X\n",
    "income['Inc_pred2']= linreg.predict(XM)\n",
    "y_pred2=income['Inc_pred2']\n",
    "#print(y_pred2)"
   ]
  },
  {
   "cell_type": "code",
   "execution_count": 30,
   "metadata": {},
   "outputs": [
    {
     "name": "stdout",
     "output_type": "stream",
     "text": [
      "                            OLS Regression Results                            \n",
      "==============================================================================\n",
      "Dep. Variable:                 Income   R-squared:                       0.160\n",
      "Model:                            OLS   Adj. R-squared:                  0.160\n",
      "Method:                 Least Squares   F-statistic:                     3103.\n",
      "Date:                Mon, 04 Feb 2019   Prob (F-statistic):               0.00\n",
      "Time:                        07:47:22   Log-Likelihood:            -3.7369e+05\n",
      "No. Observations:               32561   AIC:                         7.474e+05\n",
      "Df Residuals:                   32558   BIC:                         7.474e+05\n",
      "Df Model:                           2                                         \n",
      "Covariance Type:            nonrobust                                         \n",
      "==============================================================================\n",
      "                 coef    std err          t      P>|t|      [0.025      0.975]\n",
      "------------------------------------------------------------------------------\n",
      "const      -1.623e+04    979.845    -16.559      0.000   -1.81e+04   -1.43e+04\n",
      "x1          3131.7701     48.713     64.290      0.000    3036.291    3227.250\n",
      "x2           -30.5434      0.564    -54.197      0.000     -31.648     -29.439\n",
      "==============================================================================\n",
      "Omnibus:                     3399.349   Durbin-Watson:                   1.992\n",
      "Prob(Omnibus):                  0.000   Jarque-Bera (JB):             4584.165\n",
      "Skew:                           0.915   Prob(JB):                         0.00\n",
      "Kurtosis:                       3.166   Cond. No.                     1.55e+04\n",
      "==============================================================================\n",
      "\n",
      "Warnings:\n",
      "[1] Standard Errors assume that the covariance matrix of the errors is correctly specified.\n",
      "[2] The condition number is large, 1.55e+04. This might indicate that there are\n",
      "strong multicollinearity or other numerical problems.\n"
     ]
    }
   ],
   "source": [
    "import statsmodels.api as sm\n",
    "from scipy import stats\n",
    "\n",
    "X2 = sm.add_constant(XM)\n",
    "est = sm.OLS(y, X2)\n",
    "est2 = est.fit()\n",
    "print(est2.summary())"
   ]
  },
  {
   "cell_type": "markdown",
   "metadata": {},
   "source": [
    "#### Al incluit la variable de edad al cuadrado el ajuste del modelo mejora, sin embargo sigue siendo muy pobre el ajuste, de 8.4% pasa a 16%, al revisar la significancia de las variables encontramos que todas son significativas, sin embargo esto no garantiza que el modelo sea bueno."
   ]
  },
  {
   "cell_type": "markdown",
   "metadata": {},
   "source": [
    "# Exercise 4.4\n",
    "\n",
    "\n",
    "Estimate a regression using more features.\n",
    "\n",
    "How is the performance compared to using only the Age?"
   ]
  },
  {
   "cell_type": "code",
   "execution_count": 13,
   "metadata": {},
   "outputs": [
    {
     "data": {
      "text/plain": [
       "Index(['Age', 'Workclass', 'fnlwgt', 'Education', 'Education-Num',\n",
       "       'Martial Status', 'Occupation', 'Relationship', 'Race', 'Sex',\n",
       "       'Capital Gain', 'Capital Loss', 'Hours per week', 'Country', 'Income',\n",
       "       'Inc_pred', 'Age2', 'Inc_pred2'],\n",
       "      dtype='object')"
      ]
     },
     "execution_count": 13,
     "metadata": {},
     "output_type": "execute_result"
    }
   ],
   "source": [
    "income1=income\n",
    "income1.columns"
   ]
  },
  {
   "cell_type": "code",
   "execution_count": 14,
   "metadata": {},
   "outputs": [
    {
     "name": "stdout",
     "output_type": "stream",
     "text": [
      "['Workclass', 'Education', 'Martial Status', 'Occupation', 'Relationship', 'Race', 'Sex', 'Country']\n"
     ]
    }
   ],
   "source": [
    "from array import *\n",
    "\n",
    "Variables=income1.columns[[1,3,5,6,7,8,9,13]]\n",
    "Variables_list = Variables.tolist()\n",
    "print(Variables_list)"
   ]
  },
  {
   "cell_type": "code",
   "execution_count": 15,
   "metadata": {},
   "outputs": [
    {
     "name": "stdout",
     "output_type": "stream",
     "text": [
      "Workclass\n",
      "Education\n",
      "Martial Status\n",
      "Occupation\n",
      "Relationship\n",
      "Race\n",
      "Sex\n",
      "Country\n",
      "Index(['Age', 'Workclass', 'fnlwgt', 'Education', 'Education-Num',\n",
      "       'Martial Status', 'Occupation', 'Relationship', 'Race', 'Sex',\n",
      "       ...\n",
      "       'Poland', 'Portugal', 'Puerto-Rico', 'Scotland', 'South', 'Taiwan',\n",
      "       'Thailand', 'Trinadad&Tobago', 'Vietnam', 'Yugoslavia'],\n",
      "      dtype='object', length=109)\n"
     ]
    }
   ],
   "source": [
    "for Var in Variables_list:\n",
    "    print(Var)\n",
    "    # Creación de variables dummys\n",
    "    Dummy = pd.get_dummies(income[Var])\n",
    "    #print(Dummy)\n",
    "    # tabla de frecuencia de clases de pasajeros\n",
    "    Dummies=pd.value_counts(income[Var])\n",
    "    Dummies_df=pd.DataFrame(Dummies)\n",
    "    Dummies_df=Dummies_df.index\n",
    "    #print(Dummies_df)\n",
    "    #Dummies_list = Dummies.tolist()\n",
    "    #print(Dummies_df[0])\n",
    "    #print(Dummy.columns)\n",
    "    Dummy = Dummy.drop(Dummies_df[0], 1)\n",
    "    #print(Dummy.columns)\n",
    "    income1 = pd.concat([income1, Dummy], axis=1, sort=False)\n",
    "print(income1.columns)"
   ]
  },
  {
   "cell_type": "code",
   "execution_count": 16,
   "metadata": {},
   "outputs": [
    {
     "name": "stdout",
     "output_type": "stream",
     "text": [
      "Index(['Age', 'Workclass', 'fnlwgt', 'Education', 'Education-Num',\n",
      "       'Martial Status', 'Occupation', 'Relationship', 'Race', 'Sex',\n",
      "       'Capital Gain', 'Capital Loss', 'Hours per week', 'Country', 'Income',\n",
      "       'Inc_pred', 'Age2', 'Inc_pred2', 'Federal-gov', 'Local-gov'],\n",
      "      dtype='object')\n",
      "Index(['Never-worked', 'Self-emp-inc', 'Self-emp-not-inc', 'State-gov',\n",
      "       'Without-pay', '10th', '11th', '12th', '1st-4th', '5th-6th', '7th-8th',\n",
      "       '9th', 'Assoc-acdm', 'Assoc-voc', 'Bachelors', 'Doctorate', 'Masters',\n",
      "       'Preschool', 'Prof-school', 'Some-college'],\n",
      "      dtype='object')\n",
      "Index(['Divorced', 'Married-AF-spouse', 'Married-spouse-absent',\n",
      "       'Never-married', 'Separated', 'Widowed', 'Adm-clerical', 'Armed-Forces',\n",
      "       'Craft-repair', 'Exec-managerial', 'Farming-fishing',\n",
      "       'Handlers-cleaners', 'Machine-op-inspct', 'Other-service',\n",
      "       'Priv-house-serv', 'Protective-serv', 'Sales', 'Tech-support',\n",
      "       'Transport-moving', 'Not-in-family'],\n",
      "      dtype='object')\n",
      "Index(['Other-relative', 'Own-child', 'Unmarried', 'Wife',\n",
      "       'Amer-Indian-Eskimo', 'Asian-Pac-Islander', 'Black', 'Other', 'Female',\n",
      "       'Cambodia', 'Canada', 'China', 'Columbia', 'Cuba', 'Dominican-Republic',\n",
      "       'Ecuador', 'El-Salvador', 'England', 'France', 'Germany'],\n",
      "      dtype='object')\n",
      "Index(['Greece', 'Guatemala', 'Haiti', 'Holand-Netherlands', 'Honduras',\n",
      "       'Hong', 'Hungary', 'India', 'Iran', 'Ireland', 'Italy', 'Jamaica',\n",
      "       'Japan', 'Laos', 'Mexico', 'Nicaragua', 'Outlying-US(Guam-USVI-etc)',\n",
      "       'Peru', 'Philippines', 'Poland'],\n",
      "      dtype='object')\n",
      "Index(['Portugal', 'Puerto-Rico', 'Scotland', 'South', 'Taiwan', 'Thailand',\n",
      "       'Trinadad&Tobago', 'Vietnam', 'Yugoslavia'],\n",
      "      dtype='object')\n"
     ]
    }
   ],
   "source": [
    "Lista_var=income1.columns\n",
    "print(Lista_var[0:20,])\n",
    "print(Lista_var[20:40,])\n",
    "print(Lista_var[40:60,])\n",
    "print(Lista_var[60:80,])\n",
    "print(Lista_var[80:100,])\n",
    "print(Lista_var[100:120,])\n"
   ]
  },
  {
   "cell_type": "code",
   "execution_count": 18,
   "metadata": {},
   "outputs": [
    {
     "name": "stdout",
     "output_type": "stream",
     "text": [
      "[[    39   1521  77516 ...      0      0      0]\n",
      " [    50   2500  83311 ...      0      0      0]\n",
      " [    38   1444 215646 ...      0      0      0]\n",
      " ...\n",
      " [    58   3364 151910 ...      0      0      0]\n",
      " [    22    484 201490 ...      0      0      0]\n",
      " [    52   2704 287927 ...      0      0      0]]\n"
     ]
    }
   ],
   "source": [
    "XM=income1[['Age','Age2','fnlwgt','Capital Gain','Capital Loss','Hours per week',\n",
    "           'Federal-gov', 'Local-gov','Never-worked', 'Self-emp-inc', 'Self-emp-not-inc', \n",
    "           'State-gov','Without-pay', '10th', '11th', '12th', '1st-4th', '5th-6th', \n",
    "           '7th-8th', '9th', 'Assoc-acdm', 'Assoc-voc', 'Bachelors', 'Doctorate', \n",
    "           'Masters', 'Preschool', 'Prof-school', 'Some-college','Divorced', \n",
    "           'Married-AF-spouse', 'Married-spouse-absent','Never-married', 'Separated', \n",
    "           'Widowed', 'Adm-clerical', 'Armed-Forces', 'Craft-repair', 'Exec-managerial', \n",
    "           'Farming-fishing', 'Handlers-cleaners', 'Machine-op-inspct', 'Other-service',\n",
    "           'Priv-house-serv', 'Protective-serv', 'Sales', 'Tech-support', 'Transport-moving', \n",
    "           'Not-in-family','Other-relative', 'Own-child', 'Unmarried', 'Wife','Amer-Indian-Eskimo', \n",
    "           'Asian-Pac-Islander', 'Black', 'Other', 'Female','Cambodia', 'Canada', 'China', \n",
    "           'Columbia', 'Cuba', 'Dominican-Republic', 'Ecuador', 'El-Salvador', 'England', \n",
    "           'France', 'Germany','Greece', 'Guatemala', 'Haiti', 'Holand-Netherlands', \n",
    "           'Honduras', 'Hong', 'Hungary', 'India', 'Iran', 'Ireland', 'Italy', 'Jamaica',\n",
    "           'Japan', 'Laos', 'Mexico', 'Nicaragua', 'Outlying-US(Guam-USVI-etc)', 'Peru',\n",
    "           'Philippines', 'Poland','Portugal', 'Puerto-Rico', 'Scotland', 'South', 'Taiwan', \n",
    "           'Thailand', 'Trinadad&Tobago', 'Vietnam', 'Yugoslavia']].values\n",
    "print(XM)"
   ]
  },
  {
   "cell_type": "code",
   "execution_count": 19,
   "metadata": {},
   "outputs": [],
   "source": [
    "# import\n",
    "from sklearn.linear_model import LinearRegression\n",
    "# fit a linear regression model\n",
    "linreg = LinearRegression(fit_intercept=True)\n"
   ]
  },
  {
   "cell_type": "code",
   "execution_count": 20,
   "metadata": {},
   "outputs": [
    {
     "data": {
      "text/plain": [
       "LinearRegression(copy_X=True, fit_intercept=True, n_jobs=1, normalize=False)"
      ]
     },
     "execution_count": 20,
     "metadata": {},
     "output_type": "execute_result"
    }
   ],
   "source": [
    "# Fit\n",
    "linreg.fit(XM, y)"
   ]
  },
  {
   "cell_type": "code",
   "execution_count": 21,
   "metadata": {},
   "outputs": [],
   "source": [
    "# make predictions for all values of X\n",
    "income['Inc_pred3']= linreg.predict(XM)\n",
    "y_pred3=income['Inc_pred3']\n",
    "#print(y_pred2)"
   ]
  },
  {
   "cell_type": "code",
   "execution_count": 22,
   "metadata": {},
   "outputs": [
    {
     "name": "stdout",
     "output_type": "stream",
     "text": [
      "                            OLS Regression Results                            \n",
      "==============================================================================\n",
      "Dep. Variable:                 Income   R-squared:                       0.556\n",
      "Model:                            OLS   Adj. R-squared:                  0.555\n",
      "Method:                 Least Squares   F-statistic:                     419.1\n",
      "Date:                Mon, 04 Feb 2019   Prob (F-statistic):               0.00\n",
      "Time:                        07:24:13   Log-Likelihood:            -3.6332e+05\n",
      "No. Observations:               32561   AIC:                         7.268e+05\n",
      "Df Residuals:                   32463   BIC:                         7.277e+05\n",
      "Df Model:                          97                                         \n",
      "Covariance Type:            nonrobust                                         \n",
      "==============================================================================\n",
      "                 coef    std err          t      P>|t|      [0.025      0.975]\n",
      "------------------------------------------------------------------------------\n",
      "const        2.11e+04   1044.068     20.208      0.000    1.91e+04    2.31e+04\n",
      "x1          1532.4636     45.132     33.955      0.000    1444.003    1620.924\n",
      "x2           -14.7969      0.498    -29.692      0.000     -15.774     -13.820\n",
      "x3             0.0025      0.001      2.727      0.006       0.001       0.004\n",
      "x4             0.3434      0.013     26.148      0.000       0.318       0.369\n",
      "x5             4.1062      0.237     17.359      0.000       3.643       4.570\n",
      "x6            98.9353      8.705     11.366      0.000      81.874     115.997\n",
      "x7          3016.3928    573.424      5.260      0.000    1892.460    4140.326\n",
      "x8          -663.8164    411.277     -1.614      0.107   -1469.935     142.302\n",
      "x9         -1350.5329   6435.066     -0.210      0.834    -1.4e+04    1.13e+04\n",
      "x10         3032.5129    540.736      5.608      0.000    1972.651    4092.375\n",
      "x11        -2645.9209    376.008     -7.037      0.000   -3382.910   -1908.932\n",
      "x12        -1899.6034    498.334     -3.812      0.000   -2876.356    -922.851\n",
      "x13        -6761.7489   4555.109     -1.484      0.138   -1.57e+04    2166.433\n",
      "x14        -3607.4314    585.046     -6.166      0.000   -4754.143   -2460.720\n",
      "x15        -2667.1884    531.860     -5.015      0.000   -3709.654   -1624.723\n",
      "x16        -1406.8302    839.189     -1.676      0.094   -3051.671     238.011\n",
      "x17        -8046.4231   1379.095     -5.835      0.000   -1.07e+04   -5343.347\n",
      "x18        -6403.7344   1017.919     -6.291      0.000   -8398.893   -4408.576\n",
      "x19        -7700.8074    701.673    -10.975      0.000   -9076.112   -6325.503\n",
      "x20        -6529.3380    776.341     -8.410      0.000   -8050.994   -5007.682\n",
      "x21         5131.5188    552.868      9.282      0.000    4047.877    6215.160\n",
      "x22         5724.2414    491.874     11.638      0.000    4760.151    6688.332\n",
      "x23         1.451e+04    315.474     46.005      0.000    1.39e+04    1.51e+04\n",
      "x24         3.439e+04    897.489     38.323      0.000    3.26e+04    3.62e+04\n",
      "x25         2.306e+04    484.142     47.633      0.000    2.21e+04     2.4e+04\n",
      "x26        -8747.5269   2415.906     -3.621      0.000   -1.35e+04   -4012.262\n",
      "x27         3.264e+04    782.007     41.740      0.000    3.11e+04    3.42e+04\n",
      "x28         3081.5789    266.022     11.584      0.000    2560.166    3602.992\n",
      "x29        -5257.5529   1187.614     -4.427      0.000   -7585.320   -2929.785\n",
      "x30         1858.5038   3555.791      0.523      0.601   -5110.979    8827.986\n",
      "x31        -4414.1828   1418.562     -3.112      0.002   -7194.618   -1633.748\n",
      "x32        -4591.4008   1156.609     -3.970      0.000   -6858.398   -2324.404\n",
      "x33        -4304.4395   1272.446     -3.383      0.001   -6798.481   -1810.398\n",
      "x34        -3520.4316   1298.163     -2.712      0.007   -6064.880    -975.984\n",
      "x35        -1316.2875    381.520     -3.450      0.001   -2064.080    -568.495\n",
      "x36        -6251.9018   5702.626     -1.096      0.273   -1.74e+04    4925.456\n",
      "x37        -2354.9896    392.104     -6.006      0.000   -3123.528   -1586.451\n",
      "x38         3958.2128    362.365     10.923      0.000    3247.964    4668.461\n",
      "x39        -5510.6430    629.927     -8.748      0.000   -6745.323   -4275.963\n",
      "x40        -3707.0480    544.325     -6.810      0.000   -4773.945   -2640.151\n",
      "x41        -3757.2849    476.048     -7.893      0.000   -4690.356   -2824.214\n",
      "x42        -2310.2852    401.182     -5.759      0.000   -3096.616   -1523.954\n",
      "x43         -267.4035   1441.912     -0.185      0.853   -3093.605    2558.798\n",
      "x44         1715.4912    739.287      2.320      0.020     266.461    3164.521\n",
      "x45          107.9222    379.767      0.284      0.776    -636.436     852.280\n",
      "x46          899.9119    612.751      1.469      0.142    -301.102    2100.926\n",
      "x47        -3484.8263    516.497     -6.747      0.000   -4497.179   -2472.474\n",
      "x48        -6855.6245   1181.758     -5.801      0.000   -9171.913   -4539.336\n",
      "x49        -4864.6759   1166.849     -4.169      0.000   -7151.743   -2577.609\n",
      "x50        -4645.5972   1179.882     -3.937      0.000   -6958.210   -2332.984\n",
      "x51        -6603.6110   1223.748     -5.396      0.000   -9002.203   -4205.019\n",
      "x52         4860.8174    531.158      9.151      0.000    3819.728    5901.907\n",
      "x53        -2250.7633    974.197     -2.310      0.021   -4160.225    -341.301\n",
      "x54         -523.3623    812.561     -0.644      0.520   -2116.012    1069.287\n",
      "x55        -1000.6890    341.165     -2.933      0.003   -1669.386    -331.992\n",
      "x56        -2132.6013   1069.284     -1.994      0.046   -4228.438     -36.764\n",
      "x57        -1.652e+04    283.860    -58.211      0.000   -1.71e+04    -1.6e+04\n",
      "x58         4733.8473   3978.965      1.190      0.234   -3065.072    1.25e+04\n",
      "x59          316.6371   1550.130      0.204      0.838   -2721.675    3354.949\n",
      "x60        -3124.7355   2121.667     -1.473      0.141   -7283.280    1033.810\n",
      "x61        -4141.6659   2222.490     -1.864      0.062   -8497.829     214.498\n",
      "x62         -941.4410   1751.437     -0.538      0.591   -4374.322    2491.440\n",
      "x63        -1953.0758   2065.424     -0.946      0.344   -6001.383    2095.232\n",
      "x64        -1129.7487   3236.621     -0.349      0.727   -7473.646    5214.148\n",
      "x65           77.8633   1682.613      0.046      0.963   -3220.121    3375.848\n",
      "x66         1364.5526   1796.214      0.760      0.447   -2156.094    4885.199\n",
      "x67         5029.8596   3162.047      1.591      0.112   -1167.869    1.12e+04\n",
      "x68         1468.0739   1456.881      1.008      0.314   -1387.468    4323.615\n",
      "x69        -5561.0003   3161.369     -1.759      0.079   -1.18e+04     635.399\n",
      "x70         -759.9197   2163.679     -0.351      0.725   -5000.810    3480.971\n",
      "x71        -1232.7515   2586.397     -0.477      0.634   -6302.186    3836.683\n",
      "x72        -6886.9677    1.7e+04     -0.405      0.686   -4.02e+04    2.65e+04\n",
      "x73          107.5264   4722.377      0.023      0.982   -9148.508    9363.561\n",
      "x74        -1894.3838   3868.717     -0.490      0.624   -9477.213    5688.445\n",
      "x75        -3031.9557   4718.792     -0.643      0.521   -1.23e+04    6217.052\n",
      "x76        -3044.3602   1843.049     -1.652      0.099   -6656.805     568.085\n",
      "x77        -1785.1855   2600.326     -0.687      0.492   -6881.921    3311.550\n",
      "x78         2684.8700   3473.714      0.773      0.440   -4123.738    9493.478\n",
      "x79         2629.7809   2001.045      1.314      0.189   -1292.342    6551.904\n",
      "x80         -761.7725   1913.683     -0.398      0.691   -4512.663    2989.118\n",
      "x81         1507.4060   2216.866      0.680      0.497   -2837.734    5852.546\n",
      "x82        -4276.7092   4094.452     -1.045      0.296   -1.23e+04    3748.569\n",
      "x83        -2188.8106    760.647     -2.878      0.004   -3679.707    -697.914\n",
      "x84        -2352.2993   2925.222     -0.804      0.421   -8085.842    3381.244\n",
      "x85        -4674.3250   4546.672     -1.028      0.304   -1.36e+04    4237.321\n",
      "x86        -4244.9997   3058.426     -1.388      0.165   -1.02e+04    1749.628\n",
      "x87         1005.1216   1433.588      0.701      0.483   -1804.763    3815.006\n",
      "x88        -1629.6407   2199.780     -0.741      0.459   -5941.290    2682.009\n",
      "x89        -3431.0413   2813.781     -1.219      0.223   -8946.157    2084.074\n",
      "x90        -1716.3970   1611.788     -1.065      0.287   -4875.561    1442.767\n",
      "x91         -629.1474   4909.932     -0.128      0.898   -1.03e+04    8994.502\n",
      "x92        -6368.6097   2055.765     -3.098      0.002   -1.04e+04   -2339.235\n",
      "x93        -4455.5065   2505.660     -1.778      0.075   -9366.694     455.681\n",
      "x94        -4798.3208   4074.029     -1.178      0.239   -1.28e+04    3186.927\n",
      "x95        -4249.7103   3913.014     -1.086      0.277   -1.19e+04    3419.942\n",
      "x96        -5099.2048   2221.790     -2.295      0.022   -9453.995    -744.415\n",
      "x97         -118.6768   4252.585     -0.028      0.978   -8453.901    8216.548\n",
      "==============================================================================\n",
      "Omnibus:                     2724.947   Durbin-Watson:                   1.997\n",
      "Prob(Omnibus):                  0.000   Jarque-Bera (JB):             3544.041\n",
      "Skew:                           0.737   Prob(JB):                         0.00\n",
      "Kurtosis:                       3.663   Cond. No.                     3.92e+07\n",
      "==============================================================================\n",
      "\n",
      "Warnings:\n",
      "[1] Standard Errors assume that the covariance matrix of the errors is correctly specified.\n",
      "[2] The condition number is large, 3.92e+07. This might indicate that there are\n",
      "strong multicollinearity or other numerical problems.\n"
     ]
    }
   ],
   "source": [
    "import statsmodels.api as sm\n",
    "from scipy import stats\n",
    "\n",
    "X2 = sm.add_constant(XM)\n",
    "est = sm.OLS(y, X2)\n",
    "est2 = est.fit()\n",
    "print(est2.summary())"
   ]
  },
  {
   "cell_type": "markdown",
   "metadata": {},
   "source": [
    "#### Al incluir las variables categorias y cuantitativas mejora el modelo de manera importante, ya que el ajuste sube a 55%, sin embargo no todas las variables resultan significativas, por lo cual procedemos a excluir las variables que no esten aportanto significativamente "
   ]
  },
  {
   "cell_type": "code",
   "execution_count": 23,
   "metadata": {},
   "outputs": [
    {
     "name": "stdout",
     "output_type": "stream",
     "text": [
      "[[    39   1521  77516 ...      0      0      0]\n",
      " [    50   2500  83311 ...      0      0      0]\n",
      " [    38   1444 215646 ...      0      0      0]\n",
      " ...\n",
      " [    58   3364 151910 ...      0      0      1]\n",
      " [    22    484 201490 ...      0      0      0]\n",
      " [    52   2704 287927 ...      0      0      1]]\n"
     ]
    }
   ],
   "source": [
    "# Exclusión de variables no significativas en el modelo de acuerdo al pvalue\n",
    "XM=income1[['Age','Age2','fnlwgt','Capital Gain','Capital Loss','Hours per week',\n",
    "           'Federal-gov', 'Self-emp-inc', 'Self-emp-not-inc', \n",
    "           'State-gov', '10th', '11th', '1st-4th', '5th-6th', \n",
    "           '7th-8th', '9th', 'Assoc-acdm', 'Assoc-voc', 'Bachelors', 'Doctorate', \n",
    "           'Masters', 'Preschool', 'Prof-school', 'Some-college','Divorced', \n",
    "           'Married-spouse-absent','Never-married', 'Separated', \n",
    "           'Widowed', 'Adm-clerical', 'Craft-repair', 'Exec-managerial', \n",
    "           'Farming-fishing', 'Handlers-cleaners', 'Machine-op-inspct', 'Other-service',\n",
    "           'Protective-serv', 'Transport-moving', \n",
    "           'Not-in-family','Other-relative', 'Own-child', 'Unmarried', 'Wife','Amer-Indian-Eskimo', \n",
    "           'Black', 'Other', 'Female']].values\n",
    "print(XM)"
   ]
  },
  {
   "cell_type": "code",
   "execution_count": null,
   "metadata": {},
   "outputs": [],
   "source": [
    "# import\n",
    "from sklearn.linear_model import LinearRegression\n",
    "# fit a linear regression model\n",
    "linreg = LinearRegression(fit_intercept=True)"
   ]
  },
  {
   "cell_type": "code",
   "execution_count": 24,
   "metadata": {},
   "outputs": [
    {
     "data": {
      "text/plain": [
       "LinearRegression(copy_X=True, fit_intercept=True, n_jobs=1, normalize=False)"
      ]
     },
     "execution_count": 24,
     "metadata": {},
     "output_type": "execute_result"
    }
   ],
   "source": [
    "# Fit\n",
    "linreg.fit(XM, y)"
   ]
  },
  {
   "cell_type": "code",
   "execution_count": 25,
   "metadata": {},
   "outputs": [],
   "source": [
    "# make predictions for all values of X\n",
    "income['Inc_pred3']= linreg.predict(XM)\n",
    "y_pred3=income['Inc_pred3']\n",
    "#print(y_pred2)"
   ]
  },
  {
   "cell_type": "code",
   "execution_count": 26,
   "metadata": {},
   "outputs": [
    {
     "name": "stdout",
     "output_type": "stream",
     "text": [
      "                            OLS Regression Results                            \n",
      "==============================================================================\n",
      "Dep. Variable:                 Income   R-squared:                       0.555\n",
      "Model:                            OLS   Adj. R-squared:                  0.554\n",
      "Method:                 Least Squares   F-statistic:                     862.4\n",
      "Date:                Mon, 04 Feb 2019   Prob (F-statistic):               0.00\n",
      "Time:                        07:45:51   Log-Likelihood:            -3.6336e+05\n",
      "No. Observations:               32561   AIC:                         7.268e+05\n",
      "Df Residuals:                   32513   BIC:                         7.272e+05\n",
      "Df Model:                          47                                         \n",
      "Covariance Type:            nonrobust                                         \n",
      "==============================================================================\n",
      "                 coef    std err          t      P>|t|      [0.025      0.975]\n",
      "------------------------------------------------------------------------------\n",
      "const       2.102e+04   1027.045     20.462      0.000     1.9e+04     2.3e+04\n",
      "x1          1534.4004     44.944     34.141      0.000    1446.309    1622.492\n",
      "x2           -14.8029      0.496    -29.823      0.000     -15.776     -13.830\n",
      "x3             0.0022      0.001      2.441      0.015       0.000       0.004\n",
      "x4             0.3439      0.013     26.185      0.000       0.318       0.370\n",
      "x5             4.0991      0.236     17.343      0.000       3.636       4.562\n",
      "x6            99.9123      8.688     11.500      0.000      82.883     116.941\n",
      "x7          3110.2918    567.530      5.480      0.000    1997.913    4222.671\n",
      "x8          3005.3536    537.115      5.595      0.000    1952.588    4058.119\n",
      "x9         -2620.4309    373.279     -7.020      0.000   -3352.071   -1888.791\n",
      "x10        -1796.0631    493.480     -3.640      0.000   -2763.302    -828.824\n",
      "x11        -3590.7404    583.440     -6.154      0.000   -4734.304   -2447.177\n",
      "x12        -2634.6452    529.939     -4.972      0.000   -3673.345   -1595.946\n",
      "x13        -8954.5392   1329.379     -6.736      0.000   -1.16e+04   -6348.908\n",
      "x14        -7260.5209    954.013     -7.611      0.000   -9130.422   -5390.620\n",
      "x15        -7912.9570    696.239    -11.365      0.000   -9277.612   -6548.302\n",
      "x16        -6761.7791    770.403     -8.777      0.000   -8271.798   -5251.760\n",
      "x17         5218.5314    551.027      9.471      0.000    4138.499    6298.564\n",
      "x18         5820.9938    488.978     11.904      0.000    4862.580    6779.408\n",
      "x19          1.45e+04    310.155     46.736      0.000    1.39e+04    1.51e+04\n",
      "x20         3.413e+04    880.610     38.763      0.000    3.24e+04    3.59e+04\n",
      "x21         2.284e+04    469.975     48.599      0.000    2.19e+04    2.38e+04\n",
      "x22        -9679.5180   2393.192     -4.045      0.000   -1.44e+04   -4988.773\n",
      "x23         3.248e+04    763.197     42.563      0.000     3.1e+04     3.4e+04\n",
      "x24         3144.7535    263.415     11.938      0.000    2628.450    3661.057\n",
      "x25        -5024.0849   1183.852     -4.244      0.000   -7344.479   -2703.691\n",
      "x26        -4626.5372   1414.607     -3.271      0.001   -7399.219   -1853.855\n",
      "x27        -4431.2400   1153.136     -3.843      0.000   -6691.428   -2171.051\n",
      "x28        -4138.9620   1269.307     -3.261      0.001   -6626.851   -1651.073\n",
      "x29        -3353.6789   1295.038     -2.590      0.010   -5892.001    -815.357\n",
      "x30        -1469.2249    339.612     -4.326      0.000   -2134.877    -803.573\n",
      "x31        -2487.8402    343.042     -7.252      0.000   -3160.215   -1815.465\n",
      "x32         3867.3529    321.956     12.012      0.000    3236.306    4498.400\n",
      "x33        -5678.7957    598.019     -9.496      0.000   -6850.935   -4506.656\n",
      "x34        -3864.2307    511.368     -7.557      0.000   -4866.531   -2861.930\n",
      "x35        -3939.8852    436.070     -9.035      0.000   -4794.598   -3085.172\n",
      "x36        -2502.2626    358.347     -6.983      0.000   -3204.636   -1799.890\n",
      "x37         1329.6175    700.289      1.899      0.058     -42.976    2702.211\n",
      "x38        -3608.7171    481.031     -7.502      0.000   -4551.555   -2665.879\n",
      "x39        -7001.5778   1178.482     -5.941      0.000   -9311.445   -4691.710\n",
      "x40        -5325.3811   1160.331     -4.590      0.000   -7599.673   -3051.090\n",
      "x41        -4818.6894   1176.531     -4.096      0.000   -7124.734   -2512.644\n",
      "x42        -6867.2478   1220.409     -5.627      0.000   -9259.295   -4475.201\n",
      "x43         4751.2851    529.490      8.973      0.000    3713.466    5789.104\n",
      "x44        -2312.5388    973.379     -2.376      0.018   -4220.397    -404.681\n",
      "x45         -944.0635    333.038     -2.835      0.005   -1596.829    -291.298\n",
      "x46        -2790.6198   1042.822     -2.676      0.007   -4834.589    -746.651\n",
      "x47        -1.651e+04    282.816    -58.364      0.000   -1.71e+04    -1.6e+04\n",
      "==============================================================================\n",
      "Omnibus:                     2729.779   Durbin-Watson:                   1.997\n",
      "Prob(Omnibus):                  0.000   Jarque-Bera (JB):             3552.891\n",
      "Skew:                           0.737   Prob(JB):                         0.00\n",
      "Kurtosis:                       3.666   Cond. No.                     7.92e+06\n",
      "==============================================================================\n",
      "\n",
      "Warnings:\n",
      "[1] Standard Errors assume that the covariance matrix of the errors is correctly specified.\n",
      "[2] The condition number is large, 7.92e+06. This might indicate that there are\n",
      "strong multicollinearity or other numerical problems.\n"
     ]
    }
   ],
   "source": [
    "import statsmodels.api as sm\n",
    "from scipy import stats\n",
    "\n",
    "X2 = sm.add_constant(XM)\n",
    "est = sm.OLS(y, X2)\n",
    "est2 = est.fit()\n",
    "print(est2.summary())"
   ]
  },
  {
   "cell_type": "markdown",
   "metadata": {},
   "source": [
    "#### El excluir las variables no significativas no aporta mucho, en realidad el ajuste del modelo se mantiene, pero por principio de parsimonia es mejor trabajar con un modelo reducido."
   ]
  },
  {
   "cell_type": "markdown",
   "metadata": {},
   "source": [
    "# Part 2: Logistic Regression\n",
    "\n",
    "### Customer Churn: \n",
    "losing/attrition of the customers from the company. Especially, the industries that the user acquisition is costly, it is crucially important for one company to reduce and ideally make the customer churn to 0 to sustain their recurring revenue. If you consider customer retention is always cheaper than customer acquisition and generally depends on the data of the user(usage of the service or product), it poses a great/exciting/hard problem for machine learning.\n",
    "\n",
    "### Data\n",
    "Dataset is from a telecom service provider where they have the service usage(international plan, voicemail plan, usage in daytime, usage in evenings and nights and so on) and basic demographic information(state and area code) of the user. For labels, I have a single data point whether the customer is churned out or not.\n"
   ]
  },
  {
   "cell_type": "code",
   "execution_count": 190,
   "metadata": {},
   "outputs": [],
   "source": [
    "# Download the dataset\n",
    "data = pd.read_csv('https://github.com/ghuiber/churn/raw/master/data/churn.csv')"
   ]
  },
  {
   "cell_type": "code",
   "execution_count": 191,
   "metadata": {},
   "outputs": [
    {
     "data": {
      "text/html": [
       "<div>\n",
       "<style scoped>\n",
       "    .dataframe tbody tr th:only-of-type {\n",
       "        vertical-align: middle;\n",
       "    }\n",
       "\n",
       "    .dataframe tbody tr th {\n",
       "        vertical-align: top;\n",
       "    }\n",
       "\n",
       "    .dataframe thead th {\n",
       "        text-align: right;\n",
       "    }\n",
       "</style>\n",
       "<table border=\"1\" class=\"dataframe\">\n",
       "  <thead>\n",
       "    <tr style=\"text-align: right;\">\n",
       "      <th></th>\n",
       "      <th>State</th>\n",
       "      <th>Account Length</th>\n",
       "      <th>Area Code</th>\n",
       "      <th>Phone</th>\n",
       "      <th>Int'l Plan</th>\n",
       "      <th>VMail Plan</th>\n",
       "      <th>VMail Message</th>\n",
       "      <th>Day Mins</th>\n",
       "      <th>Day Calls</th>\n",
       "      <th>Day Charge</th>\n",
       "      <th>...</th>\n",
       "      <th>Eve Calls</th>\n",
       "      <th>Eve Charge</th>\n",
       "      <th>Night Mins</th>\n",
       "      <th>Night Calls</th>\n",
       "      <th>Night Charge</th>\n",
       "      <th>Intl Mins</th>\n",
       "      <th>Intl Calls</th>\n",
       "      <th>Intl Charge</th>\n",
       "      <th>CustServ Calls</th>\n",
       "      <th>Churn?</th>\n",
       "    </tr>\n",
       "  </thead>\n",
       "  <tbody>\n",
       "    <tr>\n",
       "      <th>0</th>\n",
       "      <td>KS</td>\n",
       "      <td>128</td>\n",
       "      <td>415</td>\n",
       "      <td>382-4657</td>\n",
       "      <td>no</td>\n",
       "      <td>yes</td>\n",
       "      <td>25</td>\n",
       "      <td>265.1</td>\n",
       "      <td>110</td>\n",
       "      <td>45.07</td>\n",
       "      <td>...</td>\n",
       "      <td>99</td>\n",
       "      <td>16.78</td>\n",
       "      <td>244.7</td>\n",
       "      <td>91</td>\n",
       "      <td>11.01</td>\n",
       "      <td>10.0</td>\n",
       "      <td>3</td>\n",
       "      <td>2.70</td>\n",
       "      <td>1</td>\n",
       "      <td>False.</td>\n",
       "    </tr>\n",
       "    <tr>\n",
       "      <th>1</th>\n",
       "      <td>OH</td>\n",
       "      <td>107</td>\n",
       "      <td>415</td>\n",
       "      <td>371-7191</td>\n",
       "      <td>no</td>\n",
       "      <td>yes</td>\n",
       "      <td>26</td>\n",
       "      <td>161.6</td>\n",
       "      <td>123</td>\n",
       "      <td>27.47</td>\n",
       "      <td>...</td>\n",
       "      <td>103</td>\n",
       "      <td>16.62</td>\n",
       "      <td>254.4</td>\n",
       "      <td>103</td>\n",
       "      <td>11.45</td>\n",
       "      <td>13.7</td>\n",
       "      <td>3</td>\n",
       "      <td>3.70</td>\n",
       "      <td>1</td>\n",
       "      <td>False.</td>\n",
       "    </tr>\n",
       "    <tr>\n",
       "      <th>2</th>\n",
       "      <td>NJ</td>\n",
       "      <td>137</td>\n",
       "      <td>415</td>\n",
       "      <td>358-1921</td>\n",
       "      <td>no</td>\n",
       "      <td>no</td>\n",
       "      <td>0</td>\n",
       "      <td>243.4</td>\n",
       "      <td>114</td>\n",
       "      <td>41.38</td>\n",
       "      <td>...</td>\n",
       "      <td>110</td>\n",
       "      <td>10.30</td>\n",
       "      <td>162.6</td>\n",
       "      <td>104</td>\n",
       "      <td>7.32</td>\n",
       "      <td>12.2</td>\n",
       "      <td>5</td>\n",
       "      <td>3.29</td>\n",
       "      <td>0</td>\n",
       "      <td>False.</td>\n",
       "    </tr>\n",
       "    <tr>\n",
       "      <th>3</th>\n",
       "      <td>OH</td>\n",
       "      <td>84</td>\n",
       "      <td>408</td>\n",
       "      <td>375-9999</td>\n",
       "      <td>yes</td>\n",
       "      <td>no</td>\n",
       "      <td>0</td>\n",
       "      <td>299.4</td>\n",
       "      <td>71</td>\n",
       "      <td>50.90</td>\n",
       "      <td>...</td>\n",
       "      <td>88</td>\n",
       "      <td>5.26</td>\n",
       "      <td>196.9</td>\n",
       "      <td>89</td>\n",
       "      <td>8.86</td>\n",
       "      <td>6.6</td>\n",
       "      <td>7</td>\n",
       "      <td>1.78</td>\n",
       "      <td>2</td>\n",
       "      <td>False.</td>\n",
       "    </tr>\n",
       "    <tr>\n",
       "      <th>4</th>\n",
       "      <td>OK</td>\n",
       "      <td>75</td>\n",
       "      <td>415</td>\n",
       "      <td>330-6626</td>\n",
       "      <td>yes</td>\n",
       "      <td>no</td>\n",
       "      <td>0</td>\n",
       "      <td>166.7</td>\n",
       "      <td>113</td>\n",
       "      <td>28.34</td>\n",
       "      <td>...</td>\n",
       "      <td>122</td>\n",
       "      <td>12.61</td>\n",
       "      <td>186.9</td>\n",
       "      <td>121</td>\n",
       "      <td>8.41</td>\n",
       "      <td>10.1</td>\n",
       "      <td>3</td>\n",
       "      <td>2.73</td>\n",
       "      <td>3</td>\n",
       "      <td>False.</td>\n",
       "    </tr>\n",
       "  </tbody>\n",
       "</table>\n",
       "<p>5 rows × 21 columns</p>\n",
       "</div>"
      ],
      "text/plain": [
       "  State  Account Length  Area Code     Phone Int'l Plan VMail Plan  \\\n",
       "0    KS             128        415  382-4657         no        yes   \n",
       "1    OH             107        415  371-7191         no        yes   \n",
       "2    NJ             137        415  358-1921         no         no   \n",
       "3    OH              84        408  375-9999        yes         no   \n",
       "4    OK              75        415  330-6626        yes         no   \n",
       "\n",
       "   VMail Message  Day Mins  Day Calls  Day Charge   ...    Eve Calls  \\\n",
       "0             25     265.1        110       45.07   ...           99   \n",
       "1             26     161.6        123       27.47   ...          103   \n",
       "2              0     243.4        114       41.38   ...          110   \n",
       "3              0     299.4         71       50.90   ...           88   \n",
       "4              0     166.7        113       28.34   ...          122   \n",
       "\n",
       "   Eve Charge  Night Mins  Night Calls  Night Charge  Intl Mins  Intl Calls  \\\n",
       "0       16.78       244.7           91         11.01       10.0           3   \n",
       "1       16.62       254.4          103         11.45       13.7           3   \n",
       "2       10.30       162.6          104          7.32       12.2           5   \n",
       "3        5.26       196.9           89          8.86        6.6           7   \n",
       "4       12.61       186.9          121          8.41       10.1           3   \n",
       "\n",
       "   Intl Charge  CustServ Calls  Churn?  \n",
       "0         2.70               1  False.  \n",
       "1         3.70               1  False.  \n",
       "2         3.29               0  False.  \n",
       "3         1.78               2  False.  \n",
       "4         2.73               3  False.  \n",
       "\n",
       "[5 rows x 21 columns]"
      ]
     },
     "execution_count": 191,
     "metadata": {},
     "output_type": "execute_result"
    }
   ],
   "source": [
    "data.head()"
   ]
  },
  {
   "cell_type": "code",
   "execution_count": 192,
   "metadata": {},
   "outputs": [
    {
     "data": {
      "text/plain": [
       "(3333, 21)"
      ]
     },
     "execution_count": 192,
     "metadata": {},
     "output_type": "execute_result"
    }
   ],
   "source": [
    "data.shape"
   ]
  },
  {
   "cell_type": "markdown",
   "metadata": {},
   "source": [
    "# Exercise 4.5\n",
    "\n",
    "Create Y and X\n",
    "\n",
    "What is the distribution of the churners?\n",
    "\n",
    "Split the data in train (70%) and test (30%)\n"
   ]
  },
  {
   "cell_type": "code",
   "execution_count": 193,
   "metadata": {},
   "outputs": [
    {
     "data": {
      "text/plain": [
       "Index(['State', 'Account Length', 'Area Code', 'Phone', 'Int'l Plan',\n",
       "       'VMail Plan', 'VMail Message', 'Day Mins', 'Day Calls', 'Day Charge',\n",
       "       'Eve Mins', 'Eve Calls', 'Eve Charge', 'Night Mins', 'Night Calls',\n",
       "       'Night Charge', 'Intl Mins', 'Intl Calls', 'Intl Charge',\n",
       "       'CustServ Calls', 'Churn?'],\n",
       "      dtype='object')"
      ]
     },
     "execution_count": 193,
     "metadata": {},
     "output_type": "execute_result"
    }
   ],
   "source": [
    "data.columns"
   ]
  },
  {
   "cell_type": "code",
   "execution_count": 194,
   "metadata": {},
   "outputs": [
    {
     "data": {
      "text/plain": [
       "Index(['State', 'Account Length', 'Area Code', 'Phone', 'Intl_Plan',\n",
       "       'VMail_Plan', 'VMail Message', 'Day Mins', 'Day Calls', 'Day Charge',\n",
       "       'Eve Mins', 'Eve Calls', 'Eve Charge', 'Night Mins', 'Night Calls',\n",
       "       'Night Charge', 'Intl Mins', 'Intl Calls', 'Intl Charge',\n",
       "       'CustServ Calls', 'Churn'],\n",
       "      dtype='object')"
      ]
     },
     "execution_count": 194,
     "metadata": {},
     "output_type": "execute_result"
    }
   ],
   "source": [
    "data=data.rename(columns={\"Churn?\":\"Churn\", \"Int'l Plan\":\"Intl_Plan\", \"VMail Plan\":\"VMail_Plan\"})\n",
    "data.columns"
   ]
  },
  {
   "cell_type": "code",
   "execution_count": 195,
   "metadata": {},
   "outputs": [
    {
     "name": "stdout",
     "output_type": "stream",
     "text": [
      "False.    2850\n",
      "True.      483\n",
      "Name: Churn, dtype: int64\n"
     ]
    }
   ],
   "source": [
    "Var=pd.value_counts(data[\"Churn\"])\n",
    "print(Var)"
   ]
  },
  {
   "cell_type": "code",
   "execution_count": 196,
   "metadata": {},
   "outputs": [
    {
     "name": "stdout",
     "output_type": "stream",
     "text": [
      "[2850, 483]\n"
     ]
    },
    {
     "data": {
      "image/png": "[encoded data removed]",
      "text/plain": [
       "<Figure size 432x288 with 1 Axes>"
      ]
     },
     "metadata": {},
     "output_type": "display_data"
    }
   ],
   "source": [
    "# pie chart of churners\n",
    "labels = ['False', 'True']\n",
    "sizes = [data[\"Churn\"].value_counts()[0],\n",
    "         data[\"Churn\"].value_counts()[1]]\n",
    "print(sizes) \n",
    "fig1, ax1 = plt.subplots()\n",
    "ax1.pie(sizes, labels=labels, autopct='%1.1f%%', shadow=True)\n",
    "ax1.axis('equal')\n",
    "plt.show()"
   ]
  },
  {
   "cell_type": "markdown",
   "metadata": {},
   "source": [
    "#### De la totalidad de los clientes, el 14.5% abandonan al operador, lo cual representa un % importante y una oportunidad de conseguir una eficiencia de costos"
   ]
  },
  {
   "cell_type": "code",
   "execution_count": 197,
   "metadata": {},
   "outputs": [
    {
     "data": {
      "text/html": [
       "<div>\n",
       "<style scoped>\n",
       "    .dataframe tbody tr th:only-of-type {\n",
       "        vertical-align: middle;\n",
       "    }\n",
       "\n",
       "    .dataframe tbody tr th {\n",
       "        vertical-align: top;\n",
       "    }\n",
       "\n",
       "    .dataframe thead th {\n",
       "        text-align: right;\n",
       "    }\n",
       "</style>\n",
       "<table border=\"1\" class=\"dataframe\">\n",
       "  <thead>\n",
       "    <tr style=\"text-align: right;\">\n",
       "      <th></th>\n",
       "      <th>State</th>\n",
       "      <th>Account Length</th>\n",
       "      <th>Area Code</th>\n",
       "      <th>Phone</th>\n",
       "      <th>Intl_Plan</th>\n",
       "      <th>VMail_Plan</th>\n",
       "      <th>VMail Message</th>\n",
       "      <th>Day Mins</th>\n",
       "      <th>Day Calls</th>\n",
       "      <th>Day Charge</th>\n",
       "      <th>...</th>\n",
       "      <th>Eve Charge</th>\n",
       "      <th>Night Mins</th>\n",
       "      <th>Night Calls</th>\n",
       "      <th>Night Charge</th>\n",
       "      <th>Intl Mins</th>\n",
       "      <th>Intl Calls</th>\n",
       "      <th>Intl Charge</th>\n",
       "      <th>CustServ Calls</th>\n",
       "      <th>Churn</th>\n",
       "      <th>Churn_b</th>\n",
       "    </tr>\n",
       "  </thead>\n",
       "  <tbody>\n",
       "    <tr>\n",
       "      <th>0</th>\n",
       "      <td>KS</td>\n",
       "      <td>128</td>\n",
       "      <td>415</td>\n",
       "      <td>382-4657</td>\n",
       "      <td>no_plan</td>\n",
       "      <td>yes_mail</td>\n",
       "      <td>25</td>\n",
       "      <td>265.1</td>\n",
       "      <td>110</td>\n",
       "      <td>45.07</td>\n",
       "      <td>...</td>\n",
       "      <td>16.78</td>\n",
       "      <td>244.7</td>\n",
       "      <td>91</td>\n",
       "      <td>11.01</td>\n",
       "      <td>10.0</td>\n",
       "      <td>3</td>\n",
       "      <td>2.70</td>\n",
       "      <td>1</td>\n",
       "      <td>False.</td>\n",
       "      <td>0</td>\n",
       "    </tr>\n",
       "    <tr>\n",
       "      <th>1</th>\n",
       "      <td>OH</td>\n",
       "      <td>107</td>\n",
       "      <td>415</td>\n",
       "      <td>371-7191</td>\n",
       "      <td>no_plan</td>\n",
       "      <td>yes_mail</td>\n",
       "      <td>26</td>\n",
       "      <td>161.6</td>\n",
       "      <td>123</td>\n",
       "      <td>27.47</td>\n",
       "      <td>...</td>\n",
       "      <td>16.62</td>\n",
       "      <td>254.4</td>\n",
       "      <td>103</td>\n",
       "      <td>11.45</td>\n",
       "      <td>13.7</td>\n",
       "      <td>3</td>\n",
       "      <td>3.70</td>\n",
       "      <td>1</td>\n",
       "      <td>False.</td>\n",
       "      <td>0</td>\n",
       "    </tr>\n",
       "    <tr>\n",
       "      <th>2</th>\n",
       "      <td>NJ</td>\n",
       "      <td>137</td>\n",
       "      <td>415</td>\n",
       "      <td>358-1921</td>\n",
       "      <td>no_plan</td>\n",
       "      <td>no_mail</td>\n",
       "      <td>0</td>\n",
       "      <td>243.4</td>\n",
       "      <td>114</td>\n",
       "      <td>41.38</td>\n",
       "      <td>...</td>\n",
       "      <td>10.30</td>\n",
       "      <td>162.6</td>\n",
       "      <td>104</td>\n",
       "      <td>7.32</td>\n",
       "      <td>12.2</td>\n",
       "      <td>5</td>\n",
       "      <td>3.29</td>\n",
       "      <td>0</td>\n",
       "      <td>False.</td>\n",
       "      <td>0</td>\n",
       "    </tr>\n",
       "    <tr>\n",
       "      <th>3</th>\n",
       "      <td>OH</td>\n",
       "      <td>84</td>\n",
       "      <td>408</td>\n",
       "      <td>375-9999</td>\n",
       "      <td>yes_plan</td>\n",
       "      <td>no_mail</td>\n",
       "      <td>0</td>\n",
       "      <td>299.4</td>\n",
       "      <td>71</td>\n",
       "      <td>50.90</td>\n",
       "      <td>...</td>\n",
       "      <td>5.26</td>\n",
       "      <td>196.9</td>\n",
       "      <td>89</td>\n",
       "      <td>8.86</td>\n",
       "      <td>6.6</td>\n",
       "      <td>7</td>\n",
       "      <td>1.78</td>\n",
       "      <td>2</td>\n",
       "      <td>False.</td>\n",
       "      <td>0</td>\n",
       "    </tr>\n",
       "    <tr>\n",
       "      <th>4</th>\n",
       "      <td>OK</td>\n",
       "      <td>75</td>\n",
       "      <td>415</td>\n",
       "      <td>330-6626</td>\n",
       "      <td>yes_plan</td>\n",
       "      <td>no_mail</td>\n",
       "      <td>0</td>\n",
       "      <td>166.7</td>\n",
       "      <td>113</td>\n",
       "      <td>28.34</td>\n",
       "      <td>...</td>\n",
       "      <td>12.61</td>\n",
       "      <td>186.9</td>\n",
       "      <td>121</td>\n",
       "      <td>8.41</td>\n",
       "      <td>10.1</td>\n",
       "      <td>3</td>\n",
       "      <td>2.73</td>\n",
       "      <td>3</td>\n",
       "      <td>False.</td>\n",
       "      <td>0</td>\n",
       "    </tr>\n",
       "  </tbody>\n",
       "</table>\n",
       "<p>5 rows × 22 columns</p>\n",
       "</div>"
      ],
      "text/plain": [
       "  State  Account Length  Area Code     Phone Intl_Plan VMail_Plan  \\\n",
       "0    KS             128        415  382-4657   no_plan   yes_mail   \n",
       "1    OH             107        415  371-7191   no_plan   yes_mail   \n",
       "2    NJ             137        415  358-1921   no_plan    no_mail   \n",
       "3    OH              84        408  375-9999  yes_plan    no_mail   \n",
       "4    OK              75        415  330-6626  yes_plan    no_mail   \n",
       "\n",
       "   VMail Message  Day Mins  Day Calls  Day Charge   ...     Eve Charge  \\\n",
       "0             25     265.1        110       45.07   ...          16.78   \n",
       "1             26     161.6        123       27.47   ...          16.62   \n",
       "2              0     243.4        114       41.38   ...          10.30   \n",
       "3              0     299.4         71       50.90   ...           5.26   \n",
       "4              0     166.7        113       28.34   ...          12.61   \n",
       "\n",
       "   Night Mins  Night Calls  Night Charge  Intl Mins  Intl Calls  Intl Charge  \\\n",
       "0       244.7           91         11.01       10.0           3         2.70   \n",
       "1       254.4          103         11.45       13.7           3         3.70   \n",
       "2       162.6          104          7.32       12.2           5         3.29   \n",
       "3       196.9           89          8.86        6.6           7         1.78   \n",
       "4       186.9          121          8.41       10.1           3         2.73   \n",
       "\n",
       "   CustServ Calls   Churn  Churn_b  \n",
       "0               1  False.        0  \n",
       "1               1  False.        0  \n",
       "2               0  False.        0  \n",
       "3               2  False.        0  \n",
       "4               3  False.        0  \n",
       "\n",
       "[5 rows x 22 columns]"
      ]
     },
     "execution_count": 197,
     "metadata": {},
     "output_type": "execute_result"
    }
   ],
   "source": [
    "data[\"Churn_b\"] = data.Churn.map({'False.':0, 'True.':1})\n",
    "data[\"Intl_Plan\"] = data.Intl_Plan.map({'yes':'yes_plan', 'no':'no_plan'})\n",
    "data[\"VMail_Plan\"] = data.VMail_Plan.map({'yes':'yes_mail', 'no':'no_mail'})\n",
    "data.head()"
   ]
  },
  {
   "cell_type": "code",
   "execution_count": 198,
   "metadata": {},
   "outputs": [
    {
     "data": {
      "text/plain": [
       "Index(['State', 'Account Length', 'Area Code', 'Phone', 'Intl_Plan',\n",
       "       'VMail_Plan', 'VMail Message', 'Day Mins', 'Day Calls', 'Day Charge',\n",
       "       'Eve Mins', 'Eve Calls', 'Eve Charge', 'Night Mins', 'Night Calls',\n",
       "       'Night Charge', 'Intl Mins', 'Intl Calls', 'Intl Charge',\n",
       "       'CustServ Calls', 'Churn', 'Churn_b'],\n",
       "      dtype='object')"
      ]
     },
     "execution_count": 198,
     "metadata": {},
     "output_type": "execute_result"
    }
   ],
   "source": [
    "data1=data\n",
    "data1.columns"
   ]
  },
  {
   "cell_type": "code",
   "execution_count": 199,
   "metadata": {},
   "outputs": [
    {
     "name": "stdout",
     "output_type": "stream",
     "text": [
      "['State', 'Area Code', 'Intl_Plan', 'VMail_Plan']\n"
     ]
    }
   ],
   "source": [
    "# Creación de variables X\n",
    "\n",
    "from array import *\n",
    "\n",
    "Variables=data1.columns[[0,2,4,5]]\n",
    "Variables_list = Variables.tolist()\n",
    "print(Variables_list)\n",
    "\n"
   ]
  },
  {
   "cell_type": "code",
   "execution_count": 200,
   "metadata": {},
   "outputs": [
    {
     "name": "stdout",
     "output_type": "stream",
     "text": [
      "State\n",
      "Area Code\n",
      "Intl_Plan\n",
      "VMail_Plan\n",
      "Index([         'State', 'Account Length',      'Area Code',          'Phone',\n",
      "            'Intl_Plan',     'VMail_Plan',  'VMail Message',       'Day Mins',\n",
      "            'Day Calls',     'Day Charge',       'Eve Mins',      'Eve Calls',\n",
      "           'Eve Charge',     'Night Mins',    'Night Calls',   'Night Charge',\n",
      "            'Intl Mins',     'Intl Calls',    'Intl Charge', 'CustServ Calls',\n",
      "                'Churn',        'Churn_b',             'AK',             'AL',\n",
      "                   'AR',             'AZ',             'CA',             'CO',\n",
      "                   'CT',             'DC',             'DE',             'FL',\n",
      "                   'GA',             'HI',             'IA',             'ID',\n",
      "                   'IL',             'IN',             'KS',             'KY',\n",
      "                   'LA',             'MA',             'MD',             'ME',\n",
      "                   'MI',             'MN',             'MO',             'MS',\n",
      "                   'MT',             'NC',             'ND',             'NE',\n",
      "                   'NH',             'NJ',             'NM',             'NV',\n",
      "                   'NY',             'OH',             'OK',             'OR',\n",
      "                   'PA',             'RI',             'SC',             'SD',\n",
      "                   'TN',             'TX',             'UT',             'VA',\n",
      "                   'VT',             'WA',             'WI',             'WY',\n",
      "                    408,              510,       'yes_plan',       'yes_mail'],\n",
      "      dtype='object')\n"
     ]
    }
   ],
   "source": [
    "# Creación de variables dummys\n",
    "\n",
    "for Var in Variables_list:\n",
    "    print(Var)\n",
    "    # Creación de variables dummys\n",
    "    Dummy = pd.get_dummies(data[Var])\n",
    "    #print(Dummy)\n",
    "    # tabla de frecuencia de clases de pasajeros\n",
    "    Dummies=pd.value_counts(data[Var])\n",
    "    Dummies_df=pd.DataFrame(Dummies)\n",
    "    Dummies_df=Dummies_df.index\n",
    "    #print(Dummies_df)\n",
    "    #Dummies_list = Dummies.tolist()\n",
    "    #print(Dummies_df[0])\n",
    "    #print(Dummy.columns)\n",
    "    Dummy = Dummy.drop(Dummies_df[0], 1)\n",
    "    #print(Dummy.columns)\n",
    "    data1 = pd.concat([data1, Dummy], axis=1, sort=False)\n",
    "print(data1.columns)"
   ]
  },
  {
   "cell_type": "code",
   "execution_count": 201,
   "metadata": {},
   "outputs": [
    {
     "data": {
      "text/plain": [
       "Index(['State', 'Account Length', 'Area Code', 'Phone', 'Intl_Plan',\n",
       "       'VMail_Plan', 'VMail Message', 'Day Mins', 'Day Calls', 'Day Charge',\n",
       "       'Eve Mins', 'Eve Calls', 'Eve Charge', 'Night Mins', 'Night Calls',\n",
       "       'Night Charge', 'Intl Mins', 'Intl Calls', 'Intl Charge',\n",
       "       'CustServ Calls', 'Churn', 'Churn_b', 'AK', 'AL', 'AR', 'AZ', 'CA',\n",
       "       'CO', 'CT', 'DC', 'DE', 'FL', 'GA', 'HI', 'IA', 'ID', 'IL', 'IN', 'KS',\n",
       "       'KY', 'LA', 'MA', 'MD', 'ME', 'MI', 'MN', 'MO', 'MS', 'MT', 'NC', 'ND',\n",
       "       'NE', 'NH', 'NJ', 'NM', 'NV', 'NY', 'OH', 'OK', 'OR', 'PA', 'RI', 'SC',\n",
       "       'SD', 'TN', 'TX', 'UT', 'VA', 'VT', 'WA', 'WI', 'WY', 'Area_Code1',\n",
       "       'Area_Code2', 'yes_plan', 'yes_mail'],\n",
       "      dtype='object')"
      ]
     },
     "execution_count": 201,
     "metadata": {},
     "output_type": "execute_result"
    }
   ],
   "source": [
    "data1=data1.rename(columns={408:\"Area_Code1\", 510:\"Area_Code2\"})\n",
    "data1.columns"
   ]
  },
  {
   "cell_type": "code",
   "execution_count": 222,
   "metadata": {},
   "outputs": [
    {
     "name": "stdout",
     "output_type": "stream",
     "text": [
      "[[128.   25.  265.1 ...   0.    0.    1. ]\n",
      " [107.   26.  161.6 ...   0.    0.    1. ]\n",
      " [137.    0.  243.4 ...   0.    0.    0. ]\n",
      " ...\n",
      " [ 28.    0.  180.8 ...   1.    0.    0. ]\n",
      " [184.    0.  213.8 ...   1.    1.    0. ]\n",
      " [ 74.   25.  234.4 ...   0.    0.    1. ]]\n"
     ]
    }
   ],
   "source": [
    "# Creación de la matriz X\n",
    "\n",
    "XM=data1[['Account Length', 'VMail Message', 'Day Mins', 'Day Calls', 'Day Charge',\n",
    "       'Eve Mins', 'Eve Calls', 'Eve Charge', 'Night Mins', 'Night Calls',\n",
    "       'Night Charge', 'Intl Mins', 'Intl Calls', 'Intl Charge',\n",
    "       'CustServ Calls', 'AK', 'AL', 'AR', 'AZ', 'CA',\n",
    "       'CO', 'CT', 'DC', 'DE', 'FL', 'GA', 'HI', 'IA', 'ID', 'IL', 'IN', 'KS',\n",
    "       'KY', 'LA', 'MA', 'MD', 'ME', 'MI', 'MN', 'MO', 'MS', 'MT', 'NC', 'ND',\n",
    "       'NE', 'NH', 'NJ', 'NM', 'NV', 'NY', 'OH', 'OK', 'OR', 'PA', 'RI', 'SC',\n",
    "       'SD', 'TN', 'TX', 'UT', 'VA', 'VT', 'WA', 'WI', 'WY', 'Area_Code1',\n",
    "       'Area_Code2', 'yes_plan', 'yes_mail']].values\n",
    "print(XM)"
   ]
  },
  {
   "cell_type": "code",
   "execution_count": 221,
   "metadata": {},
   "outputs": [],
   "source": [
    "# Creación de la variable dicotomica y\n",
    "y=data1[\"Churn_b\"]\n",
    "#print(y)"
   ]
  },
  {
   "cell_type": "code",
   "execution_count": 227,
   "metadata": {},
   "outputs": [],
   "source": [
    "# Split the data in train (70%) and test (30%)\n",
    "\n",
    "from sklearn.model_selection import train_test_split\n",
    "y_train, y_test, X_train, X_test = train_test_split(y, XM, test_size=0.3, random_state=0)"
   ]
  },
  {
   "cell_type": "code",
   "execution_count": 309,
   "metadata": {},
   "outputs": [
    {
     "data": {
      "text/plain": [
       "pandas.core.series.Series"
      ]
     },
     "execution_count": 309,
     "metadata": {},
     "output_type": "execute_result"
    }
   ],
   "source": [
    "type(y_train)"
   ]
  },
  {
   "cell_type": "code",
   "execution_count": 230,
   "metadata": {},
   "outputs": [
    {
     "name": "stdout",
     "output_type": "stream",
     "text": [
      "[2333, 1000]\n"
     ]
    }
   ],
   "source": [
    "Size_train_df = pd.DataFrame(list(y_train.shape), columns=[1])\n",
    "Size_test_df = pd.DataFrame(list(y_test.shape), columns=[1])\n",
    "sizes = [Size_train_df.iloc[0,0],Size_test_df.iloc[0,0]]\n",
    "print(sizes)\n",
    "#print(Size_train_df.iloc[0])"
   ]
  },
  {
   "cell_type": "code",
   "execution_count": 231,
   "metadata": {},
   "outputs": [
    {
     "name": "stdout",
     "output_type": "stream",
     "text": [
      "[2333, 1000]\n"
     ]
    },
    {
     "data": {
      "image/png": "[encoded data removed]",
      "text/plain": [
       "<Figure size 432x288 with 1 Axes>"
      ]
     },
     "metadata": {},
     "output_type": "display_data"
    }
   ],
   "source": [
    "# pie chart of churners\n",
    "labels = ['Train', 'Test']\n",
    "sizes = [sizes[0],sizes[1]]\n",
    "print(sizes) \n",
    "fig1, ax1 = plt.subplots()\n",
    "ax1.pie(sizes, labels=labels, autopct='%1.1f%%', shadow=True)\n",
    "ax1.axis('equal')\n",
    "plt.show()"
   ]
  },
  {
   "cell_type": "markdown",
   "metadata": {},
   "source": [
    "#### Se construyen dos conjuntos de datos, tanto para X como para y, con el proposito de modelar la regresión con el primer grupo de datos, que representa el 70% de la información y luego probar la precisión del modelo con el restante 30% de la información"
   ]
  },
  {
   "cell_type": "markdown",
   "metadata": {},
   "source": [
    "# Exercise 4.6\n",
    "\n",
    "Train a Logistic Regression using the training set and apply the algorithm to the testing set."
   ]
  },
  {
   "cell_type": "code",
   "execution_count": 340,
   "metadata": {},
   "outputs": [
    {
     "name": "stdout",
     "output_type": "stream",
     "text": [
      "[0 0 0 ... 1 0 1]\n"
     ]
    }
   ],
   "source": [
    "from sklearn import model_selection\n",
    "from sklearn.metrics import classification_report\n",
    "from sklearn.metrics import confusion_matrix\n",
    "from sklearn.metrics import accuracy_score\n",
    "\n",
    "# fit a logistic regression model and store the class predictions\n",
    "from sklearn.linear_model import LogisticRegression\n",
    "logreg = LogisticRegression(solver='liblinear',C=1e9)\n",
    "\n",
    "y= pd.Series(y_train).values\n",
    "print(y)"
   ]
  },
  {
   "cell_type": "code",
   "execution_count": 344,
   "metadata": {},
   "outputs": [
    {
     "data": {
      "text/plain": [
       "numpy.ndarray"
      ]
     },
     "execution_count": 344,
     "metadata": {},
     "output_type": "execute_result"
    }
   ],
   "source": [
    "type(y)"
   ]
  },
  {
   "cell_type": "code",
   "execution_count": 347,
   "metadata": {},
   "outputs": [
    {
     "name": "stdout",
     "output_type": "stream",
     "text": [
      "(2333, 69)\n"
     ]
    },
    {
     "data": {
      "text/plain": [
       "(3333, 76)"
      ]
     },
     "execution_count": 347,
     "metadata": {},
     "output_type": "execute_result"
    }
   ],
   "source": [
    "print(X_train.shape)\n",
    "data1.shape"
   ]
  },
  {
   "cell_type": "code",
   "execution_count": 345,
   "metadata": {},
   "outputs": [
    {
     "data": {
      "text/plain": [
       "LogisticRegression(C=1000000000.0, class_weight=None, dual=False,\n",
       "          fit_intercept=True, intercept_scaling=1, max_iter=100,\n",
       "          multi_class='ovr', n_jobs=1, penalty='l2', random_state=None,\n",
       "          solver='liblinear', tol=0.0001, verbose=0, warm_start=False)"
      ]
     },
     "execution_count": 345,
     "metadata": {},
     "output_type": "execute_result"
    }
   ],
   "source": [
    "logreg.fit(X_train, y)"
   ]
  },
  {
   "cell_type": "code",
   "execution_count": 356,
   "metadata": {},
   "outputs": [
    {
     "data": {
      "text/plain": [
       "0.854"
      ]
     },
     "execution_count": 356,
     "metadata": {},
     "output_type": "execute_result"
    }
   ],
   "source": [
    "prediccion = logreg.predict(X_train)\n",
    "logreg.score(X_train,y)"
   ]
  },
  {
   "cell_type": "code",
   "execution_count": 361,
   "metadata": {},
   "outputs": [
    {
     "data": {
      "text/plain": [
       "0.854"
      ]
     },
     "execution_count": 361,
     "metadata": {},
     "output_type": "execute_result"
    }
   ],
   "source": [
    "prediccion_test = logreg.predict(X_test)\n",
    "logreg.score(X_test,y_test)"
   ]
  },
  {
   "cell_type": "markdown",
   "metadata": {},
   "source": [
    "#### El modelo de regresion logistica con el 70% de la información, genera un precisión de un 85.4% en la clasificación de los casos de retiro de los clientes"
   ]
  },
  {
   "cell_type": "markdown",
   "metadata": {},
   "source": [
    "# Exercise 4.7\n",
    "\n",
    "a) Create a confusion matrix using the prediction on the 30% set.\n",
    "\n",
    "b) Estimate the accuracy of the model in the 30% set\n"
   ]
  },
  {
   "cell_type": "code",
   "execution_count": 364,
   "metadata": {},
   "outputs": [
    {
     "name": "stdout",
     "output_type": "stream",
     "text": [
      "[[823  39]\n",
      " [107  31]]\n"
     ]
    }
   ],
   "source": [
    "print(confusion_matrix(y_test, prediccion_test))"
   ]
  },
  {
   "cell_type": "code",
   "execution_count": 365,
   "metadata": {},
   "outputs": [
    {
     "name": "stdout",
     "output_type": "stream",
     "text": [
      "0.854\n"
     ]
    }
   ],
   "source": [
    "print(accuracy_score(y_test, prediccion_test))"
   ]
  },
  {
   "cell_type": "markdown",
   "metadata": {},
   "source": [
    "#### Los niveles de precisión se mantiene cuando aplicamos el modelo estimado al conjunto de validación"
   ]
  },
  {
   "cell_type": "code",
   "execution_count": 367,
   "metadata": {},
   "outputs": [
    {
     "name": "stdout",
     "output_type": "stream",
     "text": [
      "             precision    recall  f1-score   support\n",
      "\n",
      "          0       0.88      0.95      0.92       862\n",
      "          1       0.44      0.22      0.30       138\n",
      "\n",
      "avg / total       0.82      0.85      0.83      1000\n",
      "\n"
     ]
    }
   ],
   "source": [
    "print(classification_report(y_test, prediccion_test))"
   ]
  },
  {
   "cell_type": "markdown",
   "metadata": {},
   "source": [
    "### FIN"
   ]
  }
 ],
 "metadata": {
  "kernelspec": {
   "display_name": "Python 3",
   "language": "python",
   "name": "python3"
  },
  "language_info": {
   "codemirror_mode": {
    "name": "ipython",
    "version": 3
   },
   "file_extension": ".py",
   "mimetype": "text/x-python",
   "name": "python",
   "nbconvert_exporter": "python",
   "pygments_lexer": "ipython3",
   "version": "3.6.5"
  }
 },
 "nbformat": 4,
 "nbformat_minor": 2
}
