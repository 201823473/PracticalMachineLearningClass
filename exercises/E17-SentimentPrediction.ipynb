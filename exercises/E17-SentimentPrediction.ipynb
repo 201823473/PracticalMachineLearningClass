{
 "cells": [
  {
   "cell_type": "markdown",
   "metadata": {},
   "source": [
    "# Exercise 17\n",
    "\n",
    "## Analyze how travelers expressed their feelings on Twitter\n",
    "\n",
    "A sentiment analysis job about the problems of each major U.S. airline. \n",
    "Twitter data was scraped from February of 2015 and contributors were \n",
    "asked to first classify positive, negative, and neutral tweets, followed\n",
    "by categorizing negative reasons (such as \"late flight\" or \"rude service\")."
   ]
  },
  {
   "cell_type": "code",
   "execution_count": 1,
   "metadata": {},
   "outputs": [
    {
     "data": {
      "text/html": [
       "<div>\n",
       "<style scoped>\n",
       "    .dataframe tbody tr th:only-of-type {\n",
       "        vertical-align: middle;\n",
       "    }\n",
       "\n",
       "    .dataframe tbody tr th {\n",
       "        vertical-align: top;\n",
       "    }\n",
       "\n",
       "    .dataframe thead th {\n",
       "        text-align: right;\n",
       "    }\n",
       "</style>\n",
       "<table border=\"1\" class=\"dataframe\">\n",
       "  <thead>\n",
       "    <tr style=\"text-align: right;\">\n",
       "      <th></th>\n",
       "      <th>airline_sentiment</th>\n",
       "      <th>airline_sentiment_confidence</th>\n",
       "      <th>negativereason</th>\n",
       "      <th>negativereason_confidence</th>\n",
       "      <th>airline</th>\n",
       "      <th>airline_sentiment_gold</th>\n",
       "      <th>name</th>\n",
       "      <th>negativereason_gold</th>\n",
       "      <th>retweet_count</th>\n",
       "      <th>text</th>\n",
       "      <th>tweet_coord</th>\n",
       "      <th>tweet_created</th>\n",
       "      <th>tweet_location</th>\n",
       "      <th>user_timezone</th>\n",
       "    </tr>\n",
       "    <tr>\n",
       "      <th>tweet_id</th>\n",
       "      <th></th>\n",
       "      <th></th>\n",
       "      <th></th>\n",
       "      <th></th>\n",
       "      <th></th>\n",
       "      <th></th>\n",
       "      <th></th>\n",
       "      <th></th>\n",
       "      <th></th>\n",
       "      <th></th>\n",
       "      <th></th>\n",
       "      <th></th>\n",
       "      <th></th>\n",
       "      <th></th>\n",
       "    </tr>\n",
       "  </thead>\n",
       "  <tbody>\n",
       "    <tr>\n",
       "      <th>570306133677760513</th>\n",
       "      <td>neutral</td>\n",
       "      <td>1.0000</td>\n",
       "      <td>NaN</td>\n",
       "      <td>NaN</td>\n",
       "      <td>Virgin America</td>\n",
       "      <td>NaN</td>\n",
       "      <td>cairdin</td>\n",
       "      <td>NaN</td>\n",
       "      <td>0</td>\n",
       "      <td>@VirginAmerica What @dhepburn said.</td>\n",
       "      <td>NaN</td>\n",
       "      <td>2015-02-24 11:35:52 -0800</td>\n",
       "      <td>NaN</td>\n",
       "      <td>Eastern Time (US &amp; Canada)</td>\n",
       "    </tr>\n",
       "    <tr>\n",
       "      <th>570301130888122368</th>\n",
       "      <td>positive</td>\n",
       "      <td>0.3486</td>\n",
       "      <td>NaN</td>\n",
       "      <td>0.0000</td>\n",
       "      <td>Virgin America</td>\n",
       "      <td>NaN</td>\n",
       "      <td>jnardino</td>\n",
       "      <td>NaN</td>\n",
       "      <td>0</td>\n",
       "      <td>@VirginAmerica plus you've added commercials t...</td>\n",
       "      <td>NaN</td>\n",
       "      <td>2015-02-24 11:15:59 -0800</td>\n",
       "      <td>NaN</td>\n",
       "      <td>Pacific Time (US &amp; Canada)</td>\n",
       "    </tr>\n",
       "    <tr>\n",
       "      <th>570301083672813571</th>\n",
       "      <td>neutral</td>\n",
       "      <td>0.6837</td>\n",
       "      <td>NaN</td>\n",
       "      <td>NaN</td>\n",
       "      <td>Virgin America</td>\n",
       "      <td>NaN</td>\n",
       "      <td>yvonnalynn</td>\n",
       "      <td>NaN</td>\n",
       "      <td>0</td>\n",
       "      <td>@VirginAmerica I didn't today... Must mean I n...</td>\n",
       "      <td>NaN</td>\n",
       "      <td>2015-02-24 11:15:48 -0800</td>\n",
       "      <td>Lets Play</td>\n",
       "      <td>Central Time (US &amp; Canada)</td>\n",
       "    </tr>\n",
       "    <tr>\n",
       "      <th>570301031407624196</th>\n",
       "      <td>negative</td>\n",
       "      <td>1.0000</td>\n",
       "      <td>Bad Flight</td>\n",
       "      <td>0.7033</td>\n",
       "      <td>Virgin America</td>\n",
       "      <td>NaN</td>\n",
       "      <td>jnardino</td>\n",
       "      <td>NaN</td>\n",
       "      <td>0</td>\n",
       "      <td>@VirginAmerica it's really aggressive to blast...</td>\n",
       "      <td>NaN</td>\n",
       "      <td>2015-02-24 11:15:36 -0800</td>\n",
       "      <td>NaN</td>\n",
       "      <td>Pacific Time (US &amp; Canada)</td>\n",
       "    </tr>\n",
       "    <tr>\n",
       "      <th>570300817074462722</th>\n",
       "      <td>negative</td>\n",
       "      <td>1.0000</td>\n",
       "      <td>Can't Tell</td>\n",
       "      <td>1.0000</td>\n",
       "      <td>Virgin America</td>\n",
       "      <td>NaN</td>\n",
       "      <td>jnardino</td>\n",
       "      <td>NaN</td>\n",
       "      <td>0</td>\n",
       "      <td>@VirginAmerica and it's a really big bad thing...</td>\n",
       "      <td>NaN</td>\n",
       "      <td>2015-02-24 11:14:45 -0800</td>\n",
       "      <td>NaN</td>\n",
       "      <td>Pacific Time (US &amp; Canada)</td>\n",
       "    </tr>\n",
       "  </tbody>\n",
       "</table>\n",
       "</div>"
      ],
      "text/plain": [
       "                   airline_sentiment  airline_sentiment_confidence  \\\n",
       "tweet_id                                                             \n",
       "570306133677760513           neutral                        1.0000   \n",
       "570301130888122368          positive                        0.3486   \n",
       "570301083672813571           neutral                        0.6837   \n",
       "570301031407624196          negative                        1.0000   \n",
       "570300817074462722          negative                        1.0000   \n",
       "\n",
       "                   negativereason  negativereason_confidence         airline  \\\n",
       "tweet_id                                                                       \n",
       "570306133677760513            NaN                        NaN  Virgin America   \n",
       "570301130888122368            NaN                     0.0000  Virgin America   \n",
       "570301083672813571            NaN                        NaN  Virgin America   \n",
       "570301031407624196     Bad Flight                     0.7033  Virgin America   \n",
       "570300817074462722     Can't Tell                     1.0000  Virgin America   \n",
       "\n",
       "                   airline_sentiment_gold        name negativereason_gold  \\\n",
       "tweet_id                                                                    \n",
       "570306133677760513                    NaN     cairdin                 NaN   \n",
       "570301130888122368                    NaN    jnardino                 NaN   \n",
       "570301083672813571                    NaN  yvonnalynn                 NaN   \n",
       "570301031407624196                    NaN    jnardino                 NaN   \n",
       "570300817074462722                    NaN    jnardino                 NaN   \n",
       "\n",
       "                    retweet_count  \\\n",
       "tweet_id                            \n",
       "570306133677760513              0   \n",
       "570301130888122368              0   \n",
       "570301083672813571              0   \n",
       "570301031407624196              0   \n",
       "570300817074462722              0   \n",
       "\n",
       "                                                                 text  \\\n",
       "tweet_id                                                                \n",
       "570306133677760513                @VirginAmerica What @dhepburn said.   \n",
       "570301130888122368  @VirginAmerica plus you've added commercials t...   \n",
       "570301083672813571  @VirginAmerica I didn't today... Must mean I n...   \n",
       "570301031407624196  @VirginAmerica it's really aggressive to blast...   \n",
       "570300817074462722  @VirginAmerica and it's a really big bad thing...   \n",
       "\n",
       "                   tweet_coord              tweet_created tweet_location  \\\n",
       "tweet_id                                                                   \n",
       "570306133677760513         NaN  2015-02-24 11:35:52 -0800            NaN   \n",
       "570301130888122368         NaN  2015-02-24 11:15:59 -0800            NaN   \n",
       "570301083672813571         NaN  2015-02-24 11:15:48 -0800      Lets Play   \n",
       "570301031407624196         NaN  2015-02-24 11:15:36 -0800            NaN   \n",
       "570300817074462722         NaN  2015-02-24 11:14:45 -0800            NaN   \n",
       "\n",
       "                                 user_timezone  \n",
       "tweet_id                                        \n",
       "570306133677760513  Eastern Time (US & Canada)  \n",
       "570301130888122368  Pacific Time (US & Canada)  \n",
       "570301083672813571  Central Time (US & Canada)  \n",
       "570301031407624196  Pacific Time (US & Canada)  \n",
       "570300817074462722  Pacific Time (US & Canada)  "
      ]
     },
     "execution_count": 1,
     "metadata": {},
     "output_type": "execute_result"
    }
   ],
   "source": [
    "import pandas as pd\n",
    "import numpy as np\n",
    "\n",
    "%matplotlib inline\n",
    "import matplotlib.pyplot as plt\n",
    "\n",
    "# read the data and set the datetime as the index\n",
    "tweets = pd.read_csv('https://github.com/albahnsen/PracticalMachineLearningClass/raw/master/datasets/Tweets.zip', index_col=0)\n",
    "\n",
    "tweets.head()"
   ]
  },
  {
   "cell_type": "code",
   "execution_count": 2,
   "metadata": {},
   "outputs": [
    {
     "data": {
      "text/plain": [
       "(14640, 14)"
      ]
     },
     "execution_count": 2,
     "metadata": {},
     "output_type": "execute_result"
    }
   ],
   "source": [
    "tweets.shape"
   ]
  },
  {
   "cell_type": "markdown",
   "metadata": {},
   "source": [
    "### Proportion of tweets with each sentiment"
   ]
  },
  {
   "cell_type": "code",
   "execution_count": 3,
   "metadata": {},
   "outputs": [
    {
     "data": {
      "text/plain": [
       "negative    9178\n",
       "neutral     3099\n",
       "positive    2363\n",
       "Name: airline_sentiment, dtype: int64"
      ]
     },
     "execution_count": 3,
     "metadata": {},
     "output_type": "execute_result"
    }
   ],
   "source": [
    "tweets['airline_sentiment'].value_counts()"
   ]
  },
  {
   "cell_type": "markdown",
   "metadata": {},
   "source": [
    "### Proportion of tweets per airline\n"
   ]
  },
  {
   "cell_type": "code",
   "execution_count": 4,
   "metadata": {},
   "outputs": [
    {
     "data": {
      "text/plain": [
       "United            3822\n",
       "US Airways        2913\n",
       "American          2759\n",
       "Southwest         2420\n",
       "Delta             2222\n",
       "Virgin America     504\n",
       "Name: airline, dtype: int64"
      ]
     },
     "execution_count": 4,
     "metadata": {},
     "output_type": "execute_result"
    }
   ],
   "source": [
    "tweets['airline'].value_counts()"
   ]
  },
  {
   "cell_type": "code",
   "execution_count": 5,
   "metadata": {},
   "outputs": [
    {
     "data": {
      "text/plain": [
       "<matplotlib.axes._subplots.AxesSubplot at 0x1fa05efe198>"
      ]
     },
     "execution_count": 5,
     "metadata": {},
     "output_type": "execute_result"
    },
    {
     "data": {
      "image/png": "[encoded data removed]",
      "text/plain": [
       "<Figure size 576x432 with 1 Axes>"
      ]
     },
     "metadata": {},
     "output_type": "display_data"
    }
   ],
   "source": [
    "pd.Series(tweets[\"airline\"]).value_counts().plot(kind = \"bar\",figsize=(8,6),rot = 0)"
   ]
  },
  {
   "cell_type": "code",
   "execution_count": 6,
   "metadata": {},
   "outputs": [
    {
     "data": {
      "text/plain": [
       "<matplotlib.axes._subplots.AxesSubplot at 0x1fa06273cc0>"
      ]
     },
     "execution_count": 6,
     "metadata": {},
     "output_type": "execute_result"
    },
    {
     "data": {
      "image/png": "[encoded data removed]",
      "text/plain": [
       "<Figure size 720x432 with 1 Axes>"
      ]
     },
     "metadata": {},
     "output_type": "display_data"
    }
   ],
   "source": [
    "pd.crosstab(index = tweets[\"airline\"],columns = tweets[\"airline_sentiment\"]).plot(kind='bar',figsize=(10, 6),alpha=0.5,rot=0,stacked=True,title=\"Sentiment by airline\")"
   ]
  },
  {
   "cell_type": "markdown",
   "metadata": {},
   "source": [
    "# Exercise 17.1 \n",
    "\n",
    "Predict the sentiment using CountVectorizer\n",
    "\n",
    "use Random Forest classifier"
   ]
  },
  {
   "cell_type": "code",
   "execution_count": 7,
   "metadata": {},
   "outputs": [],
   "source": [
    "from sklearn.model_selection import train_test_split, cross_val_score\n",
    "from sklearn.feature_extraction.text import CountVectorizer, TfidfVectorizer\n",
    "from sklearn.ensemble import RandomForestClassifier\n",
    "from nltk.stem.snowball import SnowballStemmer\n",
    "from nltk.stem import WordNetLemmatizer"
   ]
  },
  {
   "cell_type": "code",
   "execution_count": 8,
   "metadata": {},
   "outputs": [],
   "source": [
    "X = tweets['text']\n",
    "y = tweets['airline_sentiment'].map({'negative':-1,'neutral':0,'positive':1})"
   ]
  },
  {
   "cell_type": "code",
   "execution_count": 9,
   "metadata": {},
   "outputs": [],
   "source": [
    "from sklearn.model_selection import train_test_split\n",
    "X_train, X_test, y_train, y_test = train_test_split(X, y, test_size=0.5, random_state=42)"
   ]
  },
  {
   "cell_type": "code",
   "execution_count": 10,
   "metadata": {},
   "outputs": [
    {
     "data": {
      "text/plain": [
       "tweet_id\n",
       "568195829238005760    @united makes total sense, except flight wasn'...\n",
       "568385676737167360                                     @JetBlue Thanks!\n",
       "569606135960858624    @AmericanAir I've been trying to change frm AA...\n",
       "569202656486432768    @united great decision making skills flight op...\n",
       "570231750959329280    @JetBlue your blue helped bring out the color ...\n",
       "Name: text, dtype: object"
      ]
     },
     "execution_count": 10,
     "metadata": {},
     "output_type": "execute_result"
    }
   ],
   "source": [
    "X_train.head()"
   ]
  },
  {
   "cell_type": "code",
   "execution_count": 72,
   "metadata": {},
   "outputs": [],
   "source": [
    "# use CountVectorizer to create document-term matrices from X\n",
    "vect = CountVectorizer()\n",
    "X_train_ft = vect.fit_transform(X_train)"
   ]
  },
  {
   "cell_type": "code",
   "execution_count": 73,
   "metadata": {},
   "outputs": [],
   "source": [
    "X_train_ftd=X_train_ft.todense()"
   ]
  },
  {
   "cell_type": "code",
   "execution_count": 74,
   "metadata": {},
   "outputs": [
    {
     "data": {
      "text/plain": [
       "(7320, 10214)"
      ]
     },
     "execution_count": 74,
     "metadata": {},
     "output_type": "execute_result"
    }
   ],
   "source": [
    "X_train_ftd.shape"
   ]
  },
  {
   "cell_type": "code",
   "execution_count": 75,
   "metadata": {},
   "outputs": [
    {
     "data": {
      "text/plain": [
       "matrix([[0, 0, 0, ..., 0, 0, 0],\n",
       "        [0, 0, 0, ..., 0, 0, 0],\n",
       "        [0, 0, 0, ..., 0, 0, 0],\n",
       "        ...,\n",
       "        [0, 0, 0, ..., 0, 0, 0],\n",
       "        [0, 0, 0, ..., 0, 0, 0],\n",
       "        [0, 0, 0, ..., 0, 0, 0]], dtype=int64)"
      ]
     },
     "execution_count": 75,
     "metadata": {},
     "output_type": "execute_result"
    }
   ],
   "source": [
    "X_train_ftd[:,:10]"
   ]
  },
  {
   "cell_type": "code",
   "execution_count": 15,
   "metadata": {},
   "outputs": [
    {
     "data": {
      "text/plain": [
       "{'united': 9506,\n",
       " 'makes': 5874,\n",
       " 'total': 9154,\n",
       " 'sense': 8118,\n",
       " 'except': 3727,\n",
       " 'flight': 4006,\n",
       " 'wasn': 9814,\n",
       " 'full': 4249,\n",
       " 've': 9678,\n",
       " 'got': 4441,\n",
       " 'empty': 3584,\n",
       " 'seats': 8071,\n",
       " 'around': 1564,\n",
       " 'me': 5976,\n",
       " 'amp': 1407,\n",
       " 'overheads': 6749,\n",
       " 'were': 9874,\n",
       " 'more': 6194,\n",
       " 'than': 8942,\n",
       " 'half': 4565,\n",
       " 'open': 6645,\n",
       " 'when': 9896,\n",
       " 'boarded': 1994,\n",
       " 'jetblue': 5265,\n",
       " 'thanks': 8947,\n",
       " 'americanair': 1390,\n",
       " 'been': 1850,\n",
       " 'trying': 9273,\n",
       " 'to': 9110,\n",
       " 'change': 2391,\n",
       " 'frm': 4213,\n",
       " 'aa': 1070,\n",
       " '2401': 377,\n",
       " 'lax': 5537,\n",
       " 'at': 1623,\n",
       " '50am': 724,\n",
       " 'monday': 6173,\n",
       " 'morning': 6196,\n",
       " 'then': 8973,\n",
       " '2586': 396,\n",
       " 'from': 4215,\n",
       " 'fat': 3868,\n",
       " '1359': 138,\n",
       " 'helpaa': 4680,\n",
       " 'great': 4473,\n",
       " 'decision': 3062,\n",
       " 'making': 5877,\n",
       " 'skills': 8320,\n",
       " 'ops': 6664,\n",
       " 'iah': 4893,\n",
       " 'bag': 1756,\n",
       " '10': 38,\n",
       " 'minute': 6114,\n",
       " 'connection': 2735,\n",
       " 'and': 1420,\n",
       " 'don': 3360,\n",
       " 'pushed': 7347,\n",
       " 'early': 3493,\n",
       " 'disappointed': 3245,\n",
       " 'your': 10152,\n",
       " 'blue': 1984,\n",
       " 'helped': 4681,\n",
       " 'bring': 2090,\n",
       " 'out': 6718,\n",
       " 'the': 8958,\n",
       " 'color': 2609,\n",
       " 'of': 6576,\n",
       " 'my': 6262,\n",
       " 'eyes': 3802,\n",
       " 'promise': 7271,\n",
       " 'didn': 3196,\n",
       " 'eat': 3508,\n",
       " 'all': 1338,\n",
       " 'free': 4186,\n",
       " 'snacks': 8385,\n",
       " 'was': 9812,\n",
       " 'flying': 4076,\n",
       " 'today': 9113,\n",
       " 'mty': 6235,\n",
       " 'mex': 6056,\n",
       " '30am': 478,\n",
       " 'but': 2175,\n",
       " 'still': 8605,\n",
       " 'appear': 1501,\n",
       " 'cancelled': 2256,\n",
       " 'where': 9899,\n",
       " 'can': 2251,\n",
       " 'talk': 8856,\n",
       " 'for': 4122,\n",
       " 'another': 1456,\n",
       " 'southwestair': 8460,\n",
       " 'you': 10146,\n",
       " 'officially': 6588,\n",
       " 'have': 4633,\n",
       " 'worst': 10030,\n",
       " 'customer': 2952,\n",
       " 'service': 8138,\n",
       " 'any': 1474,\n",
       " 'airline': 1296,\n",
       " 'ever': 3699,\n",
       " 'dealt': 3046,\n",
       " 'with': 9971,\n",
       " 'southwestairlines': 8461,\n",
       " 'poor': 7094,\n",
       " 'what': 9886,\n",
       " 'do': 3338,\n",
       " 'know': 5447,\n",
       " 'finally': 3948,\n",
       " 'lined': 5646,\n",
       " 'up': 9564,\n",
       " 'like': 5630,\n",
       " 'cattle': 2333,\n",
       " 'board': 1993,\n",
       " 'sw': 8772,\n",
       " 'after': 1251,\n",
       " 'original': 6689,\n",
       " 'departure': 3125,\n",
       " 'time': 9069,\n",
       " 'badcustomerservice': 1746,\n",
       " 'thnx': 9009,\n",
       " 'usairways': 9613,\n",
       " 'ok': 6598,\n",
       " 'she': 8188,\n",
       " 'is': 5167,\n",
       " 'worried': 10026,\n",
       " 'that': 8955,\n",
       " 'something': 8428,\n",
       " 'wrong': 10065,\n",
       " '1870': 248,\n",
       " 'should': 8226,\n",
       " 'consider': 2741,\n",
       " 'earlier': 3491,\n",
       " 'please': 7052,\n",
       " 'pray': 7149,\n",
       " 'us': 9586,\n",
       " 'our': 6713,\n",
       " 'gear': 4319,\n",
       " 'not': 6482,\n",
       " 'lost': 5761,\n",
       " 'or': 6672,\n",
       " 'stolen': 8620,\n",
       " 'due': 3453,\n",
       " 'incompetent': 4999,\n",
       " 'employees': 3582,\n",
       " 'cnn': 2575,\n",
       " 'abcnews': 1118,\n",
       " 'msnbc': 6227,\n",
       " 'photography': 6973,\n",
       " 'it': 5178,\n",
       " 'cool': 2802,\n",
       " 'told': 9122,\n",
       " 'they': 8989,\n",
       " 'care': 2286,\n",
       " 'either': 3539,\n",
       " 'expected': 3763,\n",
       " 'new': 6371,\n",
       " 'flierfriendly': 4003,\n",
       " 'garbage': 4306,\n",
       " 'just': 5346,\n",
       " 'had': 4556,\n",
       " 'cry': 2917,\n",
       " 'get': 4344,\n",
       " 'attendant': 1640,\n",
       " 'find': 3951,\n",
       " 'place': 7022,\n",
       " 'medical': 5999,\n",
       " 'supplies': 8745,\n",
       " 'limited': 5640,\n",
       " 'overhead': 6748,\n",
       " 'amybruni': 1410,\n",
       " 'directtv': 3232,\n",
       " 'no': 6420,\n",
       " 'oscars': 6700,\n",
       " 'on': 6617,\n",
       " 'direct': 3225,\n",
       " 'tv': 9302,\n",
       " 'this': 9004,\n",
       " 'we': 9839,\n",
       " 'so': 8403,\n",
       " 'looking': 5747,\n",
       " 'forward': 4158,\n",
       " 'devastated': 3177,\n",
       " 'protected': 7294,\n",
       " 'by': 2191,\n",
       " 'gate': 4313,\n",
       " 'agent': 1263,\n",
       " 'kerry': 5396,\n",
       " 'las': 5512,\n",
       " 'also': 1362,\n",
       " 'did': 3195,\n",
       " 'an': 1411,\n",
       " 'excellent': 3726,\n",
       " 'job': 5302,\n",
       " 'getting': 4357,\n",
       " 'destination': 3161,\n",
       " 'mrandyep': 6220,\n",
       " 'weeks': 9861,\n",
       " 'creative': 2889,\n",
       " 'during': 3470,\n",
       " 'run': 7899,\n",
       " 'instructed': 5087,\n",
       " 'shattered': 8186,\n",
       " 'computer': 2694,\n",
       " 'http': 4848,\n",
       " 'co': 2580,\n",
       " 'oaflfr7wxb': 6548,\n",
       " 'hour': 4824,\n",
       " 'delay': 3086,\n",
       " 'because': 1842,\n",
       " 'print': 7218,\n",
       " 'piece': 6992,\n",
       " 'paper': 6822,\n",
       " 'switched': 8799,\n",
       " 'american': 1389,\n",
       " 'airlines': 1300,\n",
       " 'choice': 2476,\n",
       " 'now': 6510,\n",
       " 'am': 1376,\n",
       " 'charged': 2409,\n",
       " '50': 715,\n",
       " 'bags': 1763,\n",
       " 'thought': 9015,\n",
       " 'merged': 6040,\n",
       " 'respond': 7716,\n",
       " 'friend': 4205,\n",
       " 'lisapal': 5655,\n",
       " 'directly': 3230,\n",
       " 'rebooked': 7497,\n",
       " 'tomorrow': 9128,\n",
       " 'failed': 3826,\n",
       " 'put': 7350,\n",
       " 'dl': 3324,\n",
       " 'despite': 3159,\n",
       " 'asking': 1592,\n",
       " 'available': 1675,\n",
       " 'seat': 8064,\n",
       " 'are': 1546,\n",
       " 'going': 4417,\n",
       " 'let': 5590,\n",
       " 'fl382': 3985,\n",
       " 'into': 5131,\n",
       " 'in': 4971,\n",
       " 'bos': 2027,\n",
       " 'soon': 8438,\n",
       " 're': 7463,\n",
       " 'sittin': 8301,\n",
       " 'here': 4695,\n",
       " 'tarmac': 8870,\n",
       " 'waiting': 9781,\n",
       " 'leigh_emery': 5580,\n",
       " 'hear': 4658,\n",
       " 'there': 8978,\n",
       " 'anything': 1480,\n",
       " 'help': 4679,\n",
       " 'ey': 3800,\n",
       " 'offer': 6580,\n",
       " '1024': 46,\n",
       " 'dallas': 2995,\n",
       " 'chance': 2389,\n",
       " 'catching': 2323,\n",
       " '2238': 357,\n",
       " 'boston': 2030,\n",
       " 'need': 6340,\n",
       " 'd6': 2980,\n",
       " 'a15': 1056,\n",
       " 'saturday': 7974,\n",
       " 'mci': 5965,\n",
       " 'clt': 2560,\n",
       " 'heavy': 4670,\n",
       " 'snow': 8392,\n",
       " 'predicted': 7164,\n",
       " 'will': 9939,\n",
       " 'allow': 1347,\n",
       " 'changes': 2394,\n",
       " 'be': 1826,\n",
       " 'reported': 7662,\n",
       " 'police': 7086,\n",
       " 'sexual': 8154,\n",
       " 'assult': 1613,\n",
       " 'sad': 7924,\n",
       " 'cats': 2331,\n",
       " 'missed': 6132,\n",
       " 'their': 8969,\n",
       " 'flights': 4041,\n",
       " 'kept': 5395,\n",
       " 'them': 8970,\n",
       " 'crated': 2880,\n",
       " '30': 468,\n",
       " 'hrs': 4843,\n",
       " 'would': 10046,\n",
       " 'hr': 4841,\n",
       " 'trip': 9244,\n",
       " 'll': 5686,\n",
       " 'never': 6364,\n",
       " 'touch': 9158,\n",
       " 'pets': 6947,\n",
       " 'again': 1256,\n",
       " 'flighting': 4030,\n",
       " 'pushing': 7348,\n",
       " 'next': 6379,\n",
       " 'day': 3027,\n",
       " 'lose': 5755,\n",
       " '150': 155,\n",
       " 'hotel': 4816,\n",
       " 'which': 9906,\n",
       " 'why': 9923,\n",
       " 'same': 7951,\n",
       " 'jokerunning': 5311,\n",
       " 'happened': 4591,\n",
       " 'too': 9139,\n",
       " 'karen': 5367,\n",
       " 'salisbury': 7946,\n",
       " 'amazing': 1381,\n",
       " 'found': 4161,\n",
       " 'daughter': 3022,\n",
       " 'ua1516': 9359,\n",
       " 'made': 5850,\n",
       " 'her': 4692,\n",
       " 'flightled': 4034,\n",
       " 'twice': 9314,\n",
       " 'minutes': 6115,\n",
       " 'automated': 1666,\n",
       " 'questions': 7389,\n",
       " 'phone': 6968,\n",
       " 'goes': 4413,\n",
       " 'busy': 2174,\n",
       " 'signal': 8262,\n",
       " 'virginamerica': 9729,\n",
       " 'book': 2011,\n",
       " 'site': 8297,\n",
       " 'down': 3386,\n",
       " 'travel': 9208,\n",
       " 'stupidly': 8685,\n",
       " 'through': 9030,\n",
       " 'reservations': 7700,\n",
       " 'realize': 7485,\n",
       " 'wife': 9931,\n",
       " 'delayed': 3087,\n",
       " 'very': 9699,\n",
       " 'moment': 6168,\n",
       " 'sure': 8755,\n",
       " 'understand': 9474,\n",
       " 'tweet': 9307,\n",
       " 'its': 5189,\n",
       " '218': 347,\n",
       " 'matters': 5948,\n",
       " 'hell': 4677,\n",
       " 'won': 9995,\n",
       " 'luggage': 5807,\n",
       " 'properly': 7286,\n",
       " 'transferred': 9192,\n",
       " 'facepalm': 3818,\n",
       " 'smh': 8368,\n",
       " '4097': 600,\n",
       " 'dca': 3034,\n",
       " 'bna': 1990,\n",
       " 'worth': 10043,\n",
       " 'maintenance': 5868,\n",
       " 'supposed': 8749,\n",
       " 'leave': 5564,\n",
       " 'sigh': 8258,\n",
       " 'even': 3692,\n",
       " 'dime': 3217,\n",
       " 'tickets': 9053,\n",
       " 'worsttraveldayever': 10041,\n",
       " 'how': 4832,\n",
       " 'long': 5737,\n",
       " 'expect': 3761,\n",
       " 'formal': 4144,\n",
       " 'response': 7720,\n",
       " 'take': 8848,\n",
       " 'bad': 1742,\n",
       " 'nyc': 6541,\n",
       " 'few': 3918,\n",
       " 'ago': 1269,\n",
       " 'thinking': 8998,\n",
       " 'moving': 6214,\n",
       " 'ua3774': 9388,\n",
       " 'two': 9320,\n",
       " 'delays': 3090,\n",
       " 'norfolk': 6472,\n",
       " 'aren': 1549,\n",
       " 'booked': 2012,\n",
       " 'renting': 7642,\n",
       " 'car': 2282,\n",
       " 'keep': 5382,\n",
       " 'checking': 2437,\n",
       " 'first': 3968,\n",
       " 'disney': 3274,\n",
       " 'world': 10022,\n",
       " 'vacation': 9657,\n",
       " 'followed': 4111,\n",
       " 'answer': 1459,\n",
       " 'phones': 6971,\n",
       " 'customerservice': 2955,\n",
       " 'fail': 3824,\n",
       " 'shouldn': 8232,\n",
       " 'scheduled': 8018,\n",
       " 'close': 2547,\n",
       " 'together': 9118,\n",
       " 'reimbursed': 7596,\n",
       " 'costing': 2823,\n",
       " '12': 101,\n",
       " '250': 392,\n",
       " 'most': 6201,\n",
       " 'class': 2519,\n",
       " 'passengers': 6859,\n",
       " 'request': 7677,\n",
       " 'sand': 7957,\n",
       " 'coach': 2581,\n",
       " 'browser': 2111,\n",
       " 'hover': 4831,\n",
       " 'over': 6736,\n",
       " 'intrusive': 5134,\n",
       " 'annoying': 1453,\n",
       " 'fact': 3822,\n",
       " 'wifi': 9934,\n",
       " 'only': 6633,\n",
       " 'works': 10020,\n",
       " 'one': 6622,\n",
       " 'device': 3179,\n",
       " 'sort': 8446,\n",
       " 'much': 6237,\n",
       " 'respect': 7713,\n",
       " 'theacademy': 8960,\n",
       " 'party': 6849,\n",
       " 'hotlanta': 4818,\n",
       " 'x5zqssjtrb': 10083,\n",
       " 'fleet': 3994,\n",
       " 'fleek': 3993,\n",
       " '5kshtue6q0': 798,\n",
       " 'clu5pdprhp': 2561,\n",
       " 'pieces': 6993,\n",
       " 'safely': 7931,\n",
       " 'delivered': 3099,\n",
       " 'home': 4764,\n",
       " 'afternoon': 1253,\n",
       " 'email': 3559,\n",
       " 'confirmation': 2716,\n",
       " 'ticket': 9050,\n",
       " 'credit': 2891,\n",
       " 'card': 2283,\n",
       " 'wait': 9778,\n",
       " 'crazy': 2883,\n",
       " 'chat': 2423,\n",
       " 'furious': 4263,\n",
       " 'firm': 3967,\n",
       " 'disgrace': 3263,\n",
       " 'efforts': 3533,\n",
       " 'zero': 10194,\n",
       " 'protect': 7293,\n",
       " 'alone': 1357,\n",
       " 'night': 6399,\n",
       " 'say': 7989,\n",
       " 'give': 4381,\n",
       " 'number': 6526,\n",
       " 'call': 2234,\n",
       " 'isn': 5171,\n",
       " 'recording': 7525,\n",
       " 'hv': 4883,\n",
       " 'posted': 7120,\n",
       " 'flight424': 4012,\n",
       " 'carsl': 2311,\n",
       " 'comedic': 2622,\n",
       " 'watching': 9825,\n",
       " 'othr': 6707,\n",
       " 'load': 5695,\n",
       " 'if': 4916,\n",
       " 'captain': 2277,\n",
       " 'hours': 4827,\n",
       " 'he': 4647,\n",
       " 'could': 2828,\n",
       " 'fly': 4066,\n",
       " 'consecutive': 2739,\n",
       " 'period': 6932,\n",
       " 'unacceptable': 9449,\n",
       " 'thank': 8943,\n",
       " 'verify': 9694,\n",
       " 'wheelchair': 9892,\n",
       " 'assistance': 1609,\n",
       " 'has': 4619,\n",
       " 'requested': 7678,\n",
       " 'wow': 10053,\n",
       " 'guys': 4539,\n",
       " 'people': 6919,\n",
       " 'love': 5777,\n",
       " 'jet': 5263,\n",
       " 'inefficient': 5032,\n",
       " 'boarding': 1995,\n",
       " 'procedure': 7243,\n",
       " 'reason': 7491,\n",
       " '45': 654,\n",
       " 'mins': 6110,\n",
       " 'plane': 7030,\n",
       " 'hopefully': 4791,\n",
       " 'longer': 5740,\n",
       " 'mercy': 6038,\n",
       " 'playlist': 7048,\n",
       " '11': 74,\n",
       " 'least': 5560,\n",
       " 'helpful': 4683,\n",
       " 'misfortune': 6127,\n",
       " 'apparently': 1499,\n",
       " 'who': 9912,\n",
       " 'current': 2942,\n",
       " 'policy': 7088,\n",
       " 'argue': 1555,\n",
       " 'traveler': 9210,\n",
       " 'ahoy': 1280,\n",
       " 'loyal': 5794,\n",
       " 'allyoucanjetpass': 1355,\n",
       " 'holder': 4752,\n",
       " 'anticipate': 1468,\n",
       " 'havana': 4632,\n",
       " 'cuba': 2933,\n",
       " 'speak': 8476,\n",
       " '2hours': 441,\n",
       " 'hold': 4751,\n",
       " 'work': 10011,\n",
       " 'nogood': 6440,\n",
       " 'send': 8115,\n",
       " 'follow': 4109,\n",
       " 'point': 7078,\n",
       " 'own': 6770,\n",
       " 'however': 4834,\n",
       " 'overseas': 6755,\n",
       " 'bottom': 2040,\n",
       " 'line': 5645,\n",
       " 'feel': 3900,\n",
       " 'as': 1580,\n",
       " 'txt': 9324,\n",
       " '40min': 602,\n",
       " 'sched': 8016,\n",
       " 'dpt': 3399,\n",
       " 'saying': 7991,\n",
       " 'arrived': 1572,\n",
       " 'jfk': 5281,\n",
       " 'late': 5520,\n",
       " 'flightr': 4039,\n",
       " '04': 15,\n",
       " '40': 587,\n",
       " 'umm': 9445,\n",
       " 'hello': 4678,\n",
       " 'tried': 9242,\n",
       " 'log': 5718,\n",
       " 'mail': 5859,\n",
       " 'currently': 2943,\n",
       " 'explanation': 3785,\n",
       " 'safety': 7933,\n",
       " 'back': 1734,\n",
       " '1hr': 282,\n",
       " '30min': 480,\n",
       " 'willing': 9942,\n",
       " 'hang': 4581,\n",
       " 'franchise02': 4171,\n",
       " 'answered': 1460,\n",
       " 'min': 6101,\n",
       " 'yet': 10134,\n",
       " 'always': 1370,\n",
       " 'princess': 7215,\n",
       " 'marathon': 5909,\n",
       " 'way': 9831,\n",
       " 'person': 6939,\n",
       " 'working': 10017,\n",
       " 'entire': 3629,\n",
       " 'security': 8087,\n",
       " 'checkpoint': 2439,\n",
       " 'ewr': 3716,\n",
       " 'company': 2655,\n",
       " 'repeat': 7648,\n",
       " 'actually': 1193,\n",
       " 'use': 9627,\n",
       " 'slight': 8342,\n",
       " 'tweak': 9306,\n",
       " 'return': 7751,\n",
       " 'leaving': 5566,\n",
       " 'til': 9063,\n",
       " 'skip': 8321,\n",
       " 'calling': 2240,\n",
       " 'good': 4427,\n",
       " 'times': 9072,\n",
       " 'vodkatonics': 9747,\n",
       " 'sfo': 8158,\n",
       " 'using': 9635,\n",
       " 'miles': 6095,\n",
       " 'everything': 3705,\n",
       " 'outstanding': 6733,\n",
       " 'make': 5872,\n",
       " 'reservation': 7699,\n",
       " 'rating': 7455,\n",
       " 'southwest': 8459,\n",
       " 'scale': 7999,\n",
       " 'near': 6335,\n",
       " 'mean': 5979,\n",
       " 'sitting': 8302,\n",
       " 'almost': 1356,\n",
       " 'yeah': 10118,\n",
       " 'mait': 5870,\n",
       " 'repair': 7646,\n",
       " 'capt': 2276,\n",
       " 'said': 7938,\n",
       " 'paperwork': 6824,\n",
       " 'formality': 4145,\n",
       " 'forced': 4125,\n",
       " 'check': 2434,\n",
       " 'rudely': 7885,\n",
       " 'returning': 7753,\n",
       " 'cc': 2349,\n",
       " 'reader': 7473,\n",
       " 'doesn': 3347,\n",
       " 'frustrating': 4228,\n",
       " 'frequent': 4195,\n",
       " 'flyer': 4071,\n",
       " 'since': 8282,\n",
       " 'continental': 2770,\n",
       " 'upgrade': 9572,\n",
       " 'equals': 3645,\n",
       " 'paying': 6892,\n",
       " 'top': 9145,\n",
       " 'purchase': 7339,\n",
       " 'definitely': 3074,\n",
       " '25': 391,\n",
       " 'coupon': 2843,\n",
       " 'broken': 2103,\n",
       " 'entertainment': 3627,\n",
       " 'system': 8818,\n",
       " 'seriously': 8133,\n",
       " 'ridiculousness': 7789,\n",
       " 'learncustomerservice': 5556,\n",
       " 'file': 3936,\n",
       " 'complaint': 2678,\n",
       " 'right': 7791,\n",
       " 'department': 3122,\n",
       " 'hi': 4708,\n",
       " 'lga': 5606,\n",
       " 'come': 2621,\n",
       " 'collect': 2603,\n",
       " 'want': 9803,\n",
       " 'cover': 2854,\n",
       " 'taxi': 8874,\n",
       " 'fare': 3857,\n",
       " 'weather': 9847,\n",
       " 'cannot': 2265,\n",
       " 'excuse': 3739,\n",
       " 'awful': 1699,\n",
       " 'summer': 8720,\n",
       " 'omaha': 6614,\n",
       " 'grandmothers': 4462,\n",
       " 'funeral': 4256,\n",
       " 'dont': 3369,\n",
       " 'bother': 2035,\n",
       " 'notify': 6500,\n",
       " 'lot': 5766,\n",
       " 'apply': 1514,\n",
       " 'certificate': 2372,\n",
       " 'per': 6922,\n",
       " 'itinerary': 5184,\n",
       " 'multiple': 6243,\n",
       " 'abused': 1137,\n",
       " 'threatened': 9022,\n",
       " 'lower': 5790,\n",
       " 'cabine': 2213,\n",
       " 'last': 5514,\n",
       " 'yesterday': 10133,\n",
       " 'houston': 4830,\n",
       " 'sao': 7963,\n",
       " 'paulo': 6886,\n",
       " 'needtogethome': 6346,\n",
       " 'typical': 9328,\n",
       " 'caned': 2261,\n",
       " 'ua': 9339,\n",
       " 'fix': 3976,\n",
       " 'crappy': 2876,\n",
       " 'performing': 6929,\n",
       " 'placed': 7023,\n",
       " 'ranked': 7442,\n",
       " 'century': 2366,\n",
       " 'instead': 5085,\n",
       " 'smaller': 8358,\n",
       " 'thinner': 9000,\n",
       " 'jam': 5222,\n",
       " 'concentrate': 2696,\n",
       " 'maint': 5865,\n",
       " 'happy': 4597,\n",
       " 'customers': 2954,\n",
       " 'delaying': 3089,\n",
       " 'onto': 6639,\n",
       " 'reeks': 7549,\n",
       " 'vomit': 9755,\n",
       " 'cleaned': 2530,\n",
       " 'best': 1891,\n",
       " 'part': 6837,\n",
       " 'hearing': 4660,\n",
       " 'voucher': 9758,\n",
       " 'bgr': 1912,\n",
       " 'guy': 4537,\n",
       " 'shrinerack': 8245,\n",
       " 'seattle': 8072,\n",
       " 'bound': 2047,\n",
       " 'wifey': 9933,\n",
       " 'duffle': 3455,\n",
       " 'vday': 9677,\n",
       " 'keeper': 5384,\n",
       " 'holla': 4760,\n",
       " 'jloiblnair': 5296,\n",
       " 'tell': 8902,\n",
       " 'sorry': 8444,\n",
       " 'see': 8090,\n",
       " 'girls': 4378,\n",
       " 'inspired': 5078,\n",
       " 'become': 1843,\n",
       " 'pilots': 6999,\n",
       " 'rt': 7875,\n",
       " 'woaw': 9991,\n",
       " 'event': 3695,\n",
       " 'march': 5910,\n",
       " 'abq': 1128,\n",
       " 'rfxlv1kgdh': 7774,\n",
       " 'mikehertz7': 6087,\n",
       " 'gmail': 4404,\n",
       " 'com': 2615,\n",
       " 'worry': 10028,\n",
       " 'anywhere': 1484,\n",
       " 'damn': 3003,\n",
       " 'bit': 1939,\n",
       " 'julesdameron': 5336,\n",
       " 'considering': 2746,\n",
       " 'accessibility': 1148,\n",
       " 'absolute': 1130,\n",
       " 'must': 6254,\n",
       " 'equality': 3642,\n",
       " 'heart': 4661,\n",
       " 'received': 7506,\n",
       " 'error': 3656,\n",
       " 'online': 6632,\n",
       " 'completely': 2682,\n",
       " 'amazingly': 1383,\n",
       " 'awesome': 1697,\n",
       " 'agents': 1264,\n",
       " 'tonight': 9136,\n",
       " 'helping': 4685,\n",
       " 'correct': 2813,\n",
       " 'mistake': 6141,\n",
       " 'plans': 7035,\n",
       " 'until': 9554,\n",
       " 'tuesday': 9288,\n",
       " 'crash': 2877,\n",
       " 'heavenlychc9': 4668,\n",
       " 'enjoy': 3607,\n",
       " 'cocktail': 2589,\n",
       " 'guess': 4523,\n",
       " 'ashley': 1586,\n",
       " 'doing': 3351,\n",
       " 'presenting': 7188,\n",
       " 'ragandisney': 7425,\n",
       " '5znmwxdi9u': 808,\n",
       " 'denver': 3114,\n",
       " 'impressions': 4961,\n",
       " 'hard': 4608,\n",
       " 'reverse': 7763,\n",
       " 'horrible': 4802,\n",
       " 'experience': 3774,\n",
       " '20': 303,\n",
       " 'cust': 2949,\n",
       " '4781': 687,\n",
       " '5102newflight': 733,\n",
       " 'upset': 9580,\n",
       " 'rented': 7641,\n",
       " 'honest': 4771,\n",
       " 'funny': 4260,\n",
       " 'pass': 6854,\n",
       " 'priority': 7225,\n",
       " 'clearly': 2535,\n",
       " 'dontflythem': 3370,\n",
       " 'baggage': 1759,\n",
       " 'question': 7388,\n",
       " '60': 809,\n",
       " 'limit': 5639,\n",
       " 'amount': 1405,\n",
       " 'internationally': 5119,\n",
       " 'sympathy': 8811,\n",
       " 'such': 8699,\n",
       " 'bummer': 2147,\n",
       " 'go': 4409,\n",
       " 'funerals': 4257,\n",
       " 'friends': 4210,\n",
       " 'bc': 1818,\n",
       " 'already': 1360,\n",
       " 'planning': 7034,\n",
       " 'local': 5705,\n",
       " 'boycott': 2051,\n",
       " 'washington': 9813,\n",
       " 'area': 1547,\n",
       " 'fine': 3954,\n",
       " 'plundering': 7068,\n",
       " 'earned': 3495,\n",
       " 'dollars': 3355,\n",
       " '5012': 718,\n",
       " '5559': 758,\n",
       " 'yyc': 10183,\n",
       " 'providing': 7307,\n",
       " 'food': 4114,\n",
       " 'allowed': 1350,\n",
       " 'lightbulb': 5625,\n",
       " 'kinda': 5419,\n",
       " 'worries': 10027,\n",
       " 'stuck': 8672,\n",
       " 'landing': 5499,\n",
       " 'crew': 2895,\n",
       " 'unable': 9448,\n",
       " 'figure': 3934,\n",
       " 'able': 1122,\n",
       " 'locate': 5708,\n",
       " 'insane': 5070,\n",
       " 'trust': 9264,\n",
       " 'pay': 6889,\n",
       " 'look': 5743,\n",
       " 'things': 8995,\n",
       " 'ty': 9325,\n",
       " 'says': 7992,\n",
       " 'note': 6485,\n",
       " 'subscription': 8693,\n",
       " 'warm': 9808,\n",
       " 'cause': 2336,\n",
       " 'freezing': 4191,\n",
       " 'nothing': 6493,\n",
       " 'whole': 9915,\n",
       " 'extra': 3797,\n",
       " 'suitcase': 8716,\n",
       " 'pound': 7129,\n",
       " 'cleveland': 2537,\n",
       " 'possible': 7117,\n",
       " 'waited': 9779,\n",
       " 'albany': 1325,\n",
       " 'eta': 3676,\n",
       " '802': 957,\n",
       " 'orlando': 6693,\n",
       " 'aaaand': 1102,\n",
       " '6am': 867,\n",
       " 'airport': 1305,\n",
       " 'snowstorm': 8399,\n",
       " 'patience': 6874,\n",
       " 'letting': 5599,\n",
       " 'select': 8104,\n",
       " 'city': 2506,\n",
       " 'strange': 8643,\n",
       " 'some': 8424,\n",
       " 'fairs': 3836,\n",
       " 'normal': 6475,\n",
       " 'wsj': 10071,\n",
       " 'team': 8886,\n",
       " 'access': 1147,\n",
       " 'journal': 5317,\n",
       " 'digital': 3213,\n",
       " '2nzh3qoazo': 455,\n",
       " 'special': 8479,\n",
       " 'fares': 3860,\n",
       " 'students': 8678,\n",
       " 'visit': 9735,\n",
       " 'prospective': 7292,\n",
       " 'schools': 8025,\n",
       " 'expensive': 3772,\n",
       " 'graduate': 4456,\n",
       " 'programs': 7264,\n",
       " 'customary': 2951,\n",
       " 'uniform': 9503,\n",
       " 'vs': 9764,\n",
       " '1b': 274,\n",
       " 'flt': 4056,\n",
       " '1020': 45,\n",
       " 'ezemanalyst': 3804,\n",
       " 'canned': 2264,\n",
       " 'impersonal': 4953,\n",
       " 'responses': 7721,\n",
       " 'though': 9014,\n",
       " 'impatient': 4952,\n",
       " 'saysorrychris': 7993,\n",
       " 'quick': 7392,\n",
       " 'dm': 3327,\n",
       " 'mention': 6032,\n",
       " 'silver': 8272,\n",
       " 'preferred': 7171,\n",
       " 'member': 6021,\n",
       " 'every': 3702,\n",
       " 'week': 9858,\n",
       " 'meal': 5977,\n",
       " 'unbelievable': 9457,\n",
       " 'days': 3028,\n",
       " 'confirm': 2715,\n",
       " 'usxlon': 9641,\n",
       " '21': 334,\n",
       " '22': 350,\n",
       " 'baltimore': 1776,\n",
       " 'delta': 3103,\n",
       " 'laps': 5506,\n",
       " 'laughing': 5526,\n",
       " 'about': 1126,\n",
       " 'ridiculous': 7788,\n",
       " 'flighted': 4027,\n",
       " 'further': 4265,\n",
       " 'compensation': 2666,\n",
       " 'park': 6831,\n",
       " 'given': 4382,\n",
       " 'option': 6667,\n",
       " 'phl': 6963,\n",
       " 'mia': 6067,\n",
       " '20years': 332,\n",
       " 'eventprof': 3696,\n",
       " 'regards': 7581,\n",
       " 'update': 9567,\n",
       " 'connect': 2731,\n",
       " 'term': 8913,\n",
       " '55min': 762,\n",
       " 'layover': 5540,\n",
       " 'us755': 9603,\n",
       " 'aa2595': 1087,\n",
       " 'realistic': 7483,\n",
       " '2595': 397,\n",
       " 'held': 4676,\n",
       " 'contd': 2765,\n",
       " 'being': 1869,\n",
       " 'refund': 7566,\n",
       " 'used': 9628,\n",
       " 'reply': 7659,\n",
       " 'nonrefundable': 6458,\n",
       " 'hence': 4690,\n",
       " 'wrote': 10068,\n",
       " '200': 304,\n",
       " 'nothanks': 6489,\n",
       " 'stop': 8624,\n",
       " 'sending': 8116,\n",
       " 'relations': 7606,\n",
       " 'hand': 4569,\n",
       " 'written': 10064,\n",
       " 'letter': 5597,\n",
       " 'called': 2237,\n",
       " 'showexpert': 8239,\n",
       " 'mileage': 6091,\n",
       " 'program': 7262,\n",
       " '500': 716,\n",
       " 'fraction': 4168,\n",
       " 'pqd': 7138,\n",
       " 'someone': 8427,\n",
       " 'changed': 2392,\n",
       " 'different': 3206,\n",
       " '1st': 295,\n",
       " 'grader': 4454,\n",
       " 'school': 8023,\n",
       " 'science': 8026,\n",
       " 'fair': 3833,\n",
       " 'project': 7267,\n",
       " 'loves': 5783,\n",
       " 'bayepzkmiz': 1813,\n",
       " 'rdu': 7462,\n",
       " 'clever': 2538,\n",
       " 'clear': 2532,\n",
       " '94': 1021,\n",
       " 'counting': 2836,\n",
       " 'flex': 3996,\n",
       " 'workforces': 10016,\n",
       " 'highly': 4720,\n",
       " '2015': 311,\n",
       " '325': 495,\n",
       " 'absurd': 1134,\n",
       " 'provide': 7301,\n",
       " 'credits': 2894,\n",
       " 'e09kej9bv1': 3481,\n",
       " 'less': 5587,\n",
       " 'youre': 10154,\n",
       " 'without': 9974,\n",
       " 'ive': 5195,\n",
       " 'stories': 8630,\n",
       " 'destinationdragons': 3163,\n",
       " 'die': 3198,\n",
       " 'happiness': 4596,\n",
       " 'terminal': 8914,\n",
       " 'between': 1902,\n",
       " '8pm': 1000,\n",
       " 'unfortunate': 9494,\n",
       " 'incident': 4986,\n",
       " 'discrimination': 3261,\n",
       " 'experienced': 3775,\n",
       " 'placing': 7025,\n",
       " 'blame': 1956,\n",
       " 'codeshare': 2593,\n",
       " 'partners': 6847,\n",
       " 'assuming': 1616,\n",
       " 'responsibility': 7722,\n",
       " 'pbpinftworth': 6897,\n",
       " 'iphone': 5152,\n",
       " '64gb': 846,\n",
       " 'plus': 7069,\n",
       " 'off': 6577,\n",
       " 'failure': 3831,\n",
       " 'ensuring': 3618,\n",
       " 'russellswriting': 7911,\n",
       " 'russ': 7909,\n",
       " 'contact': 2759,\n",
       " '800': 953,\n",
       " '433': 630,\n",
       " ...}"
      ]
     },
     "execution_count": 15,
     "metadata": {},
     "output_type": "execute_result"
    }
   ],
   "source": [
    "vect.vocabulary_"
   ]
  },
  {
   "cell_type": "code",
   "execution_count": 76,
   "metadata": {},
   "outputs": [
    {
     "data": {
      "text/plain": [
       "(7320, 10214)"
      ]
     },
     "execution_count": 76,
     "metadata": {},
     "output_type": "execute_result"
    }
   ],
   "source": [
    "# rows are documents, columns are terms (aka \"tokens\" or \"features\")\n",
    "X_train_ftd.shape"
   ]
  },
  {
   "cell_type": "code",
   "execution_count": 77,
   "metadata": {},
   "outputs": [
    {
     "data": {
      "text/plain": [
       "(7320,)"
      ]
     },
     "execution_count": 77,
     "metadata": {},
     "output_type": "execute_result"
    }
   ],
   "source": [
    "y_train.shape"
   ]
  },
  {
   "cell_type": "code",
   "execution_count": 78,
   "metadata": {},
   "outputs": [],
   "source": [
    "from sklearn.ensemble import RandomForestClassifier\n",
    "clf = RandomForestClassifier()"
   ]
  },
  {
   "cell_type": "code",
   "execution_count": 79,
   "metadata": {},
   "outputs": [
    {
     "data": {
      "text/plain": [
       "count    10.000000\n",
       "mean      0.716112\n",
       "std       0.012977\n",
       "min       0.695355\n",
       "25%       0.711551\n",
       "50%       0.713310\n",
       "75%       0.718633\n",
       "max       0.738063\n",
       "dtype: float64"
      ]
     },
     "execution_count": 79,
     "metadata": {},
     "output_type": "execute_result"
    }
   ],
   "source": [
    "pd.Series(cross_val_score(clf, X_train_ftd, y_train, cv=10)).describe()"
   ]
  },
  {
   "cell_type": "code",
   "execution_count": 80,
   "metadata": {},
   "outputs": [],
   "source": [
    "# list of values to try for n_estimators\n",
    "estimator_range = range(10, 200, 20)\n",
    "\n",
    "# list to store the average Accuracy for each value of n_estimators\n",
    "accuracy_scores = []\n",
    "\n",
    "# use 5-fold cross-validation with each value of n_estimators (WARNING: SLOW!)\n",
    "for estimator in estimator_range:\n",
    "    clf = RandomForestClassifier(n_estimators=estimator, random_state=1, n_jobs=-1)\n",
    "    accuracy_scores.append(cross_val_score(clf, X_train_ftd, y_train, cv=5, scoring='accuracy').mean())"
   ]
  },
  {
   "cell_type": "code",
   "execution_count": 81,
   "metadata": {},
   "outputs": [
    {
     "data": {
      "text/plain": [
       "Text(0,0.5,'Accuracy')"
      ]
     },
     "execution_count": 81,
     "metadata": {},
     "output_type": "execute_result"
    },
    {
     "data": {
      "image/png": "[encoded data removed]",
      "text/plain": [
       "<Figure size 432x288 with 1 Axes>"
      ]
     },
     "metadata": {},
     "output_type": "display_data"
    }
   ],
   "source": [
    "plt.plot(estimator_range, accuracy_scores)\n",
    "plt.xlabel('n_estimators')\n",
    "plt.ylabel('Accuracy')"
   ]
  },
  {
   "cell_type": "code",
   "execution_count": 82,
   "metadata": {},
   "outputs": [
    {
     "name": "stdout",
     "output_type": "stream",
     "text": [
      "[0.7155705305781489, 0.7370212450978734, 0.7405705447379417, 0.740434027497399, 0.7407091184651377, 0.7400259651053211, 0.7413920860892946, 0.741663722577871, 0.7409803819516068, 0.7402985348645605]\n"
     ]
    }
   ],
   "source": [
    "print(accuracy_scores)"
   ]
  },
  {
   "cell_type": "markdown",
   "metadata": {},
   "source": [
    "##### Pronostico y evaluación del accuracy"
   ]
  },
  {
   "cell_type": "code",
   "execution_count": 83,
   "metadata": {},
   "outputs": [
    {
     "data": {
      "text/plain": [
       "(7320, 10035)"
      ]
     },
     "execution_count": 83,
     "metadata": {},
     "output_type": "execute_result"
    }
   ],
   "source": [
    "X_test_ft = vect.fit_transform(X_test)\n",
    "X_test_ftd=X_test_ft.todense()\n",
    "X_test_ftd.shape"
   ]
  },
  {
   "cell_type": "code",
   "execution_count": 84,
   "metadata": {},
   "outputs": [
    {
     "data": {
      "text/plain": [
       "matrix([[0, 0, 0, ..., 0, 0, 0],\n",
       "        [0, 0, 0, ..., 0, 0, 0],\n",
       "        [0, 0, 0, ..., 0, 0, 0],\n",
       "        ...,\n",
       "        [0, 0, 0, ..., 0, 0, 0],\n",
       "        [0, 0, 0, ..., 0, 0, 0],\n",
       "        [0, 0, 0, ..., 0, 0, 0]], dtype=int64)"
      ]
     },
     "execution_count": 84,
     "metadata": {},
     "output_type": "execute_result"
    }
   ],
   "source": [
    "X_test_ftd[:,:10]"
   ]
  },
  {
   "cell_type": "code",
   "execution_count": 85,
   "metadata": {},
   "outputs": [
    {
     "data": {
      "text/plain": [
       "tweet_id\n",
       "569731104070115329    1\n",
       "569263373092823040   -1\n",
       "568818669024907264   -1\n",
       "567775864679456768    0\n",
       "568526521910079488   -1\n",
       "Name: airline_sentiment, dtype: int64"
      ]
     },
     "execution_count": 85,
     "metadata": {},
     "output_type": "execute_result"
    }
   ],
   "source": [
    "y_test.head(5)"
   ]
  },
  {
   "cell_type": "code",
   "execution_count": 86,
   "metadata": {},
   "outputs": [
    {
     "data": {
      "text/plain": [
       "count    10.000000\n",
       "mean      0.752464\n",
       "std       0.007917\n",
       "min       0.739427\n",
       "25%       0.747777\n",
       "50%       0.753246\n",
       "75%       0.756396\n",
       "max       0.766074\n",
       "dtype: float64"
      ]
     },
     "execution_count": 86,
     "metadata": {},
     "output_type": "execute_result"
    }
   ],
   "source": [
    "clf.fit(X_test_ftd, y_test)\n",
    "pd.Series(cross_val_score(clf, X_test_ftd, y_test, cv=10)).describe()"
   ]
  },
  {
   "cell_type": "markdown",
   "metadata": {},
   "source": [
    "# Exercise 17.2 \n",
    "\n",
    "Remove stopwords, then predict the sentiment using CountVectorizer.\n",
    "\n",
    "use Random Forest classifier"
   ]
  },
  {
   "cell_type": "code",
   "execution_count": 48,
   "metadata": {},
   "outputs": [],
   "source": [
    "# remove English stop words\n",
    "vect = CountVectorizer(stop_words='english')"
   ]
  },
  {
   "cell_type": "code",
   "execution_count": 49,
   "metadata": {},
   "outputs": [],
   "source": [
    "# use CountVectorizer to create document-term matrices from X\n",
    "X_train_ft = vect.fit_transform(X_train)\n",
    "X_train_ftd=X_train_ft.todense()"
   ]
  },
  {
   "cell_type": "code",
   "execution_count": 50,
   "metadata": {},
   "outputs": [
    {
     "data": {
      "text/plain": [
       "(7320, 9940)"
      ]
     },
     "execution_count": 50,
     "metadata": {},
     "output_type": "execute_result"
    }
   ],
   "source": [
    "X_train_ftd.shape"
   ]
  },
  {
   "cell_type": "code",
   "execution_count": 51,
   "metadata": {},
   "outputs": [],
   "source": [
    "clf = RandomForestClassifier(n_estimators=100, random_state=1, n_jobs=-1)\n",
    "accuracy_scores=cross_val_score(clf, X_train_ftd, y_train, cv=5, scoring='accuracy').mean()"
   ]
  },
  {
   "cell_type": "code",
   "execution_count": 52,
   "metadata": {},
   "outputs": [
    {
     "name": "stdout",
     "output_type": "stream",
     "text": [
      "0.7342932024652123\n"
     ]
    }
   ],
   "source": [
    "print(accuracy_scores)"
   ]
  },
  {
   "cell_type": "code",
   "execution_count": 56,
   "metadata": {},
   "outputs": [
    {
     "data": {
      "text/plain": [
       "(7320, 9766)"
      ]
     },
     "execution_count": 56,
     "metadata": {},
     "output_type": "execute_result"
    }
   ],
   "source": [
    "X_test_ft = vect.fit_transform(X_test)\n",
    "X_test_ftd=X_test_ft.todense()\n",
    "X_test_ftd.shape"
   ]
  },
  {
   "cell_type": "code",
   "execution_count": 57,
   "metadata": {},
   "outputs": [
    {
     "data": {
      "text/plain": [
       "count    10.000000\n",
       "mean      0.745081\n",
       "std       0.014713\n",
       "min       0.726402\n",
       "25%       0.738063\n",
       "50%       0.741121\n",
       "75%       0.755123\n",
       "max       0.772914\n",
       "dtype: float64"
      ]
     },
     "execution_count": 57,
     "metadata": {},
     "output_type": "execute_result"
    }
   ],
   "source": [
    "clf.fit(X_test_ftd, y_test)\n",
    "pd.Series(cross_val_score(clf, X_test_ftd, y_test, cv=10)).describe()"
   ]
  },
  {
   "cell_type": "markdown",
   "metadata": {},
   "source": [
    "# Exercise 17.3\n",
    "\n",
    "Increase n_grams size (with and without stopwords),  then predict the sentiment using CountVectorizer\n",
    "\n",
    "use Random Forest classifier"
   ]
  },
  {
   "cell_type": "markdown",
   "metadata": {},
   "source": [
    " ### n gramas de 1 a 3 es suficiente"
   ]
  },
  {
   "cell_type": "code",
   "execution_count": 14,
   "metadata": {},
   "outputs": [
    {
     "data": {
      "text/plain": [
       "CountVectorizer(analyzer='word', binary=False, decode_error='strict',\n",
       "        dtype=<class 'numpy.int64'>, encoding='utf-8', input='content',\n",
       "        lowercase=True, max_df=1.0, max_features=None, min_df=1,\n",
       "        ngram_range=(1, 1), preprocessor=None, stop_words=None,\n",
       "        strip_accents=None, token_pattern='(?u)\\\\b\\\\w\\\\w+\\\\b',\n",
       "        tokenizer=None, vocabulary=None)"
      ]
     },
     "execution_count": 14,
     "metadata": {},
     "output_type": "execute_result"
    }
   ],
   "source": [
    "CountVectorizer()"
   ]
  },
  {
   "cell_type": "code",
   "execution_count": 42,
   "metadata": {},
   "outputs": [],
   "source": [
    "# include 1-grams and 2-grams, and only include terms that appear at least 2 times\n",
    "vect = CountVectorizer(stop_words='english',ngram_range=(1, 3), max_features=30000)"
   ]
  },
  {
   "cell_type": "code",
   "execution_count": 43,
   "metadata": {},
   "outputs": [
    {
     "data": {
      "text/plain": [
       "(7320, 30000)"
      ]
     },
     "execution_count": 43,
     "metadata": {},
     "output_type": "execute_result"
    }
   ],
   "source": [
    "# use CountVectorizer to create document-term matrices from X\n",
    "X_train_ft = vect.fit_transform(X_train)\n",
    "X_train_ft.shape\n",
    "\n",
    "#X_train_ftd=X_train_ft.todense()"
   ]
  },
  {
   "cell_type": "code",
   "execution_count": 44,
   "metadata": {},
   "outputs": [],
   "source": [
    "clf = RandomForestClassifier(n_estimators=100, random_state=1, n_jobs=-1)\n",
    "accuracy_scores=cross_val_score(clf, X_train_ft, y_train, cv=5, scoring='accuracy').mean()"
   ]
  },
  {
   "cell_type": "code",
   "execution_count": 45,
   "metadata": {},
   "outputs": [
    {
     "name": "stdout",
     "output_type": "stream",
     "text": [
      "0.7299232034074125\n"
     ]
    }
   ],
   "source": [
    "print(accuracy_scores)"
   ]
  },
  {
   "cell_type": "code",
   "execution_count": 46,
   "metadata": {},
   "outputs": [
    {
     "data": {
      "text/plain": [
       "(7320, 30000)"
      ]
     },
     "execution_count": 46,
     "metadata": {},
     "output_type": "execute_result"
    }
   ],
   "source": [
    "X_test_ft = vect.fit_transform(X_test)\n",
    "X_test_ftd=X_test_ft.todense()\n",
    "X_test_ftd.shape"
   ]
  },
  {
   "cell_type": "code",
   "execution_count": 47,
   "metadata": {},
   "outputs": [
    {
     "data": {
      "text/plain": [
       "count    10.000000\n",
       "mean      0.748907\n",
       "std       0.011164\n",
       "min       0.727770\n",
       "25%       0.742321\n",
       "50%       0.750000\n",
       "75%       0.757011\n",
       "max       0.766074\n",
       "dtype: float64"
      ]
     },
     "execution_count": 47,
     "metadata": {},
     "output_type": "execute_result"
    }
   ],
   "source": [
    "clf.fit(X_test_ftd, y_test)\n",
    "pd.Series(cross_val_score(clf, X_test_ftd, y_test, cv=10)).describe()"
   ]
  },
  {
   "cell_type": "markdown",
   "metadata": {},
   "source": [
    "# Exercise 17.4\n",
    "\n",
    "Predict the sentiment using TfidfVectorizer.\n",
    "\n",
    "use Random Forest classifier"
   ]
  },
  {
   "cell_type": "code",
   "execution_count": 50,
   "metadata": {},
   "outputs": [],
   "source": [
    "# TfidfVectorizer\n",
    "vect = TfidfVectorizer(stop_words='english', ngram_range=(1, 3), max_features=30000)\n",
    "X_train_ftd=pd.DataFrame(vect.fit_transform(X_train).toarray(), columns=vect.get_feature_names())"
   ]
  },
  {
   "cell_type": "code",
   "execution_count": 51,
   "metadata": {},
   "outputs": [
    {
     "data": {
      "text/plain": [
       "(7320, 30000)"
      ]
     },
     "execution_count": 51,
     "metadata": {},
     "output_type": "execute_result"
    }
   ],
   "source": [
    "X_train_ftd.shape"
   ]
  },
  {
   "cell_type": "code",
   "execution_count": 52,
   "metadata": {},
   "outputs": [],
   "source": [
    "clf = RandomForestClassifier(n_estimators=100, random_state=1, n_jobs=-1)\n",
    "accuracy_scores=cross_val_score(clf, X_train_ftd, y_train, cv=5, scoring='accuracy').mean()"
   ]
  },
  {
   "cell_type": "code",
   "execution_count": 53,
   "metadata": {},
   "outputs": [
    {
     "name": "stdout",
     "output_type": "stream",
     "text": [
      "0.7292352850859954\n"
     ]
    }
   ],
   "source": [
    "print(accuracy_scores)"
   ]
  },
  {
   "cell_type": "code",
   "execution_count": 54,
   "metadata": {},
   "outputs": [
    {
     "data": {
      "text/plain": [
       "(7320, 30000)"
      ]
     },
     "execution_count": 54,
     "metadata": {},
     "output_type": "execute_result"
    }
   ],
   "source": [
    "X_test_ftd=pd.DataFrame(vect.fit_transform(X_test).toarray(), columns=vect.get_feature_names())\n",
    "X_test_ftd.shape"
   ]
  },
  {
   "cell_type": "code",
   "execution_count": 55,
   "metadata": {},
   "outputs": [
    {
     "data": {
      "text/plain": [
       "count    10.000000\n",
       "mean      0.741118\n",
       "std       0.012351\n",
       "min       0.727770\n",
       "25%       0.732856\n",
       "50%       0.736340\n",
       "75%       0.747357\n",
       "max       0.763984\n",
       "dtype: float64"
      ]
     },
     "execution_count": 55,
     "metadata": {},
     "output_type": "execute_result"
    }
   ],
   "source": [
    "clf.fit(X_test_ftd, y_test)\n",
    "pd.Series(cross_val_score(clf, X_test_ftd, y_test, cv=10)).describe()"
   ]
  },
  {
   "cell_type": "markdown",
   "metadata": {},
   "source": [
    " #### En general no existen grandes cambios en la precisión de los modelos (entre 74% y 75%) , ni en los tiempos de ejecución de los mismos"
   ]
  }
 ],
 "metadata": {
  "kernelspec": {
   "display_name": "Python 3",
   "language": "python",
   "name": "python3"
  },
  "language_info": {
   "codemirror_mode": {
    "name": "ipython",
    "version": 3
   },
   "file_extension": ".py",
   "mimetype": "text/x-python",
   "name": "python",
   "nbconvert_exporter": "python",
   "pygments_lexer": "ipython3",
   "version": "3.6.5"
  }
 },
 "nbformat": 4,
 "nbformat_minor": 2
}
